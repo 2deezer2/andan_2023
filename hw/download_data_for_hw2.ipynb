{
 "cells": [
  {
   "cell_type": "markdown",
   "metadata": {},
   "source": [
    "# Технический скрипт для домашки 2\n",
    "\n",
    "Скачиваем данные о ценных бумагах. \n",
    "\n",
    "```\n",
    "pip install yfinance\n",
    "```"
   ]
  },
  {
   "cell_type": "code",
   "execution_count": 2,
   "metadata": {},
   "outputs": [],
   "source": [
    "import pandas as pd\n",
    "import re\n",
    "\n",
    "# компании из индекса \n",
    "df = pd.read_html('http://en.wikipedia.org/wiki/List_of_S%26P_500_companies')[0]\n",
    "tickers_sp = list(df.Symbol.values)"
   ]
  },
  {
   "cell_type": "code",
   "execution_count": 14,
   "metadata": {},
   "outputs": [],
   "source": [
    "df2 = pd.read_html('https://en.wikipedia.org/wiki/NASDAQ-100')[4]\n",
    "tickers_nasdaq = list(df2.Ticker.values)"
   ]
  },
  {
   "cell_type": "code",
   "execution_count": 15,
   "metadata": {},
   "outputs": [],
   "source": [
    "df3 = pd.read_html('https://en.wikipedia.org/wiki/Dow_Jones_Industrial_Average')[1]\n",
    "tickers_dji = list(df3.Symbol.str.split(':').apply(lambda w: re.sub('\\xa0', '', w[-1])).values)"
   ]
  },
  {
   "cell_type": "code",
   "execution_count": 16,
   "metadata": {},
   "outputs": [
    {
     "data": {
      "text/plain": [
       "523"
      ]
     },
     "execution_count": 16,
     "metadata": {},
     "output_type": "execute_result"
    }
   ],
   "source": [
    "tickers = list(set(tickers_sp + tickers_nasdaq + tickers_dji))\n",
    "len(tickers)"
   ]
  },
  {
   "cell_type": "code",
   "execution_count": 17,
   "metadata": {},
   "outputs": [
    {
     "name": "stdout",
     "output_type": "stream",
     "text": [
      "[*********************100%***********************]  523 of 523 completed\n",
      "\n",
      "2 Failed downloads:\n",
      "- BF.B: No data found for this date range, symbol may be delisted\n",
      "- BRK.B: No timezone found, symbol may be delisted\n"
     ]
    }
   ],
   "source": [
    "import yfinance as yf\n",
    "import datetime\n",
    "\n",
    "start = datetime.datetime(2013,3,5)\n",
    "end = datetime.datetime(2023,3,5)\n",
    "data = yf.download(tickers, start=start, end=end)"
   ]
  },
  {
   "cell_type": "code",
   "execution_count": 18,
   "metadata": {},
   "outputs": [
    {
     "data": {
      "text/html": [
       "<div>\n",
       "<style scoped>\n",
       "    .dataframe tbody tr th:only-of-type {\n",
       "        vertical-align: middle;\n",
       "    }\n",
       "\n",
       "    .dataframe tbody tr th {\n",
       "        vertical-align: top;\n",
       "    }\n",
       "\n",
       "    .dataframe thead th {\n",
       "        text-align: right;\n",
       "    }\n",
       "</style>\n",
       "<table border=\"1\" class=\"dataframe\">\n",
       "  <thead>\n",
       "    <tr style=\"text-align: right;\">\n",
       "      <th></th>\n",
       "      <th>A</th>\n",
       "      <th>AAL</th>\n",
       "      <th>AAP</th>\n",
       "      <th>AAPL</th>\n",
       "      <th>ABBV</th>\n",
       "      <th>ABC</th>\n",
       "      <th>ABNB</th>\n",
       "      <th>ABT</th>\n",
       "      <th>ACGL</th>\n",
       "      <th>ACN</th>\n",
       "      <th>...</th>\n",
       "      <th>XOM</th>\n",
       "      <th>XRAY</th>\n",
       "      <th>XYL</th>\n",
       "      <th>YUM</th>\n",
       "      <th>ZBH</th>\n",
       "      <th>ZBRA</th>\n",
       "      <th>ZION</th>\n",
       "      <th>ZM</th>\n",
       "      <th>ZS</th>\n",
       "      <th>ZTS</th>\n",
       "    </tr>\n",
       "    <tr>\n",
       "      <th>Date</th>\n",
       "      <th></th>\n",
       "      <th></th>\n",
       "      <th></th>\n",
       "      <th></th>\n",
       "      <th></th>\n",
       "      <th></th>\n",
       "      <th></th>\n",
       "      <th></th>\n",
       "      <th></th>\n",
       "      <th></th>\n",
       "      <th></th>\n",
       "      <th></th>\n",
       "      <th></th>\n",
       "      <th></th>\n",
       "      <th></th>\n",
       "      <th></th>\n",
       "      <th></th>\n",
       "      <th></th>\n",
       "      <th></th>\n",
       "      <th></th>\n",
       "      <th></th>\n",
       "    </tr>\n",
       "  </thead>\n",
       "  <tbody>\n",
       "    <tr>\n",
       "      <th>2023-02-27 00:00:00</th>\n",
       "      <td>142.179993</td>\n",
       "      <td>15.630000</td>\n",
       "      <td>140.630005</td>\n",
       "      <td>147.919998</td>\n",
       "      <td>154.279999</td>\n",
       "      <td>156.630005</td>\n",
       "      <td>123.529999</td>\n",
       "      <td>99.769997</td>\n",
       "      <td>69.209999</td>\n",
       "      <td>266.250000</td>\n",
       "      <td>...</td>\n",
       "      <td>110.550003</td>\n",
       "      <td>34.549999</td>\n",
       "      <td>102.550003</td>\n",
       "      <td>126.570000</td>\n",
       "      <td>123.300003</td>\n",
       "      <td>296.230011</td>\n",
       "      <td>50.389999</td>\n",
       "      <td>73.720001</td>\n",
       "      <td>131.839996</td>\n",
       "      <td>165.470001</td>\n",
       "    </tr>\n",
       "    <tr>\n",
       "      <th>2023-02-28 00:00:00</th>\n",
       "      <td>141.970001</td>\n",
       "      <td>15.980000</td>\n",
       "      <td>144.960007</td>\n",
       "      <td>147.410004</td>\n",
       "      <td>153.899994</td>\n",
       "      <td>155.559998</td>\n",
       "      <td>123.279999</td>\n",
       "      <td>101.720001</td>\n",
       "      <td>70.000000</td>\n",
       "      <td>265.549988</td>\n",
       "      <td>...</td>\n",
       "      <td>109.910004</td>\n",
       "      <td>38.070000</td>\n",
       "      <td>102.650002</td>\n",
       "      <td>127.160004</td>\n",
       "      <td>123.870003</td>\n",
       "      <td>300.250000</td>\n",
       "      <td>50.619999</td>\n",
       "      <td>74.589996</td>\n",
       "      <td>131.149994</td>\n",
       "      <td>167.000000</td>\n",
       "    </tr>\n",
       "    <tr>\n",
       "      <th>2023-03-01 00:00:00</th>\n",
       "      <td>137.509995</td>\n",
       "      <td>16.030001</td>\n",
       "      <td>138.820007</td>\n",
       "      <td>145.309998</td>\n",
       "      <td>155.270004</td>\n",
       "      <td>156.509995</td>\n",
       "      <td>120.830002</td>\n",
       "      <td>100.830002</td>\n",
       "      <td>70.970001</td>\n",
       "      <td>263.589996</td>\n",
       "      <td>...</td>\n",
       "      <td>110.889999</td>\n",
       "      <td>37.360001</td>\n",
       "      <td>101.089996</td>\n",
       "      <td>126.199997</td>\n",
       "      <td>122.080002</td>\n",
       "      <td>302.339996</td>\n",
       "      <td>50.439999</td>\n",
       "      <td>69.620003</td>\n",
       "      <td>128.440002</td>\n",
       "      <td>167.570007</td>\n",
       "    </tr>\n",
       "    <tr>\n",
       "      <th>2023-03-02 00:00:00</th>\n",
       "      <td>141.669998</td>\n",
       "      <td>16.120001</td>\n",
       "      <td>139.210007</td>\n",
       "      <td>145.910004</td>\n",
       "      <td>154.380005</td>\n",
       "      <td>154.899994</td>\n",
       "      <td>122.379997</td>\n",
       "      <td>102.629997</td>\n",
       "      <td>70.900002</td>\n",
       "      <td>265.260010</td>\n",
       "      <td>...</td>\n",
       "      <td>111.400002</td>\n",
       "      <td>37.680000</td>\n",
       "      <td>102.250000</td>\n",
       "      <td>128.679993</td>\n",
       "      <td>122.989998</td>\n",
       "      <td>306.059998</td>\n",
       "      <td>48.310001</td>\n",
       "      <td>70.629997</td>\n",
       "      <td>134.130005</td>\n",
       "      <td>168.580002</td>\n",
       "    </tr>\n",
       "    <tr>\n",
       "      <th>2023-03-03 00:00:00</th>\n",
       "      <td>143.929993</td>\n",
       "      <td>16.360001</td>\n",
       "      <td>138.479996</td>\n",
       "      <td>151.029999</td>\n",
       "      <td>156.059998</td>\n",
       "      <td>156.149994</td>\n",
       "      <td>125.730003</td>\n",
       "      <td>104.449997</td>\n",
       "      <td>71.300003</td>\n",
       "      <td>269.200012</td>\n",
       "      <td>...</td>\n",
       "      <td>112.809998</td>\n",
       "      <td>38.740002</td>\n",
       "      <td>103.919998</td>\n",
       "      <td>129.669998</td>\n",
       "      <td>126.220001</td>\n",
       "      <td>309.450012</td>\n",
       "      <td>49.230000</td>\n",
       "      <td>70.809998</td>\n",
       "      <td>119.239998</td>\n",
       "      <td>170.559998</td>\n",
       "    </tr>\n",
       "  </tbody>\n",
       "</table>\n",
       "<p>5 rows × 523 columns</p>\n",
       "</div>"
      ],
      "text/plain": [
       "                              A        AAL         AAP        AAPL  \\\n",
       "Date                                                                 \n",
       "2023-02-27 00:00:00  142.179993  15.630000  140.630005  147.919998   \n",
       "2023-02-28 00:00:00  141.970001  15.980000  144.960007  147.410004   \n",
       "2023-03-01 00:00:00  137.509995  16.030001  138.820007  145.309998   \n",
       "2023-03-02 00:00:00  141.669998  16.120001  139.210007  145.910004   \n",
       "2023-03-03 00:00:00  143.929993  16.360001  138.479996  151.029999   \n",
       "\n",
       "                           ABBV         ABC        ABNB         ABT  \\\n",
       "Date                                                                  \n",
       "2023-02-27 00:00:00  154.279999  156.630005  123.529999   99.769997   \n",
       "2023-02-28 00:00:00  153.899994  155.559998  123.279999  101.720001   \n",
       "2023-03-01 00:00:00  155.270004  156.509995  120.830002  100.830002   \n",
       "2023-03-02 00:00:00  154.380005  154.899994  122.379997  102.629997   \n",
       "2023-03-03 00:00:00  156.059998  156.149994  125.730003  104.449997   \n",
       "\n",
       "                          ACGL         ACN  ...         XOM       XRAY  \\\n",
       "Date                                        ...                          \n",
       "2023-02-27 00:00:00  69.209999  266.250000  ...  110.550003  34.549999   \n",
       "2023-02-28 00:00:00  70.000000  265.549988  ...  109.910004  38.070000   \n",
       "2023-03-01 00:00:00  70.970001  263.589996  ...  110.889999  37.360001   \n",
       "2023-03-02 00:00:00  70.900002  265.260010  ...  111.400002  37.680000   \n",
       "2023-03-03 00:00:00  71.300003  269.200012  ...  112.809998  38.740002   \n",
       "\n",
       "                            XYL         YUM         ZBH        ZBRA  \\\n",
       "Date                                                                  \n",
       "2023-02-27 00:00:00  102.550003  126.570000  123.300003  296.230011   \n",
       "2023-02-28 00:00:00  102.650002  127.160004  123.870003  300.250000   \n",
       "2023-03-01 00:00:00  101.089996  126.199997  122.080002  302.339996   \n",
       "2023-03-02 00:00:00  102.250000  128.679993  122.989998  306.059998   \n",
       "2023-03-03 00:00:00  103.919998  129.669998  126.220001  309.450012   \n",
       "\n",
       "                          ZION         ZM          ZS         ZTS  \n",
       "Date                                                               \n",
       "2023-02-27 00:00:00  50.389999  73.720001  131.839996  165.470001  \n",
       "2023-02-28 00:00:00  50.619999  74.589996  131.149994  167.000000  \n",
       "2023-03-01 00:00:00  50.439999  69.620003  128.440002  167.570007  \n",
       "2023-03-02 00:00:00  48.310001  70.629997  134.130005  168.580002  \n",
       "2023-03-03 00:00:00  49.230000  70.809998  119.239998  170.559998  \n",
       "\n",
       "[5 rows x 523 columns]"
      ]
     },
     "execution_count": 18,
     "metadata": {},
     "output_type": "execute_result"
    }
   ],
   "source": [
    "data = data['Adj Close']\n",
    "data.tail()"
   ]
  },
  {
   "cell_type": "code",
   "execution_count": 19,
   "metadata": {},
   "outputs": [],
   "source": [
    "# избавимся от пустых тикеров\n",
    "isnull = data.isnull().sum()/data.shape[0]\n",
    "bad_tickers = list(isnull[isnull == 1].index)\n",
    "data.drop(bad_tickers, axis=1, inplace=True)"
   ]
  },
  {
   "cell_type": "code",
   "execution_count": 20,
   "metadata": {},
   "outputs": [
    {
     "data": {
      "text/plain": [
       "ENPH    0.000000\n",
       "ESS     0.000000\n",
       "IQV     0.018268\n",
       "NWSA    0.029388\n",
       "NWS     0.029388\n",
       "CDW     0.031771\n",
       "ALLE    0.071485\n",
       "HLT     0.078237\n",
       "PAYC    0.111597\n",
       "JD      0.121922\n",
       "ANET    0.125894\n",
       "CTLT    0.140985\n",
       "SYF     0.140985\n",
       "CZR     0.155282\n",
       "CFG     0.156076\n",
       "KEYS    0.163225\n",
       "QRVO    0.183479\n",
       "SEDG    0.206116\n",
       "ETSY    0.211676\n",
       "WRK     0.230739\n",
       "KHC     0.233519\n",
       "PYPL    0.233519\n",
       "HPE     0.262907\n",
       "TEAM    0.277204\n",
       "FTV     0.333598\n",
       "HWM     0.366958\n",
       "LW      0.369738\n",
       "INVH    0.391581\n",
       "IR      0.419380\n",
       "VICI    0.483320\n",
       "ZS      0.503574\n",
       "CDAY    0.514694\n",
       "PDD     0.539714\n",
       "MRNA    0.576648\n",
       "FOXA    0.601668\n",
       "FOX     0.602065\n",
       "DOW     0.604051\n",
       "ZM      0.612391\n",
       "CTVA    0.622319\n",
       "CRWD    0.627085\n",
       "DDOG    0.654488\n",
       "CARR    0.704130\n",
       "OTIS    0.704130\n",
       "LCID    0.754567\n",
       "ABNB    0.777601\n",
       "OGN     0.819698\n",
       "GFS     0.865766\n",
       "RIVN    0.869341\n",
       "CEG     0.888006\n",
       "GEHC    0.978952\n",
       "dtype: float64"
      ]
     },
     "execution_count": 20,
     "metadata": {},
     "output_type": "execute_result"
    }
   ],
   "source": [
    "data.isnull().sum().sort_values()[-50:]/data.shape[0]"
   ]
  },
  {
   "cell_type": "code",
   "execution_count": 21,
   "metadata": {},
   "outputs": [],
   "source": [
    "data.to_csv('price.tsv', sep='\\t')"
   ]
  },
  {
   "cell_type": "code",
   "execution_count": null,
   "metadata": {},
   "outputs": [],
   "source": [
    "df['S&P-500'] = True\n",
    "df.set_index('Symbol', inplace=True)\n",
    "\n",
    "df2['NASDAQ'] = True\n",
    "df2.set_index('Ticker', inplace=True)"
   ]
  },
  {
   "cell_type": "code",
   "execution_count": 29,
   "metadata": {},
   "outputs": [],
   "source": [
    "df = df.join(df2[['NASDAQ']], how='outer')"
   ]
  },
  {
   "cell_type": "code",
   "execution_count": 30,
   "metadata": {},
   "outputs": [],
   "source": [
    "df3['DJI'] = True\n",
    "df3['Symbol'] = df3['Symbol'].apply(lambda w: re.sub('\\xa0', '', w.split(':')[-1]))\n",
    "df4 = df3[['Symbol', 'DJI', 'Company']].set_index('Symbol')\n",
    "\n",
    "df = df.join(df4, how='outer', rsuffix='dj')"
   ]
  },
  {
   "cell_type": "code",
   "execution_count": 31,
   "metadata": {},
   "outputs": [],
   "source": [
    "df.to_csv('information.tsv', sep='\\t')"
   ]
  },
  {
   "cell_type": "code",
   "execution_count": 32,
   "metadata": {},
   "outputs": [
    {
     "data": {
      "text/plain": [
       "(523, 11)"
      ]
     },
     "execution_count": 32,
     "metadata": {},
     "output_type": "execute_result"
    }
   ],
   "source": [
    "df.shape"
   ]
  },
  {
   "cell_type": "code",
   "execution_count": 33,
   "metadata": {},
   "outputs": [
    {
     "data": {
      "text/plain": [
       "Index(['Company', 'Exchange', 'Symbol', 'Industry', 'Date added', 'Notes',\n",
       "       'Index weighting', 'DJI'],\n",
       "      dtype='object')"
      ]
     },
     "execution_count": 33,
     "metadata": {},
     "output_type": "execute_result"
    }
   ],
   "source": [
    "df3.columns"
   ]
  },
  {
   "cell_type": "raw",
   "metadata": {},
   "source": [
    "weights = {\n",
    "    'MMM': 4.35, 'AXP': 2.68, 'AAPL': 8.01, 'BA': 3.87, 'CAT': 3.34, \n",
    "    'CVX': 2.63, 'CSCO': 1.21, 'KO': 1.31, 'DOW': 1.04, 'XOM': 1.32,\n",
    "    'GS': 5.29, 'HD': 6.17, 'IBM': 3.58, 'INTC': 1.72, 'JNJ': 4.18,\n",
    "    'JPM': 2.72, 'MCD': 5.23, 'MRK': 2.25, 'MSFT': 4.94, 'NKE': 2.45,\n",
    "    'PFE': 1.06, 'PG': 3.26, 'RTX': 1.89, 'TRV': 2.95, 'UNH': 8.01,\n",
    "    'VZ': 1.62, 'V': 5.06, 'WMT': 3.44, 'WBA': 1.26, 'DIS': 3.12\n",
    "}"
   ]
  },
  {
   "cell_type": "markdown",
   "metadata": {},
   "source": [
    " "
   ]
  }
 ],
 "metadata": {
  "kernelspec": {
   "display_name": "Python 3 (ipykernel)",
   "language": "python",
   "name": "python3"
  },
  "language_info": {
   "codemirror_mode": {
    "name": "ipython",
    "version": 3
   },
   "file_extension": ".py",
   "mimetype": "text/x-python",
   "name": "python",
   "nbconvert_exporter": "python",
   "pygments_lexer": "ipython3",
   "version": "3.10.9"
  }
 },
 "nbformat": 4,
 "nbformat_minor": 2
}
