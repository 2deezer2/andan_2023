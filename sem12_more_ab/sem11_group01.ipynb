{
 "cells": [
  {
   "cell_type": "markdown",
   "id": "7040910c",
   "metadata": {},
   "source": [
    "# Z-тест:\n",
    "\n",
    "- Заказал $\\alpha, \\beta, MDE$, нашел нужное $n$ \n",
    "- Подержал АБ-тест так, чтобы накопилось $n$ наблюдений\n",
    "\n",
    "- __Выборки:__\n",
    "\n",
    "$$\n",
    "\\text{Независимые выборки} \\\\\n",
    "X_1, \\ldots, X_n \\sim iid(\\mu_C, \\sigma^2_C) \\\\\n",
    "Y_1, \\ldots, Y_m \\sim iid (\\mu_T, \\sigma^2_T) \\\\\n",
    "$$\n",
    "\n",
    "- __Гипотеза:__\n",
    "\n",
    "$$\n",
    "H_0 : \\mu_T = \\mu_C \\\\\n",
    "H_a : \\mu_T \\ne \\mu_C\n",
    "$$\n",
    "\n",
    "- __Критерий:__\n",
    "\n",
    "$$\n",
    "Z = \\frac{\\hat{\\mu}_T - \\hat{\\mu}_C}{se(\\hat{\\mu}_T - \\hat{\\mu}_C)} \\sim N(0,1)\n",
    "$$\n",
    "\n",
    "$$\n",
    "se(\\hat{\\mu}_T - \\hat{\\mu}_C) = \\sqrt{\\frac{\\hat{\\sigma}^2_T}{m} + \\frac{\\hat{\\sigma}^2_C}{n}} \n",
    "$$\n",
    "\n",
    "Другой варик считать se() называется pooled: все наблюдения сваливаются в одну кучу и по ним считается одно общее se()\n",
    "\n",
    "- Посчитал наблюдаемое значение статистики и сравнил его с критическим \n",
    "- Либо посчитал p-value и сравнил его с $\\alpha$"
   ]
  },
  {
   "cell_type": "markdown",
   "id": "1714f126",
   "metadata": {},
   "source": [
    "**Предпосылки:**\n",
    "\n",
    "- Нет выбросов (если они есть, тогда ломаются предпосылки ЦПТ и сходимости к нормальному может не быть)\n",
    "- Большое $n$, биг дата, (иначе сходимости не будет и приближение нормальным будет работать плохо)\n",
    "- Выборки независимы друг от друга и наблюдения не зависимы друг от друга"
   ]
  },
  {
   "cell_type": "markdown",
   "id": "72577d6c",
   "metadata": {},
   "source": [
    "[Пример с NPS,](https://github.com/FUlyankin/yet_another_matstat_course/blob/main/notebooks/NPS_CI_simulation.ipynb) когда ломается предпосылка о независимости выборок и надо фиксить тест на ковариации"
   ]
  },
  {
   "cell_type": "markdown",
   "id": "d083f1f4",
   "metadata": {},
   "source": [
    "# Тест Уэлча\n",
    "\n",
    "В $z$-статистике распределение асимптотическое, а в $t$-статистике точное. Но только если выборка одна! Если у нас есть две выбоорки, то всё разваливается! Точного распределения даже при нормальности выборок для разности средних не существует, [Behrens–Fisher problem](https://translated.turbopages.org/proxy_u/en-ru.ru.f8089dff-6440f903-acf6cf2b-74722d776562/https/en.wikipedia.org/wiki/Behrens–Fisher_problem)\n",
    "\n",
    "Можно попытаться найти НЕ асимптотическое, а \"приблизительное\" распределение (Тест Уэлча):\n",
    "\n",
    "$$\n",
    "t = \\frac{\\hat{\\mu}_T - \\hat{\\mu}_C}{se(\\hat{\\mu}_T - \\hat{\\mu}_C)} \\approx t(\\nu)\n",
    "$$\n",
    "\n",
    "$$\n",
    "se(\\hat{\\mu}_T - \\hat{\\mu}_C) = \\sqrt{\\frac{s^2_T}{m} + \\frac{s^2_C}{n}} \n",
    "$$\n",
    "\n",
    "\n",
    "**Предпосылки:**\n",
    "\n",
    "- Обе выборки нормально распределены \n",
    "- Все наблюдения независимы друг от друга"
   ]
  },
  {
   "cell_type": "code",
   "execution_count": 1,
   "id": "0986d698",
   "metadata": {},
   "outputs": [
    {
     "data": {
      "text/html": [
       "<div>\n",
       "<style scoped>\n",
       "    .dataframe tbody tr th:only-of-type {\n",
       "        vertical-align: middle;\n",
       "    }\n",
       "\n",
       "    .dataframe tbody tr th {\n",
       "        vertical-align: top;\n",
       "    }\n",
       "\n",
       "    .dataframe thead th {\n",
       "        text-align: right;\n",
       "    }\n",
       "</style>\n",
       "<table border=\"1\" class=\"dataframe\">\n",
       "  <thead>\n",
       "    <tr style=\"text-align: right;\">\n",
       "      <th></th>\n",
       "      <th>likes</th>\n",
       "      <th>reposts</th>\n",
       "      <th>text</th>\n",
       "      <th>I</th>\n",
       "    </tr>\n",
       "  </thead>\n",
       "  <tbody>\n",
       "    <tr>\n",
       "      <th>0</th>\n",
       "      <td>7</td>\n",
       "      <td>0</td>\n",
       "      <td>Кому удобнее следить за новостями М. в инстагр...</td>\n",
       "      <td>False</td>\n",
       "    </tr>\n",
       "    <tr>\n",
       "      <th>1</th>\n",
       "      <td>575</td>\n",
       "      <td>25</td>\n",
       "      <td>Если девушка невероятно хороша в юности, но ра...</td>\n",
       "      <td>False</td>\n",
       "    </tr>\n",
       "    <tr>\n",
       "      <th>2</th>\n",
       "      <td>509</td>\n",
       "      <td>57</td>\n",
       "      <td>То была очень обычная узость мышления - те, кт...</td>\n",
       "      <td>False</td>\n",
       "    </tr>\n",
       "    <tr>\n",
       "      <th>3</th>\n",
       "      <td>542</td>\n",
       "      <td>15</td>\n",
       "      <td>Когда он знакомил меня с Сергеем, тот спросил:...</td>\n",
       "      <td>False</td>\n",
       "    </tr>\n",
       "    <tr>\n",
       "      <th>4</th>\n",
       "      <td>949</td>\n",
       "      <td>59</td>\n",
       "      <td>- Общепризнано, сэр, что физические упражнения...</td>\n",
       "      <td>False</td>\n",
       "    </tr>\n",
       "  </tbody>\n",
       "</table>\n",
       "</div>"
      ],
      "text/plain": [
       "   likes  reposts                                               text      I\n",
       "0      7        0  Кому удобнее следить за новостями М. в инстагр...  False\n",
       "1    575       25  Если девушка невероятно хороша в юности, но ра...  False\n",
       "2    509       57  То была очень обычная узость мышления - те, кт...  False\n",
       "3    542       15  Когда он знакомил меня с Сергеем, тот спросил:...  False\n",
       "4    949       59  - Общепризнано, сэр, что физические упражнения...  False"
      ]
     },
     "execution_count": 1,
     "metadata": {},
     "output_type": "execute_result"
    }
   ],
   "source": [
    "import pandas as pd\n",
    "import numpy as np\n",
    "import seaborn as sns\n",
    "import scipy.stats as sts\n",
    "\n",
    "df = pd.read_csv('df_vk_wise.csv')\n",
    "df.head()"
   ]
  },
  {
   "cell_type": "code",
   "execution_count": 2,
   "id": "dc63b1bb",
   "metadata": {},
   "outputs": [
    {
     "name": "stdout",
     "output_type": "stream",
     "text": [
      "2871.347265625 2773.369992383854\n",
      "2580.5 2490.0\n"
     ]
    },
    {
     "data": {
      "image/png": "[encoded data removed]",
      "text/plain": [
       "<Figure size 640x480 with 1 Axes>"
      ]
     },
     "metadata": {},
     "output_type": "display_data"
    }
   ],
   "source": [
    "sns.histplot(df, x='likes', hue='I');\n",
    "x = df[df.I].likes.values\n",
    "y = df[~df.I].likes.values\n",
    "\n",
    "# среднее от медианы сильно отличается \n",
    "# => выбросы! \n",
    "print(x.mean(), y.mean())\n",
    "print(np.median(x), np.median(y))"
   ]
  },
  {
   "cell_type": "code",
   "execution_count": 3,
   "id": "da8f0479",
   "metadata": {},
   "outputs": [
    {
     "name": "stdout",
     "output_type": "stream",
     "text": [
      "118.521484375 112.34531607006855\n",
      "96.0 93.0\n"
     ]
    },
    {
     "data": {
      "image/png": "[encoded data removed]",
      "text/plain": [
       "<Figure size 640x480 with 1 Axes>"
      ]
     },
     "metadata": {},
     "output_type": "display_data"
    }
   ],
   "source": [
    "sns.histplot(df, x='reposts', hue='I');\n",
    "\n",
    "x = df[df.I].reposts.values\n",
    "y = df[~df.I].reposts.values\n",
    "\n",
    "# среднее от медианы сильно отличается \n",
    "# => выбросы! \n",
    "print(x.mean(), y.mean())\n",
    "print(np.median(x), np.median(y))"
   ]
  },
  {
   "cell_type": "code",
   "execution_count": 4,
   "id": "7f27a740",
   "metadata": {},
   "outputs": [
    {
     "data": {
      "text/plain": [
       "3.047531998539413"
      ]
     },
     "execution_count": 4,
     "metadata": {},
     "output_type": "execute_result"
    }
   ],
   "source": [
    "diff = x.mean() - y.mean() \n",
    "diff_std = np.sqrt(x.var(ddof=1)/x.size + y.var(ddof=1)/y.size)\n",
    "z_obs = diff/diff_std\n",
    "z_obs"
   ]
  },
  {
   "cell_type": "code",
   "execution_count": 7,
   "id": "0fab1a62",
   "metadata": {},
   "outputs": [
    {
     "data": {
      "text/plain": [
       "(1.959963984540054, 0.0018688830401119385)"
      ]
     },
     "execution_count": 7,
     "metadata": {},
     "output_type": "execute_result"
    }
   ],
   "source": [
    "alpha = 0.05\n",
    "z_crit = sts.norm.ppf(1 - alpha/2)\n",
    "pval = 2*sts.norm.cdf(-z_obs)\n",
    "z_crit, pval"
   ]
  },
  {
   "cell_type": "markdown",
   "id": "f8a37280",
   "metadata": {},
   "source": [
    "__Выводы:__ На уровне значимости 5% гипотеза о равенстве среднего числа лайков отвергается. "
   ]
  },
  {
   "cell_type": "code",
   "execution_count": 8,
   "id": "ad6b5dab",
   "metadata": {},
   "outputs": [
    {
     "data": {
      "text/plain": [
       "(3.1103143997608775, 0.0018688830401119385)"
      ]
     },
     "execution_count": 8,
     "metadata": {},
     "output_type": "execute_result"
    }
   ],
   "source": [
    "from statsmodels.stats.weightstats import ztest\n",
    "\n",
    "z_obs, pval = ztest(x, y, value=0, alternative='two-sided', usevar='pooled', ddof=1.0)\n",
    "z_obs, pval"
   ]
  },
  {
   "cell_type": "code",
   "execution_count": 9,
   "id": "790c2160",
   "metadata": {},
   "outputs": [
    {
     "data": {
      "text/plain": [
       "3.1103143997608775"
      ]
     },
     "execution_count": 9,
     "metadata": {},
     "output_type": "execute_result"
    }
   ],
   "source": [
    "# немного странноватый вариант из теста\n",
    "ddof=1.0\n",
    "var_pooled = x.size * x.var() + y.size * y.var()\n",
    "var_pooled /= x.size + y.size - 2 * ddof\n",
    "var_pooled *= 1.0 / x.size + 1.0 / y.size\n",
    "\n",
    "diff/np.sqrt(var_pooled)"
   ]
  },
  {
   "cell_type": "markdown",
   "id": "2b3ba2d7",
   "metadata": {},
   "source": [
    "Это параметрические тесты. Мы делаем свои предположения о параметрах распределения. В случае выше о математическом ожидании!"
   ]
  },
  {
   "cell_type": "markdown",
   "id": "eecf116b",
   "metadata": {},
   "source": [
    "Из-за выбросов было бы прикольно рассуждать именно в терминах медиан, так как они к выбросам устойчивы. Но у нас нет параметрической техники для проверки гипотез о медианах."
   ]
  },
  {
   "cell_type": "markdown",
   "id": "f78e9279",
   "metadata": {},
   "source": [
    "# Бутстрап\n",
    "\n",
    "Бутсрап - это асимптотическая техника получения критических значений. С помощью него можно проверять гипотезы практически о чём угодно. В том числе о медианах. \n",
    "\n",
    "Поговорим подробнее в следующий раз."
   ]
  },
  {
   "cell_type": "markdown",
   "id": "45ef6d1d",
   "metadata": {},
   "source": [
    "# Тест Манна-Уитни\n",
    "\n",
    "Непараметрические тесты. Фишка этих тестов, что мы не думаем о параметрах распределений. Мы не думаем про математические ожидания. Мы формулируем все гипотезы о \"форме\" распределений. \n",
    "\n",
    "[Тетрадочка с чуть более подробным описанием](https://github.com/FUlyankin/matstat-AB/blob/main/week10_nonparam_bootstrap/08_python_non_parametric.ipynb)"
   ]
  },
  {
   "cell_type": "markdown",
   "id": "57b9b859",
   "metadata": {},
   "source": [
    "Если забыли, то вот вам реклама лекций Фила: \n",
    "\n",
    "- [Видосы с курсеры](https://www.youtube.com/watch?v=2p24KPez62U&list=PLCf-cQCe1FRyCcf47wwBlDObNcz4ud2_L)\n",
    "- [Лекция про непараметрические критерии из ФКНовской магистратуры](https://www.youtube.com/watch?v=0Rn6ImS0WK4)"
   ]
  },
  {
   "cell_type": "code",
   "execution_count": 10,
   "id": "83306bad",
   "metadata": {},
   "outputs": [
    {
     "data": {
      "text/plain": [
       "8736923.0"
      ]
     },
     "execution_count": 10,
     "metadata": {},
     "output_type": "execute_result"
    }
   ],
   "source": [
    "from scipy.stats import mannwhitneyu\n",
    "\n",
    "U, pval = mannwhitneyu(x, y, alternative='two-sided')\n",
    "U"
   ]
  },
  {
   "cell_type": "code",
   "execution_count": 11,
   "id": "b8adcd61",
   "metadata": {},
   "outputs": [
    {
     "data": {
      "text/plain": [
       "0.0031580345232610444"
      ]
     },
     "execution_count": 11,
     "metadata": {},
     "output_type": "execute_result"
    }
   ],
   "source": [
    "pval"
   ]
  },
  {
   "cell_type": "code",
   "execution_count": 12,
   "id": "7776f695",
   "metadata": {},
   "outputs": [
    {
     "data": {
      "text/plain": [
       "8069477.0"
      ]
     },
     "execution_count": 12,
     "metadata": {},
     "output_type": "execute_result"
    }
   ],
   "source": [
    "U = 0\n",
    "for item in y:\n",
    "    for jtem in x:\n",
    "        U += (item > jtem)\n",
    "        U += 0.5*(item == jtem)\n",
    "U"
   ]
  },
  {
   "cell_type": "code",
   "execution_count": 13,
   "id": "977a35ae",
   "metadata": {},
   "outputs": [
    {
     "data": {
      "text/plain": [
       "8736923.0"
      ]
     },
     "execution_count": 13,
     "metadata": {},
     "output_type": "execute_result"
    }
   ],
   "source": [
    "x.size*y.size - U"
   ]
  },
  {
   "cell_type": "code",
   "execution_count": 14,
   "id": "17971ed8",
   "metadata": {},
   "outputs": [],
   "source": [
    "# Давайте попробуем сымитировать ситуацию, где тест Манна-Уитни развалится"
   ]
  },
  {
   "cell_type": "code",
   "execution_count": 15,
   "id": "d1034819",
   "metadata": {},
   "outputs": [
    {
     "data": {
      "text/plain": [
       "5.920283674292367e-15"
      ]
     },
     "execution_count": 15,
     "metadata": {},
     "output_type": "execute_result"
    }
   ],
   "source": [
    "n_obs = 1000\n",
    "x = sts.norm(0, 4).rvs(n_obs)\n",
    "y = sts.norm(1, 1).rvs(n_obs)\n",
    "\n",
    "_, pval = mannwhitneyu(x, y, alternative='two-sided')\n",
    "pval"
   ]
  },
  {
   "cell_type": "code",
   "execution_count": 16,
   "id": "9789b5a6",
   "metadata": {},
   "outputs": [],
   "source": [
    "import matplotlib.pyplot as plt"
   ]
  },
  {
   "cell_type": "code",
   "execution_count": 17,
   "id": "a760c938",
   "metadata": {},
   "outputs": [
    {
     "data": {
      "image/png": "[encoded data removed]",
      "text/plain": [
       "<Figure size 640x480 with 1 Axes>"
      ]
     },
     "metadata": {},
     "output_type": "display_data"
    }
   ],
   "source": [
    "n_obs = 10**6\n",
    "x = sts.norm(0.5, 0.25).rvs(n_obs)\n",
    "y = 3*sts.bernoulli(0.5).rvs(n_obs) - 1\n",
    "\n",
    "plt.hist(x, bins=100, density=True, label='N(0.5,1)');\n",
    "plt.hist(y, density=True, label='Bern(0.5)', log=True);\n",
    "plt.legend();"
   ]
  },
  {
   "cell_type": "code",
   "execution_count": 18,
   "id": "78fda99a",
   "metadata": {},
   "outputs": [
    {
     "data": {
      "text/plain": [
       "0.32928060235916545"
      ]
     },
     "execution_count": 18,
     "metadata": {},
     "output_type": "execute_result"
    }
   ],
   "source": [
    "_, pval = mannwhitneyu(x, y, alternative='two-sided')\n",
    "pval"
   ]
  }
 ],
 "metadata": {
  "kernelspec": {
   "display_name": "Python 3 (ipykernel)",
   "language": "python",
   "name": "python3"
  },
  "language_info": {
   "codemirror_mode": {
    "name": "ipython",
    "version": 3
   },
   "file_extension": ".py",
   "mimetype": "text/x-python",
   "name": "python",
   "nbconvert_exporter": "python",
   "pygments_lexer": "ipython3",
   "version": "3.10.9"
  }
 },
 "nbformat": 4,
 "nbformat_minor": 5
}
