{
 "cells": [
  {
   "cell_type": "markdown",
   "id": "2efa5011",
   "metadata": {},
   "source": [
    "<center>\n",
    "<img src='https://camo.githubusercontent.com/ad20aaaa48264581c46aa126919dbb72060ebd98cffe015523549b4974843ae5/68747470733a2f2f7261772e67697468756275736572636f6e74656e742e636f6d2f46556c79616e6b696e2f725f70726f626162696c6974792f6d61737465722f656e645f73656d696e6172732f73656d5f362f73747564656e745f746561636865725f646973742e706e67' align='center' width=\"800x\">\n",
    "</center>"
   ]
  },
  {
   "cell_type": "markdown",
   "id": "2f366573",
   "metadata": {},
   "source": [
    "# Андан на экономе\n",
    "\n",
    "## Семинар 12:  больше гипотез богу гипотез"
   ]
  },
  {
   "cell_type": "code",
   "execution_count": 8,
   "id": "8c533524",
   "metadata": {},
   "outputs": [],
   "source": [
    "import numpy as np\n",
    "import pandas as pd\n",
    "\n",
    "from scipy import stats as sts\n",
    "\n",
    "import seaborn as sns\n",
    "import matplotlib.pyplot as plt"
   ]
  },
  {
   "cell_type": "markdown",
   "id": "ddabaa11",
   "metadata": {},
   "source": [
    "## Задание 0 (воспоминания)\n",
    "\n",
    "Обсудите: \n",
    "\n",
    "- Чем непараметрические критерии отличаются от параметрических?\n",
    "- Что такое $z-$тест и $t-$тест? Какие у них предпосылки? Чем они отличаются друг от друга?\n",
    "- В каких случаях $z-$тест будет работать плохо?\n",
    "- В каких случаях $t-$тест будет работать плохо?\n",
    "\n",
    "Обсудите:\n",
    "\n",
    "- Что такое критерии знаков? \n",
    "- Какие у них предпосылки? \n",
    "- Как выглядит нулевая гипотеза? \n",
    "- Как выглядит формула для подсчёта критерия?\n",
    "\n",
    "Обсудите:\n",
    "\n",
    "- Какие прдпосылки есть у теста Манна-Уитни? \n",
    "- Как выглядит проверяемая нулевая гипотеза? \n",
    "- Как выглядит формула для подсчёта критерия?\n",
    "- В каких случаях тест Манна-Уитни будет работать плохо?\n",
    "\n",
    "Если забыли, то вот вам реклама лекций Фила: \n",
    "\n",
    "- [Видосы с курсеры](https://www.youtube.com/watch?v=2p24KPez62U&list=PLCf-cQCe1FRyCcf47wwBlDObNcz4ud2_L)\n",
    "- [Лекция про непараметрические критерии из ФКНовской магистратуры](https://www.youtube.com/watch?v=0Rn6ImS0WK4)"
   ]
  },
  {
   "cell_type": "markdown",
   "id": "93cec62d",
   "metadata": {},
   "source": [
    "## Задание 1 (мудрость)\n",
    "\n",
    "> Помните, что для человека звук его имени является самым сладким и самым важным звуком человеческой речи. (Дейл Карнеги)\n",
    "\n",
    "Доверяй, но проверяй. Решим задачку по психологии! Все цитаты в пабликах вконтакте делятся на два вида: мудрые и недостаточно мудрые. Если цитата мудрая, то её можно лайкнуть. Поговаривают, что если в цитате есть личные местоимения, то пользователь автоматически сопоставляет себя автору этой цитаты и вероятность того, что она будет лайкнута, повышается. Например, цитату \n",
    "\n",
    "> Можно простить человеку все, кроме отсутствия. (Экзюпери) \n",
    "\n",
    "мне не очень хотелось бы лайкать. А вот цитата \n",
    "\n",
    "> Мне наплевать, что вы обо мне думаете. Я о вас вообще не думаю. (Булгаков) \n",
    "\n",
    "совершенно другое дело. \n",
    "\n",
    "В табличке `df_vk_wise` лежат данные о мудрых цитатах из [мудрого паблика.](https://vk.com/ooioioioioioo) В колонке `I` находится переменная, которая принимает значение `True`, когда в тексте цитаты было личное местоимение \"Я\".\n",
    "\n",
    "Срежем первые $50$ постов, так как под ними количество репостов и лайков ещё окончательно не выставлено, и будем работать с остатками. "
   ]
  },
  {
   "cell_type": "code",
   "execution_count": 36,
   "id": "8e1a736b",
   "metadata": {},
   "outputs": [
    {
     "data": {
      "text/html": [
       "<div>\n",
       "<style scoped>\n",
       "    .dataframe tbody tr th:only-of-type {\n",
       "        vertical-align: middle;\n",
       "    }\n",
       "\n",
       "    .dataframe tbody tr th {\n",
       "        vertical-align: top;\n",
       "    }\n",
       "\n",
       "    .dataframe thead th {\n",
       "        text-align: right;\n",
       "    }\n",
       "</style>\n",
       "<table border=\"1\" class=\"dataframe\">\n",
       "  <thead>\n",
       "    <tr style=\"text-align: right;\">\n",
       "      <th></th>\n",
       "      <th>likes</th>\n",
       "      <th>reposts</th>\n",
       "      <th>text</th>\n",
       "      <th>I</th>\n",
       "    </tr>\n",
       "  </thead>\n",
       "  <tbody>\n",
       "    <tr>\n",
       "      <th>50</th>\n",
       "      <td>549</td>\n",
       "      <td>25</td>\n",
       "      <td>Я, говорит, люблю человечество, но дивлюсь на ...</td>\n",
       "      <td>True</td>\n",
       "    </tr>\n",
       "    <tr>\n",
       "      <th>51</th>\n",
       "      <td>607</td>\n",
       "      <td>22</td>\n",
       "      <td>Нельзя любить то, что я люблю, да ещё так, как...</td>\n",
       "      <td>True</td>\n",
       "    </tr>\n",
       "    <tr>\n",
       "      <th>52</th>\n",
       "      <td>914</td>\n",
       "      <td>37</td>\n",
       "      <td>Если испытываешь по-настоящему глубокое чувств...</td>\n",
       "      <td>False</td>\n",
       "    </tr>\n",
       "    <tr>\n",
       "      <th>53</th>\n",
       "      <td>989</td>\n",
       "      <td>34</td>\n",
       "      <td>— Я тебя люблю, — сказал я. \\n— Это пройдет, —...</td>\n",
       "      <td>True</td>\n",
       "    </tr>\n",
       "    <tr>\n",
       "      <th>54</th>\n",
       "      <td>1229</td>\n",
       "      <td>32</td>\n",
       "      <td>Он очаровательно рассказывает мне о том, как о...</td>\n",
       "      <td>False</td>\n",
       "    </tr>\n",
       "  </tbody>\n",
       "</table>\n",
       "</div>"
      ],
      "text/plain": [
       "    likes  reposts                                               text      I\n",
       "50    549       25  Я, говорит, люблю человечество, но дивлюсь на ...   True\n",
       "51    607       22  Нельзя любить то, что я люблю, да ещё так, как...   True\n",
       "52    914       37  Если испытываешь по-настоящему глубокое чувств...  False\n",
       "53    989       34  — Я тебя люблю, — сказал я. \\n— Это пройдет, —...   True\n",
       "54   1229       32  Он очаровательно рассказывает мне о том, как о...  False"
      ]
     },
     "execution_count": 36,
     "metadata": {},
     "output_type": "execute_result"
    }
   ],
   "source": [
    "df = pd.read_csv('df_vk_wise.csv')[50:]\n",
    "df.head()"
   ]
  },
  {
   "cell_type": "markdown",
   "id": "942e4f99",
   "metadata": {},
   "source": [
    "Постройте гистограмму для числа лайков постов, содержащих личные местоимения и не содержащих. Как думаете, есть ли с распределением лайков какие-то проблемы?"
   ]
  },
  {
   "cell_type": "code",
   "execution_count": 37,
   "id": "0ee85e07",
   "metadata": {},
   "outputs": [
    {
     "data": {
      "image/png": "[encoded data removed]",
      "text/plain": [
       "<Figure size 1000x500 with 1 Axes>"
      ]
     },
     "metadata": {},
     "output_type": "display_data"
    }
   ],
   "source": [
    "x = df[df['I']== True]['likes'].values\n",
    "y = df[df['I']== False]['likes'].values\n",
    "\n",
    "plt.figure(figsize=(10,5))\n",
    "plt.hist(x, bins=20, density=True, alpha=0.4, label='yes')\n",
    "plt.hist(y, bins=20, density=True, alpha=0.4, label='no')\n",
    "plt.legend();"
   ]
  },
  {
   "cell_type": "markdown",
   "id": "77a5820e",
   "metadata": {},
   "source": [
    "Да, проблемы есть. Это выбросы. Хвосты на гистограммах оказываются очень длинными. Найдите медианы и средние для числа лайков. Сравните их между собой. "
   ]
  },
  {
   "cell_type": "code",
   "execution_count": 38,
   "id": "80dadb3f",
   "metadata": {},
   "outputs": [
    {
     "name": "stdout",
     "output_type": "stream",
     "text": [
      "2879.1828885400314 2588.5\n",
      "2784.0432051478474 2497.0\n"
     ]
    }
   ],
   "source": [
    "print(np.mean(x), np.median(x))\n",
    "print(np.mean(y), np.median(y))"
   ]
  },
  {
   "cell_type": "markdown",
   "id": "2cc8c11a",
   "metadata": {},
   "source": [
    "Проверьте гипотезу о равенстве среднего числа лайков. Используйте для этого $z$-тест, основанный на ЦПТ. Дисперсию расчитывайте по выборке, используя несмещённую оценку `(ddof=1)`. Запишите наблюдаемое значение статистики в переменную `z_obs`. "
   ]
  },
  {
   "cell_type": "code",
   "execution_count": 39,
   "id": "88f17591",
   "metadata": {},
   "outputs": [
    {
     "data": {
      "text/plain": [
       "2.6644610922505323"
      ]
     },
     "execution_count": 39,
     "metadata": {},
     "output_type": "execute_result"
    }
   ],
   "source": [
    "alpha = 0.05 \n",
    "\n",
    "diff = x.mean() - y.mean() \n",
    "diff_std = np.sqrt(x.var(ddof=1)/x.size + y.var(ddof=1)/y.size)\n",
    "z_obs = diff/diff_std\n",
    "z_obs"
   ]
  },
  {
   "cell_type": "markdown",
   "id": "6e1f201c",
   "metadata": {},
   "source": [
    "Найдите критическое значение статистики. Сравните его с наблюдаемым. Рассчитайте p-value для ситуации с двусторонней альтернативой. Сделайте вывод о выдвинутой гипотезе. Критическое значение статистики запишите в переменную `z_crit`, а p-значение в переменную `pval`. "
   ]
  },
  {
   "cell_type": "code",
   "execution_count": 40,
   "id": "c33e2edb",
   "metadata": {},
   "outputs": [
    {
     "data": {
      "text/plain": [
       "(1.959963984540054, 0.00771117860544288)"
      ]
     },
     "execution_count": 40,
     "metadata": {},
     "output_type": "execute_result"
    }
   ],
   "source": [
    "z_crit = sts.norm.ppf(1 - alpha/2)\n",
    "pval = 2*sts.norm.cdf(-z_obs)\n",
    "z_crit, pval"
   ]
  },
  {
   "cell_type": "markdown",
   "id": "6f40c8df",
   "metadata": {},
   "source": [
    "Можно заметить, что у распределения числа репостов длинные хвосты. В данных есть выбросы, которые завышают среднее значение. Если выбросы сильные, то ЦПТ может ломаться. Из-за этого имеет смысл в данном случае использовать другой критерий. Например, критерий Манна-Уитни."
   ]
  },
  {
   "cell_type": "markdown",
   "id": "9cfaa98a",
   "metadata": {},
   "source": [
    "Найдите наблюдаемое значение статистики Манна-Уитни. Сравните его с критическим. Рассчитайте p-value для ситуации с двусторонней альтернативой. Сделайте вывод о выдвинутой гипотезе. Отличается ли полученный вывод от вывода $z$-теста?"
   ]
  },
  {
   "cell_type": "code",
   "execution_count": 41,
   "id": "30f85956",
   "metadata": {},
   "outputs": [
    {
     "data": {
      "text/plain": [
       "8604129.5"
      ]
     },
     "execution_count": 41,
     "metadata": {},
     "output_type": "execute_result"
    }
   ],
   "source": [
    "U, pval = stats.mannwhitneyu(x, y, alternative='two-sided')\n",
    "U"
   ]
  },
  {
   "cell_type": "code",
   "execution_count": 42,
   "id": "a815cdae",
   "metadata": {},
   "outputs": [
    {
     "data": {
      "text/plain": [
       "0.01004067464288777"
      ]
     },
     "execution_count": 42,
     "metadata": {},
     "output_type": "execute_result"
    }
   ],
   "source": [
    "pval"
   ]
  },
  {
   "cell_type": "markdown",
   "id": "ec918444",
   "metadata": {},
   "source": [
    "Значение статистики можно найти через ранги."
   ]
  },
  {
   "cell_type": "code",
   "execution_count": 68,
   "id": "efadead3",
   "metadata": {},
   "outputs": [
    {
     "data": {
      "text/plain": [
       "8604129.5"
      ]
     },
     "execution_count": 68,
     "metadata": {},
     "output_type": "execute_result"
    }
   ],
   "source": [
    "xy = np.concatenate((x,y))\n",
    "\n",
    "# нашли ранги и дальше просуммировали\n",
    "R1 = sts.rankdata(xy)[:len(x)]\n",
    "R1.sum(axis=-1)  - len(x)*(len(x) + 1)/2"
   ]
  },
  {
   "cell_type": "code",
   "execution_count": 71,
   "id": "d7fb5141",
   "metadata": {},
   "outputs": [
    {
     "data": {
      "text/plain": [
       "[(3908.5, 7), (3387.5, 5), (1640.0, 4)]"
      ]
     },
     "execution_count": 71,
     "metadata": {},
     "output_type": "execute_result"
    }
   ],
   "source": [
    "from collections import Counter\n",
    "\n",
    "# ранги быввают дробные, когда равенства :)\n",
    "Counter(R1).most_common()[:3]"
   ]
  },
  {
   "cell_type": "markdown",
   "id": "4c129b43",
   "metadata": {},
   "source": [
    "Можно посчитать значение статистики циклом, сравнивая между собой элементы."
   ]
  },
  {
   "cell_type": "code",
   "execution_count": 72,
   "id": "df8afe31",
   "metadata": {
    "scrolled": true
   },
   "outputs": [
    {
     "data": {
      "text/plain": [
       "8604129.5"
      ]
     },
     "execution_count": 72,
     "metadata": {},
     "output_type": "execute_result"
    }
   ],
   "source": [
    "U = 0\n",
    "\n",
    "for item in x:\n",
    "    for jtem in y:\n",
    "        U += (item > jtem)\n",
    "        U += 0.5*(item == jtem) # половинка (прям как в roc-auc)\n",
    "        n_pairs += 1\n",
    "U"
   ]
  },
  {
   "cell_type": "markdown",
   "id": "370a39b2",
   "metadata": {},
   "source": [
    "## Задание 2 (мимимишные мышки)\n",
    "\n",
    "$16$ лабораторных мышей были помещены в двухкомнатные клетки, в одной из комнат висело зеркало. С целью установить, есть ли у мышей какие-то предпочтения насчет зеркал, измерялась доля времени, которое каждая мышь проводила в каждой из своих двух клеток.\n",
    "\n",
    "![](https://ars.els-cdn.com/content/image/1-s2.0-S0168159104000061-gr1.gif)\n",
    "\n",
    "В файле `mouses_mirror.txt` лежит информация о том, какую долю времени мышка проводила в клетке с зеркалом. "
   ]
  },
  {
   "cell_type": "code",
   "execution_count": 10,
   "id": "1dca6cdc",
   "metadata": {},
   "outputs": [
    {
     "data": {
      "image/png": "[encoded data removed]",
      "text/plain": [
       "<Figure size 640x480 with 1 Axes>"
      ]
     },
     "metadata": {},
     "output_type": "display_data"
    }
   ],
   "source": [
    "x = pd.read_csv('mouses_mirror.txt', header = None)[0].values\n",
    "plt.hist(x, density=True);"
   ]
  },
  {
   "cell_type": "markdown",
   "id": "82ae5140",
   "metadata": {},
   "source": [
    "Проверьте гипотезу о том, что мышкам безразлично в какой комнате проводить время с помощью критерия знаков. Сформулируйте нулевую гипотезу, перечислите основные особенности этого критерия. Запишите в переменную `pvalue_1` получившееся в результате этого $p$-значение. "
   ]
  },
  {
   "cell_type": "code",
   "execution_count": 11,
   "id": "4046f396",
   "metadata": {},
   "outputs": [
    {
     "data": {
      "text/plain": [
       "0.021270751953125"
      ]
     },
     "execution_count": 11,
     "metadata": {},
     "output_type": "execute_result"
    }
   ],
   "source": [
    "from statsmodels.stats.descriptivestats import sign_test\n",
    "_, pvalue_1 = sign_test(x, mu0=0.5)\n",
    "pvalue_1"
   ]
  },
  {
   "cell_type": "markdown",
   "id": "3ff71cc7",
   "metadata": {},
   "source": [
    "Проверьте гипотезу о том, что мышкам безразлично в какой комнате проводить время с помощью теста Вилкоксона. Сформулируйте нулевую гипотезу, перечислите основные особенности этого критерия.  Запишите в переменную `pvalue_2` получившееся в результате этого $p$-значение. "
   ]
  },
  {
   "cell_type": "code",
   "execution_count": 12,
   "id": "8253dd76",
   "metadata": {},
   "outputs": [
    {
     "data": {
      "text/plain": [
       "0.09344482421875"
      ]
     },
     "execution_count": 12,
     "metadata": {},
     "output_type": "execute_result"
    }
   ],
   "source": [
    "from statsmodels.stats.descriptivestats import sign_test\n",
    "_, pvalue_2 = sts.wilcoxon(x - 0.5)\n",
    "pvalue_2"
   ]
  },
  {
   "cell_type": "markdown",
   "id": "efad3df5",
   "metadata": {},
   "source": [
    "Проверьте гипотезу о том, что мышкам безразлично в какой комнате проводить время с помощью асимптотического $z$-теста. Сформулируйте нулевую гипотезу, перечислите основные особенности этого критерия.  Запишите в переменную `pvalue_3` получившееся в результате этого $p$-значение. "
   ]
  },
  {
   "cell_type": "code",
   "execution_count": 13,
   "id": "38b41a2a",
   "metadata": {},
   "outputs": [
    {
     "data": {
      "text/plain": [
       "(0.13460721078205806, 0.47528889375)"
      ]
     },
     "execution_count": 13,
     "metadata": {},
     "output_type": "execute_result"
    }
   ],
   "source": [
    "from statsmodels.stats.weightstats import ztest,zconfint\n",
    "\n",
    "_, pvalue_3 = ztest(x, value=0.5)\n",
    "pvalue_3, x.mean()"
   ]
  }
 ],
 "metadata": {
  "kernelspec": {
   "display_name": "Python 3 (ipykernel)",
   "language": "python",
   "name": "python3"
  },
  "language_info": {
   "codemirror_mode": {
    "name": "ipython",
    "version": 3
   },
   "file_extension": ".py",
   "mimetype": "text/x-python",
   "name": "python",
   "nbconvert_exporter": "python",
   "pygments_lexer": "ipython3",
   "version": "3.10.9"
  }
 },
 "nbformat": 4,
 "nbformat_minor": 5
}
