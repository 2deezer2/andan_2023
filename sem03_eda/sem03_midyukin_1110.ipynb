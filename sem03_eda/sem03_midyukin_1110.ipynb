{
 "cells": [
  {
   "cell_type": "markdown",
   "metadata": {},
   "source": [
    "## Аналитика в Pandas"
   ]
  },
  {
   "cell_type": "code",
   "execution_count": 1,
   "metadata": {},
   "outputs": [],
   "source": [
    "import numpy as np\n",
    "import pandas as pd"
   ]
  },
  {
   "cell_type": "code",
   "execution_count": 154,
   "metadata": {},
   "outputs": [],
   "source": [
    "df = pd.read_csv('youtube_data_short.csv', sep='\\t')"
   ]
  },
  {
   "cell_type": "code",
   "execution_count": 15,
   "metadata": {},
   "outputs": [],
   "source": [
    "url = 'https://raw.githubusercontent.com/hse-econ-data-science/andan_2023/main/sem03_eda/youtube_data_short.csv'\n",
    "df = pd.read_csv(url, sep='\\t')"
   ]
  },
  {
   "cell_type": "code",
   "execution_count": 16,
   "metadata": {},
   "outputs": [
    {
     "data": {
      "text/plain": [
       "pandas.core.frame.DataFrame"
      ]
     },
     "execution_count": 16,
     "metadata": {},
     "output_type": "execute_result"
    }
   ],
   "source": [
    "type(df)"
   ]
  },
  {
   "cell_type": "code",
   "execution_count": 17,
   "metadata": {},
   "outputs": [
    {
     "name": "stdout",
     "output_type": "stream",
     "text": [
      "<class 'pandas.core.frame.DataFrame'>\n",
      "RangeIndex: 19124 entries, 0 to 19123\n",
      "Data columns (total 10 columns):\n",
      " #   Column                Non-Null Count  Dtype  \n",
      "---  ------                --------------  -----  \n",
      " 0   title                 19124 non-null  object \n",
      " 1   commentCount          18914 non-null  float64\n",
      " 2   dislikeCount          18850 non-null  float64\n",
      " 3   likeCount             18850 non-null  float64\n",
      " 4   music_style           19124 non-null  object \n",
      " 5   performer             19124 non-null  object \n",
      " 6   viewCount             19123 non-null  float64\n",
      " 7   commentators_uniq     12314 non-null  float64\n",
      " 8   comments_obscene_cnt  12314 non-null  float64\n",
      " 9   video_age             19124 non-null  int64  \n",
      "dtypes: float64(6), int64(1), object(3)\n",
      "memory usage: 1.5+ MB\n"
     ]
    }
   ],
   "source": [
    "df.info()"
   ]
  },
  {
   "cell_type": "code",
   "execution_count": 18,
   "metadata": {},
   "outputs": [
    {
     "data": {
      "text/plain": [
       "Index(['title', 'commentCount', 'dislikeCount', 'likeCount', 'music_style',\n",
       "       'performer', 'viewCount', 'commentators_uniq', 'comments_obscene_cnt',\n",
       "       'video_age'],\n",
       "      dtype='object')"
      ]
     },
     "execution_count": 18,
     "metadata": {},
     "output_type": "execute_result"
    }
   ],
   "source": [
    "df.columns"
   ]
  },
  {
   "cell_type": "code",
   "execution_count": 19,
   "metadata": {},
   "outputs": [
    {
     "data": {
      "text/plain": [
       "RangeIndex(start=0, stop=19124, step=1)"
      ]
     },
     "execution_count": 19,
     "metadata": {},
     "output_type": "execute_result"
    }
   ],
   "source": [
    "df.index"
   ]
  },
  {
   "cell_type": "code",
   "execution_count": 21,
   "metadata": {},
   "outputs": [
    {
     "data": {
      "text/html": [
       "<div>\n",
       "<style scoped>\n",
       "    .dataframe tbody tr th:only-of-type {\n",
       "        vertical-align: middle;\n",
       "    }\n",
       "\n",
       "    .dataframe tbody tr th {\n",
       "        vertical-align: top;\n",
       "    }\n",
       "\n",
       "    .dataframe thead th {\n",
       "        text-align: right;\n",
       "    }\n",
       "</style>\n",
       "<table border=\"1\" class=\"dataframe\">\n",
       "  <thead>\n",
       "    <tr style=\"text-align: right;\">\n",
       "      <th></th>\n",
       "      <th>title</th>\n",
       "      <th>commentCount</th>\n",
       "      <th>dislikeCount</th>\n",
       "      <th>likeCount</th>\n",
       "      <th>music_style</th>\n",
       "      <th>performer</th>\n",
       "      <th>viewCount</th>\n",
       "      <th>commentators_uniq</th>\n",
       "      <th>comments_obscene_cnt</th>\n",
       "      <th>video_age</th>\n",
       "    </tr>\n",
       "  </thead>\n",
       "  <tbody>\n",
       "    <tr>\n",
       "      <th>0</th>\n",
       "      <td>\"#2Маши \"Свободные линии\"</td>\n",
       "      <td>34.0</td>\n",
       "      <td>43.0</td>\n",
       "      <td>1402.0</td>\n",
       "      <td>popsa</td>\n",
       "      <td>2маши</td>\n",
       "      <td>214301.0</td>\n",
       "      <td>24.0</td>\n",
       "      <td>0.0</td>\n",
       "      <td>1141</td>\n",
       "    </tr>\n",
       "    <tr>\n",
       "      <th>1</th>\n",
       "      <td>\"ALARM\" СЕРГЕЙ ЛАЗАРЕВ ( SERGEY LAZAREV )</td>\n",
       "      <td>NaN</td>\n",
       "      <td>690.0</td>\n",
       "      <td>10532.0</td>\n",
       "      <td>popsa</td>\n",
       "      <td>лазарев</td>\n",
       "      <td>2221419.0</td>\n",
       "      <td>NaN</td>\n",
       "      <td>NaN</td>\n",
       "      <td>3217</td>\n",
       "    </tr>\n",
       "    <tr>\n",
       "      <th>2</th>\n",
       "      <td>\"EARTH SONG\"  SERGEY LAZAREV. DEDICATED TO MIC...</td>\n",
       "      <td>26.0</td>\n",
       "      <td>10.0</td>\n",
       "      <td>269.0</td>\n",
       "      <td>popsa</td>\n",
       "      <td>лазарев</td>\n",
       "      <td>40327.0</td>\n",
       "      <td>23.0</td>\n",
       "      <td>0.0</td>\n",
       "      <td>3546</td>\n",
       "    </tr>\n",
       "    <tr>\n",
       "      <th>3</th>\n",
       "      <td>\"Earth song\" премия МУЗ-тВ 2010 (LIVE)</td>\n",
       "      <td>12.0</td>\n",
       "      <td>7.0</td>\n",
       "      <td>163.0</td>\n",
       "      <td>popsa</td>\n",
       "      <td>лазарев</td>\n",
       "      <td>11907.0</td>\n",
       "      <td>11.0</td>\n",
       "      <td>0.0</td>\n",
       "      <td>3189</td>\n",
       "    </tr>\n",
       "    <tr>\n",
       "      <th>4</th>\n",
       "      <td>\"FAKE\" СЕРГЕЙ ЛАЗАРЕВ (SERGEY)</td>\n",
       "      <td>46.0</td>\n",
       "      <td>19.0</td>\n",
       "      <td>597.0</td>\n",
       "      <td>popsa</td>\n",
       "      <td>лазарев</td>\n",
       "      <td>91483.0</td>\n",
       "      <td>33.0</td>\n",
       "      <td>1.0</td>\n",
       "      <td>3361</td>\n",
       "    </tr>\n",
       "  </tbody>\n",
       "</table>\n",
       "</div>"
      ],
      "text/plain": [
       "                                               title  commentCount  \\\n",
       "0                          \"#2Маши \"Свободные линии\"          34.0   \n",
       "1          \"ALARM\" СЕРГЕЙ ЛАЗАРЕВ ( SERGEY LAZAREV )           NaN   \n",
       "2  \"EARTH SONG\"  SERGEY LAZAREV. DEDICATED TO MIC...          26.0   \n",
       "3             \"Earth song\" премия МУЗ-тВ 2010 (LIVE)          12.0   \n",
       "4                     \"FAKE\" СЕРГЕЙ ЛАЗАРЕВ (SERGEY)          46.0   \n",
       "\n",
       "   dislikeCount  likeCount music_style performer  viewCount  \\\n",
       "0          43.0     1402.0       popsa     2маши   214301.0   \n",
       "1         690.0    10532.0       popsa   лазарев  2221419.0   \n",
       "2          10.0      269.0       popsa   лазарев    40327.0   \n",
       "3           7.0      163.0       popsa   лазарев    11907.0   \n",
       "4          19.0      597.0       popsa   лазарев    91483.0   \n",
       "\n",
       "   commentators_uniq  comments_obscene_cnt  video_age  \n",
       "0               24.0                   0.0       1141  \n",
       "1                NaN                   NaN       3217  \n",
       "2               23.0                   0.0       3546  \n",
       "3               11.0                   0.0       3189  \n",
       "4               33.0                   1.0       3361  "
      ]
     },
     "execution_count": 21,
     "metadata": {},
     "output_type": "execute_result"
    }
   ],
   "source": [
    "df.head()"
   ]
  },
  {
   "cell_type": "markdown",
   "metadata": {},
   "source": [
    "## 1. Доставать часть информации"
   ]
  },
  {
   "cell_type": "code",
   "execution_count": 22,
   "metadata": {},
   "outputs": [
    {
     "data": {
      "text/plain": [
       "0         1402.0\n",
       "1        10532.0\n",
       "2          269.0\n",
       "3          163.0\n",
       "4          597.0\n",
       "          ...   \n",
       "19119       11.0\n",
       "19120     1837.0\n",
       "19121    30603.0\n",
       "19122      260.0\n",
       "19123       22.0\n",
       "Name: likeCount, Length: 19124, dtype: float64"
      ]
     },
     "execution_count": 22,
     "metadata": {},
     "output_type": "execute_result"
    }
   ],
   "source": [
    "df['likeCount']"
   ]
  },
  {
   "cell_type": "code",
   "execution_count": 23,
   "metadata": {},
   "outputs": [
    {
     "data": {
      "text/plain": [
       "0         1402.0\n",
       "1        10532.0\n",
       "2          269.0\n",
       "3          163.0\n",
       "4          597.0\n",
       "          ...   \n",
       "19119       11.0\n",
       "19120     1837.0\n",
       "19121    30603.0\n",
       "19122      260.0\n",
       "19123       22.0\n",
       "Name: likeCount, Length: 19124, dtype: float64"
      ]
     },
     "execution_count": 23,
     "metadata": {},
     "output_type": "execute_result"
    }
   ],
   "source": [
    "df.likeCount"
   ]
  },
  {
   "cell_type": "code",
   "execution_count": 24,
   "metadata": {},
   "outputs": [
    {
     "data": {
      "text/html": [
       "<div>\n",
       "<style scoped>\n",
       "    .dataframe tbody tr th:only-of-type {\n",
       "        vertical-align: middle;\n",
       "    }\n",
       "\n",
       "    .dataframe tbody tr th {\n",
       "        vertical-align: top;\n",
       "    }\n",
       "\n",
       "    .dataframe thead th {\n",
       "        text-align: right;\n",
       "    }\n",
       "</style>\n",
       "<table border=\"1\" class=\"dataframe\">\n",
       "  <thead>\n",
       "    <tr style=\"text-align: right;\">\n",
       "      <th></th>\n",
       "      <th>likeCount</th>\n",
       "      <th>dislikeCount</th>\n",
       "    </tr>\n",
       "  </thead>\n",
       "  <tbody>\n",
       "    <tr>\n",
       "      <th>0</th>\n",
       "      <td>1402.0</td>\n",
       "      <td>43.0</td>\n",
       "    </tr>\n",
       "    <tr>\n",
       "      <th>1</th>\n",
       "      <td>10532.0</td>\n",
       "      <td>690.0</td>\n",
       "    </tr>\n",
       "    <tr>\n",
       "      <th>2</th>\n",
       "      <td>269.0</td>\n",
       "      <td>10.0</td>\n",
       "    </tr>\n",
       "    <tr>\n",
       "      <th>3</th>\n",
       "      <td>163.0</td>\n",
       "      <td>7.0</td>\n",
       "    </tr>\n",
       "    <tr>\n",
       "      <th>4</th>\n",
       "      <td>597.0</td>\n",
       "      <td>19.0</td>\n",
       "    </tr>\n",
       "    <tr>\n",
       "      <th>...</th>\n",
       "      <td>...</td>\n",
       "      <td>...</td>\n",
       "    </tr>\n",
       "    <tr>\n",
       "      <th>19119</th>\n",
       "      <td>11.0</td>\n",
       "      <td>0.0</td>\n",
       "    </tr>\n",
       "    <tr>\n",
       "      <th>19120</th>\n",
       "      <td>1837.0</td>\n",
       "      <td>431.0</td>\n",
       "    </tr>\n",
       "    <tr>\n",
       "      <th>19121</th>\n",
       "      <td>30603.0</td>\n",
       "      <td>15494.0</td>\n",
       "    </tr>\n",
       "    <tr>\n",
       "      <th>19122</th>\n",
       "      <td>260.0</td>\n",
       "      <td>10.0</td>\n",
       "    </tr>\n",
       "    <tr>\n",
       "      <th>19123</th>\n",
       "      <td>22.0</td>\n",
       "      <td>0.0</td>\n",
       "    </tr>\n",
       "  </tbody>\n",
       "</table>\n",
       "<p>19124 rows × 2 columns</p>\n",
       "</div>"
      ],
      "text/plain": [
       "       likeCount  dislikeCount\n",
       "0         1402.0          43.0\n",
       "1        10532.0         690.0\n",
       "2          269.0          10.0\n",
       "3          163.0           7.0\n",
       "4          597.0          19.0\n",
       "...          ...           ...\n",
       "19119       11.0           0.0\n",
       "19120     1837.0         431.0\n",
       "19121    30603.0       15494.0\n",
       "19122      260.0          10.0\n",
       "19123       22.0           0.0\n",
       "\n",
       "[19124 rows x 2 columns]"
      ]
     },
     "execution_count": 24,
     "metadata": {},
     "output_type": "execute_result"
    }
   ],
   "source": [
    "df[['likeCount', 'dislikeCount']]"
   ]
  },
  {
   "cell_type": "code",
   "execution_count": 30,
   "metadata": {},
   "outputs": [
    {
     "data": {
      "text/plain": [
       "34.0"
      ]
     },
     "execution_count": 30,
     "metadata": {},
     "output_type": "execute_result"
    }
   ],
   "source": [
    "df.iloc[0, 1]"
   ]
  },
  {
   "cell_type": "code",
   "execution_count": 33,
   "metadata": {},
   "outputs": [
    {
     "data": {
      "text/plain": [
       "34.0"
      ]
     },
     "execution_count": 33,
     "metadata": {},
     "output_type": "execute_result"
    }
   ],
   "source": [
    "df.loc[0, 'commentCount']"
   ]
  },
  {
   "cell_type": "code",
   "execution_count": 38,
   "metadata": {},
   "outputs": [
    {
     "data": {
      "text/plain": [
       "pandas.core.series.Series"
      ]
     },
     "execution_count": 38,
     "metadata": {},
     "output_type": "execute_result"
    }
   ],
   "source": [
    "type(df.likeCount)"
   ]
  },
  {
   "cell_type": "code",
   "execution_count": 41,
   "metadata": {},
   "outputs": [
    {
     "data": {
      "text/plain": [
       "0         True\n",
       "1         True\n",
       "2         True\n",
       "3         True\n",
       "4         True\n",
       "         ...  \n",
       "19119    False\n",
       "19120     True\n",
       "19121     True\n",
       "19122     True\n",
       "19123    False\n",
       "Name: likeCount, Length: 19124, dtype: bool"
      ]
     },
     "execution_count": 41,
     "metadata": {},
     "output_type": "execute_result"
    }
   ],
   "source": [
    "df.likeCount > 100"
   ]
  },
  {
   "cell_type": "code",
   "execution_count": 43,
   "metadata": {},
   "outputs": [
    {
     "data": {
      "text/html": [
       "<div>\n",
       "<style scoped>\n",
       "    .dataframe tbody tr th:only-of-type {\n",
       "        vertical-align: middle;\n",
       "    }\n",
       "\n",
       "    .dataframe tbody tr th {\n",
       "        vertical-align: top;\n",
       "    }\n",
       "\n",
       "    .dataframe thead th {\n",
       "        text-align: right;\n",
       "    }\n",
       "</style>\n",
       "<table border=\"1\" class=\"dataframe\">\n",
       "  <thead>\n",
       "    <tr style=\"text-align: right;\">\n",
       "      <th></th>\n",
       "      <th>title</th>\n",
       "      <th>commentCount</th>\n",
       "      <th>dislikeCount</th>\n",
       "      <th>likeCount</th>\n",
       "      <th>music_style</th>\n",
       "      <th>performer</th>\n",
       "      <th>viewCount</th>\n",
       "      <th>commentators_uniq</th>\n",
       "      <th>comments_obscene_cnt</th>\n",
       "      <th>video_age</th>\n",
       "    </tr>\n",
       "  </thead>\n",
       "  <tbody>\n",
       "    <tr>\n",
       "      <th>0</th>\n",
       "      <td>\"#2Маши \"Свободные линии\"</td>\n",
       "      <td>34.0</td>\n",
       "      <td>43.0</td>\n",
       "      <td>1402.0</td>\n",
       "      <td>popsa</td>\n",
       "      <td>2маши</td>\n",
       "      <td>214301.0</td>\n",
       "      <td>24.0</td>\n",
       "      <td>0.0</td>\n",
       "      <td>1141</td>\n",
       "    </tr>\n",
       "    <tr>\n",
       "      <th>1</th>\n",
       "      <td>\"ALARM\" СЕРГЕЙ ЛАЗАРЕВ ( SERGEY LAZAREV )</td>\n",
       "      <td>NaN</td>\n",
       "      <td>690.0</td>\n",
       "      <td>10532.0</td>\n",
       "      <td>popsa</td>\n",
       "      <td>лазарев</td>\n",
       "      <td>2221419.0</td>\n",
       "      <td>NaN</td>\n",
       "      <td>NaN</td>\n",
       "      <td>3217</td>\n",
       "    </tr>\n",
       "    <tr>\n",
       "      <th>2</th>\n",
       "      <td>\"EARTH SONG\"  SERGEY LAZAREV. DEDICATED TO MIC...</td>\n",
       "      <td>26.0</td>\n",
       "      <td>10.0</td>\n",
       "      <td>269.0</td>\n",
       "      <td>popsa</td>\n",
       "      <td>лазарев</td>\n",
       "      <td>40327.0</td>\n",
       "      <td>23.0</td>\n",
       "      <td>0.0</td>\n",
       "      <td>3546</td>\n",
       "    </tr>\n",
       "    <tr>\n",
       "      <th>3</th>\n",
       "      <td>\"Earth song\" премия МУЗ-тВ 2010 (LIVE)</td>\n",
       "      <td>12.0</td>\n",
       "      <td>7.0</td>\n",
       "      <td>163.0</td>\n",
       "      <td>popsa</td>\n",
       "      <td>лазарев</td>\n",
       "      <td>11907.0</td>\n",
       "      <td>11.0</td>\n",
       "      <td>0.0</td>\n",
       "      <td>3189</td>\n",
       "    </tr>\n",
       "    <tr>\n",
       "      <th>4</th>\n",
       "      <td>\"FAKE\" СЕРГЕЙ ЛАЗАРЕВ (SERGEY)</td>\n",
       "      <td>46.0</td>\n",
       "      <td>19.0</td>\n",
       "      <td>597.0</td>\n",
       "      <td>popsa</td>\n",
       "      <td>лазарев</td>\n",
       "      <td>91483.0</td>\n",
       "      <td>33.0</td>\n",
       "      <td>1.0</td>\n",
       "      <td>3361</td>\n",
       "    </tr>\n",
       "    <tr>\n",
       "      <th>...</th>\n",
       "      <td>...</td>\n",
       "      <td>...</td>\n",
       "      <td>...</td>\n",
       "      <td>...</td>\n",
       "      <td>...</td>\n",
       "      <td>...</td>\n",
       "      <td>...</td>\n",
       "      <td>...</td>\n",
       "      <td>...</td>\n",
       "      <td>...</td>\n",
       "    </tr>\n",
       "    <tr>\n",
       "      <th>19116</th>\n",
       "      <td>♫ Музыка Моцарта для детей (Mozart's music for...</td>\n",
       "      <td>41.0</td>\n",
       "      <td>142.0</td>\n",
       "      <td>914.0</td>\n",
       "      <td>classic</td>\n",
       "      <td>classical_channel</td>\n",
       "      <td>308721.0</td>\n",
       "      <td>22.0</td>\n",
       "      <td>0.0</td>\n",
       "      <td>1748</td>\n",
       "    </tr>\n",
       "    <tr>\n",
       "      <th>19117</th>\n",
       "      <td>♫♡ Сборник Лучших Мелодий - Наслаждайтесь Восх...</td>\n",
       "      <td>2881.0</td>\n",
       "      <td>4108.0</td>\n",
       "      <td>58429.0</td>\n",
       "      <td>classic</td>\n",
       "      <td>classical_channel</td>\n",
       "      <td>9577433.0</td>\n",
       "      <td>1696.0</td>\n",
       "      <td>5.0</td>\n",
       "      <td>538</td>\n",
       "    </tr>\n",
       "    <tr>\n",
       "      <th>19120</th>\n",
       "      <td>❤ 2 ЧАСА ❤ МОЦАРТ Для Младенцев - Колыбельная ...</td>\n",
       "      <td>94.0</td>\n",
       "      <td>431.0</td>\n",
       "      <td>1837.0</td>\n",
       "      <td>classic</td>\n",
       "      <td>classical_channel</td>\n",
       "      <td>391836.0</td>\n",
       "      <td>37.0</td>\n",
       "      <td>1.0</td>\n",
       "      <td>239</td>\n",
       "    </tr>\n",
       "    <tr>\n",
       "      <th>19121</th>\n",
       "      <td>モスクワライブショー ' 17</td>\n",
       "      <td>4872.0</td>\n",
       "      <td>15494.0</td>\n",
       "      <td>30603.0</td>\n",
       "      <td>rap</td>\n",
       "      <td>элджей</td>\n",
       "      <td>1187340.0</td>\n",
       "      <td>1788.0</td>\n",
       "      <td>352.0</td>\n",
       "      <td>339</td>\n",
       "    </tr>\n",
       "    <tr>\n",
       "      <th>19122</th>\n",
       "      <td>舞梅鬼   -  新年好宝贝 / Mumiy Troll - Happy New Year ...</td>\n",
       "      <td>59.0</td>\n",
       "      <td>10.0</td>\n",
       "      <td>260.0</td>\n",
       "      <td>rock</td>\n",
       "      <td>мумий_тролль</td>\n",
       "      <td>10147.0</td>\n",
       "      <td>19.0</td>\n",
       "      <td>0.0</td>\n",
       "      <td>997</td>\n",
       "    </tr>\n",
       "  </tbody>\n",
       "</table>\n",
       "<p>9410 rows × 10 columns</p>\n",
       "</div>"
      ],
      "text/plain": [
       "                                                   title  commentCount  \\\n",
       "0                              \"#2Маши \"Свободные линии\"          34.0   \n",
       "1              \"ALARM\" СЕРГЕЙ ЛАЗАРЕВ ( SERGEY LAZAREV )           NaN   \n",
       "2      \"EARTH SONG\"  SERGEY LAZAREV. DEDICATED TO MIC...          26.0   \n",
       "3                 \"Earth song\" премия МУЗ-тВ 2010 (LIVE)          12.0   \n",
       "4                         \"FAKE\" СЕРГЕЙ ЛАЗАРЕВ (SERGEY)          46.0   \n",
       "...                                                  ...           ...   \n",
       "19116  ♫ Музыка Моцарта для детей (Mozart's music for...          41.0   \n",
       "19117  ♫♡ Сборник Лучших Мелодий - Наслаждайтесь Восх...        2881.0   \n",
       "19120  ❤ 2 ЧАСА ❤ МОЦАРТ Для Младенцев - Колыбельная ...          94.0   \n",
       "19121                                    モスクワライブショー ' 17        4872.0   \n",
       "19122  舞梅鬼   -  新年好宝贝 / Mumiy Troll - Happy New Year ...          59.0   \n",
       "\n",
       "       dislikeCount  likeCount music_style          performer  viewCount  \\\n",
       "0              43.0     1402.0       popsa              2маши   214301.0   \n",
       "1             690.0    10532.0       popsa            лазарев  2221419.0   \n",
       "2              10.0      269.0       popsa            лазарев    40327.0   \n",
       "3               7.0      163.0       popsa            лазарев    11907.0   \n",
       "4              19.0      597.0       popsa            лазарев    91483.0   \n",
       "...             ...        ...         ...                ...        ...   \n",
       "19116         142.0      914.0     classic  classical_channel   308721.0   \n",
       "19117        4108.0    58429.0     classic  classical_channel  9577433.0   \n",
       "19120         431.0     1837.0     classic  classical_channel   391836.0   \n",
       "19121       15494.0    30603.0         rap             элджей  1187340.0   \n",
       "19122          10.0      260.0        rock       мумий_тролль    10147.0   \n",
       "\n",
       "       commentators_uniq  comments_obscene_cnt  video_age  \n",
       "0                   24.0                   0.0       1141  \n",
       "1                    NaN                   NaN       3217  \n",
       "2                   23.0                   0.0       3546  \n",
       "3                   11.0                   0.0       3189  \n",
       "4                   33.0                   1.0       3361  \n",
       "...                  ...                   ...        ...  \n",
       "19116               22.0                   0.0       1748  \n",
       "19117             1696.0                   5.0        538  \n",
       "19120               37.0                   1.0        239  \n",
       "19121             1788.0                 352.0        339  \n",
       "19122               19.0                   0.0        997  \n",
       "\n",
       "[9410 rows x 10 columns]"
      ]
     },
     "execution_count": 43,
     "metadata": {},
     "output_type": "execute_result"
    }
   ],
   "source": [
    "# отобрал клипы с числом лайков больше 100\n",
    "df[df.likeCount > 100]"
   ]
  },
  {
   "cell_type": "code",
   "execution_count": 45,
   "metadata": {},
   "outputs": [],
   "source": [
    "df_rap = df[df.music_style == 'rap']"
   ]
  },
  {
   "cell_type": "code",
   "execution_count": 49,
   "metadata": {},
   "outputs": [],
   "source": [
    "df_rap.reset_index(drop=True, inplace=True)"
   ]
  },
  {
   "cell_type": "markdown",
   "metadata": {},
   "source": [
    "#### Хочу вывести клип с наибольшим кол-вом дизлайков"
   ]
  },
  {
   "cell_type": "code",
   "execution_count": 61,
   "metadata": {
    "scrolled": false
   },
   "outputs": [
    {
     "data": {
      "text/html": [
       "<div>\n",
       "<style scoped>\n",
       "    .dataframe tbody tr th:only-of-type {\n",
       "        vertical-align: middle;\n",
       "    }\n",
       "\n",
       "    .dataframe tbody tr th {\n",
       "        vertical-align: top;\n",
       "    }\n",
       "\n",
       "    .dataframe thead th {\n",
       "        text-align: right;\n",
       "    }\n",
       "</style>\n",
       "<table border=\"1\" class=\"dataframe\">\n",
       "  <thead>\n",
       "    <tr style=\"text-align: right;\">\n",
       "      <th></th>\n",
       "      <th>title</th>\n",
       "      <th>commentCount</th>\n",
       "      <th>dislikeCount</th>\n",
       "      <th>likeCount</th>\n",
       "      <th>music_style</th>\n",
       "      <th>performer</th>\n",
       "      <th>viewCount</th>\n",
       "      <th>commentators_uniq</th>\n",
       "      <th>comments_obscene_cnt</th>\n",
       "      <th>video_age</th>\n",
       "    </tr>\n",
       "  </thead>\n",
       "  <tbody>\n",
       "    <tr>\n",
       "      <th>1299</th>\n",
       "      <td>FACE - Я РОНЯЮ ЗАПАД (prod. by JuloOntheTrack)</td>\n",
       "      <td>303077.0</td>\n",
       "      <td>640698.0</td>\n",
       "      <td>270794.0</td>\n",
       "      <td>rap</td>\n",
       "      <td>face</td>\n",
       "      <td>14799217.0</td>\n",
       "      <td>1541.0</td>\n",
       "      <td>587.0</td>\n",
       "      <td>382</td>\n",
       "    </tr>\n",
       "  </tbody>\n",
       "</table>\n",
       "</div>"
      ],
      "text/plain": [
       "                                               title  commentCount  \\\n",
       "1299  FACE - Я РОНЯЮ ЗАПАД (prod. by JuloOntheTrack)      303077.0   \n",
       "\n",
       "      dislikeCount  likeCount music_style performer   viewCount  \\\n",
       "1299      640698.0   270794.0         rap      face  14799217.0   \n",
       "\n",
       "      commentators_uniq  comments_obscene_cnt  video_age  \n",
       "1299             1541.0                 587.0        382  "
      ]
     },
     "execution_count": 61,
     "metadata": {},
     "output_type": "execute_result"
    }
   ],
   "source": [
    "df[df.dislikeCount == df.dislikeCount.max()]"
   ]
  },
  {
   "cell_type": "code",
   "execution_count": 62,
   "metadata": {},
   "outputs": [
    {
     "data": {
      "text/html": [
       "<div>\n",
       "<style scoped>\n",
       "    .dataframe tbody tr th:only-of-type {\n",
       "        vertical-align: middle;\n",
       "    }\n",
       "\n",
       "    .dataframe tbody tr th {\n",
       "        vertical-align: top;\n",
       "    }\n",
       "\n",
       "    .dataframe thead th {\n",
       "        text-align: right;\n",
       "    }\n",
       "</style>\n",
       "<table border=\"1\" class=\"dataframe\">\n",
       "  <thead>\n",
       "    <tr style=\"text-align: right;\">\n",
       "      <th></th>\n",
       "      <th>title</th>\n",
       "      <th>commentCount</th>\n",
       "      <th>dislikeCount</th>\n",
       "      <th>likeCount</th>\n",
       "      <th>music_style</th>\n",
       "      <th>performer</th>\n",
       "      <th>viewCount</th>\n",
       "      <th>commentators_uniq</th>\n",
       "      <th>comments_obscene_cnt</th>\n",
       "      <th>video_age</th>\n",
       "    </tr>\n",
       "  </thead>\n",
       "  <tbody>\n",
       "    <tr>\n",
       "      <th>2635</th>\n",
       "      <td>Miyagi &amp; Эндшпиль feat. Рем Дигга - I Got Love...</td>\n",
       "      <td>73038.0</td>\n",
       "      <td>71155.0</td>\n",
       "      <td>1297718.0</td>\n",
       "      <td>rap</td>\n",
       "      <td>miyagi&amp;эндшпиль</td>\n",
       "      <td>272047706.0</td>\n",
       "      <td>NaN</td>\n",
       "      <td>NaN</td>\n",
       "      <td>650</td>\n",
       "    </tr>\n",
       "  </tbody>\n",
       "</table>\n",
       "</div>"
      ],
      "text/plain": [
       "                                                  title  commentCount  \\\n",
       "2635  Miyagi & Эндшпиль feat. Рем Дигга - I Got Love...       73038.0   \n",
       "\n",
       "      dislikeCount  likeCount music_style        performer    viewCount  \\\n",
       "2635       71155.0  1297718.0         rap  miyagi&эндшпиль  272047706.0   \n",
       "\n",
       "      commentators_uniq  comments_obscene_cnt  video_age  \n",
       "2635                NaN                   NaN        650  "
      ]
     },
     "execution_count": 62,
     "metadata": {},
     "output_type": "execute_result"
    }
   ],
   "source": [
    "df[df.viewCount == df.viewCount.max()]"
   ]
  },
  {
   "cell_type": "markdown",
   "metadata": {},
   "source": [
    "## 2. Считать показатели"
   ]
  },
  {
   "cell_type": "code",
   "execution_count": 55,
   "metadata": {},
   "outputs": [
    {
     "data": {
      "text/plain": [
       "0.0"
      ]
     },
     "execution_count": 55,
     "metadata": {},
     "output_type": "execute_result"
    }
   ],
   "source": [
    "df.likeCount.min()"
   ]
  },
  {
   "cell_type": "code",
   "execution_count": 56,
   "metadata": {},
   "outputs": [
    {
     "data": {
      "text/plain": [
       "5735.014482758621"
      ]
     },
     "execution_count": 56,
     "metadata": {},
     "output_type": "execute_result"
    }
   ],
   "source": [
    "df.likeCount.mean()"
   ]
  },
  {
   "cell_type": "code",
   "execution_count": 57,
   "metadata": {},
   "outputs": [
    {
     "data": {
      "text/plain": [
       "100.0"
      ]
     },
     "execution_count": 57,
     "metadata": {},
     "output_type": "execute_result"
    }
   ],
   "source": [
    "df.likeCount.median()"
   ]
  },
  {
   "cell_type": "code",
   "execution_count": 58,
   "metadata": {},
   "outputs": [
    {
     "data": {
      "text/plain": [
       "100.0"
      ]
     },
     "execution_count": 58,
     "metadata": {},
     "output_type": "execute_result"
    }
   ],
   "source": [
    "df.likeCount.quantile(0.5)"
   ]
  },
  {
   "cell_type": "code",
   "execution_count": 65,
   "metadata": {
    "scrolled": true
   },
   "outputs": [
    {
     "data": {
      "text/plain": [
       "0        25\n",
       "1        41\n",
       "2        75\n",
       "3        38\n",
       "4        30\n",
       "         ..\n",
       "19119    35\n",
       "19120    88\n",
       "19121    15\n",
       "19122    65\n",
       "19123    63\n",
       "Name: title, Length: 19124, dtype: int64"
      ]
     },
     "execution_count": 65,
     "metadata": {},
     "output_type": "execute_result"
    }
   ],
   "source": [
    "df.title.apply(len)"
   ]
  },
  {
   "cell_type": "markdown",
   "metadata": {},
   "source": [
    "## 3. Создавать новые колонки"
   ]
  },
  {
   "cell_type": "code",
   "execution_count": 69,
   "metadata": {},
   "outputs": [],
   "source": [
    "df['title_lower'] = df.title.apply(lambda x: x.lower())"
   ]
  },
  {
   "cell_type": "code",
   "execution_count": 73,
   "metadata": {},
   "outputs": [
    {
     "data": {
      "text/html": [
       "<div>\n",
       "<style scoped>\n",
       "    .dataframe tbody tr th:only-of-type {\n",
       "        vertical-align: middle;\n",
       "    }\n",
       "\n",
       "    .dataframe tbody tr th {\n",
       "        vertical-align: top;\n",
       "    }\n",
       "\n",
       "    .dataframe thead th {\n",
       "        text-align: right;\n",
       "    }\n",
       "</style>\n",
       "<table border=\"1\" class=\"dataframe\">\n",
       "  <thead>\n",
       "    <tr style=\"text-align: right;\">\n",
       "      <th></th>\n",
       "      <th>title</th>\n",
       "      <th>commentCount</th>\n",
       "      <th>dislikeCount</th>\n",
       "      <th>likeCount</th>\n",
       "      <th>music_style</th>\n",
       "      <th>performer</th>\n",
       "      <th>viewCount</th>\n",
       "      <th>commentators_uniq</th>\n",
       "      <th>comments_obscene_cnt</th>\n",
       "      <th>video_age</th>\n",
       "      <th>title_lower</th>\n",
       "    </tr>\n",
       "  </thead>\n",
       "  <tbody>\n",
       "    <tr>\n",
       "      <th>2635</th>\n",
       "      <td>Miyagi &amp; Эндшпиль feat. Рем Дигга - I Got Love...</td>\n",
       "      <td>73038.0</td>\n",
       "      <td>71155.0</td>\n",
       "      <td>1297718.0</td>\n",
       "      <td>rap</td>\n",
       "      <td>miyagi&amp;эндшпиль</td>\n",
       "      <td>272047706.0</td>\n",
       "      <td>NaN</td>\n",
       "      <td>NaN</td>\n",
       "      <td>650</td>\n",
       "      <td>miyagi &amp; эндшпиль feat. рем дигга - i got love...</td>\n",
       "    </tr>\n",
       "    <tr>\n",
       "      <th>18649</th>\n",
       "      <td>Элджей &amp; Feduk - Розовое вино</td>\n",
       "      <td>191702.0</td>\n",
       "      <td>151772.0</td>\n",
       "      <td>1686810.0</td>\n",
       "      <td>rap</td>\n",
       "      <td>feduk</td>\n",
       "      <td>208753182.0</td>\n",
       "      <td>3702.0</td>\n",
       "      <td>183.0</td>\n",
       "      <td>485</td>\n",
       "      <td>элджей &amp; feduk - розовое вино</td>\n",
       "    </tr>\n",
       "    <tr>\n",
       "      <th>1412</th>\n",
       "      <td>Four Seasons ~ Vivaldi</td>\n",
       "      <td>51848.0</td>\n",
       "      <td>45120.0</td>\n",
       "      <td>849676.0</td>\n",
       "      <td>classic</td>\n",
       "      <td>classical_channel</td>\n",
       "      <td>196812152.0</td>\n",
       "      <td>1864.0</td>\n",
       "      <td>24.0</td>\n",
       "      <td>2965</td>\n",
       "      <td>four seasons ~ vivaldi</td>\n",
       "    </tr>\n",
       "    <tr>\n",
       "      <th>17569</th>\n",
       "      <td>Тимати feat. Егор Крид - Где ты, где я (премье...</td>\n",
       "      <td>46221.0</td>\n",
       "      <td>75745.0</td>\n",
       "      <td>740358.0</td>\n",
       "      <td>rap</td>\n",
       "      <td>тимати</td>\n",
       "      <td>195537263.0</td>\n",
       "      <td>909.0</td>\n",
       "      <td>49.0</td>\n",
       "      <td>1003</td>\n",
       "      <td>тимати feat. егор крид - где ты, где я (премье...</td>\n",
       "    </tr>\n",
       "    <tr>\n",
       "      <th>17577</th>\n",
       "      <td>Тимати feat. Рекорд Оркестр - Баклажан (Лада С...</td>\n",
       "      <td>47672.0</td>\n",
       "      <td>148211.0</td>\n",
       "      <td>587808.0</td>\n",
       "      <td>rap</td>\n",
       "      <td>тимати</td>\n",
       "      <td>173244960.0</td>\n",
       "      <td>914.0</td>\n",
       "      <td>19.0</td>\n",
       "      <td>1284</td>\n",
       "      <td>тимати feat. рекорд оркестр - баклажан (лада с...</td>\n",
       "    </tr>\n",
       "  </tbody>\n",
       "</table>\n",
       "</div>"
      ],
      "text/plain": [
       "                                                   title  commentCount  \\\n",
       "2635   Miyagi & Эндшпиль feat. Рем Дигга - I Got Love...       73038.0   \n",
       "18649                      Элджей & Feduk - Розовое вино      191702.0   \n",
       "1412                              Four Seasons ~ Vivaldi       51848.0   \n",
       "17569  Тимати feat. Егор Крид - Где ты, где я (премье...       46221.0   \n",
       "17577  Тимати feat. Рекорд Оркестр - Баклажан (Лада С...       47672.0   \n",
       "\n",
       "       dislikeCount  likeCount music_style          performer    viewCount  \\\n",
       "2635        71155.0  1297718.0         rap    miyagi&эндшпиль  272047706.0   \n",
       "18649      151772.0  1686810.0         rap              feduk  208753182.0   \n",
       "1412        45120.0   849676.0     classic  classical_channel  196812152.0   \n",
       "17569       75745.0   740358.0         rap             тимати  195537263.0   \n",
       "17577      148211.0   587808.0         rap             тимати  173244960.0   \n",
       "\n",
       "       commentators_uniq  comments_obscene_cnt  video_age  \\\n",
       "2635                 NaN                   NaN        650   \n",
       "18649             3702.0                 183.0        485   \n",
       "1412              1864.0                  24.0       2965   \n",
       "17569              909.0                  49.0       1003   \n",
       "17577              914.0                  19.0       1284   \n",
       "\n",
       "                                             title_lower  \n",
       "2635   miyagi & эндшпиль feat. рем дигга - i got love...  \n",
       "18649                      элджей & feduk - розовое вино  \n",
       "1412                              four seasons ~ vivaldi  \n",
       "17569  тимати feat. егор крид - где ты, где я (премье...  \n",
       "17577  тимати feat. рекорд оркестр - баклажан (лада с...  "
      ]
     },
     "execution_count": 73,
     "metadata": {},
     "output_type": "execute_result"
    }
   ],
   "source": [
    "df.sort_values(by='viewCount', ascending=False).head()"
   ]
  },
  {
   "cell_type": "code",
   "execution_count": 74,
   "metadata": {},
   "outputs": [],
   "source": [
    "df['likeCount_share'] = df['likeCount'] / df['viewCount']"
   ]
  },
  {
   "cell_type": "code",
   "execution_count": 78,
   "metadata": {},
   "outputs": [
    {
     "data": {
      "text/html": [
       "<div>\n",
       "<style scoped>\n",
       "    .dataframe tbody tr th:only-of-type {\n",
       "        vertical-align: middle;\n",
       "    }\n",
       "\n",
       "    .dataframe tbody tr th {\n",
       "        vertical-align: top;\n",
       "    }\n",
       "\n",
       "    .dataframe thead th {\n",
       "        text-align: right;\n",
       "    }\n",
       "</style>\n",
       "<table border=\"1\" class=\"dataframe\">\n",
       "  <thead>\n",
       "    <tr style=\"text-align: right;\">\n",
       "      <th></th>\n",
       "      <th>title</th>\n",
       "      <th>commentCount</th>\n",
       "      <th>dislikeCount</th>\n",
       "      <th>likeCount</th>\n",
       "      <th>music_style</th>\n",
       "      <th>performer</th>\n",
       "      <th>viewCount</th>\n",
       "      <th>commentators_uniq</th>\n",
       "      <th>comments_obscene_cnt</th>\n",
       "      <th>video_age</th>\n",
       "      <th>title_lower</th>\n",
       "      <th>likeCount_share</th>\n",
       "    </tr>\n",
       "  </thead>\n",
       "  <tbody>\n",
       "    <tr>\n",
       "      <th>11351</th>\n",
       "      <td>ЛСП. Ирония судьбы или Tragic City.</td>\n",
       "      <td>2090.0</td>\n",
       "      <td>659.0</td>\n",
       "      <td>34149.0</td>\n",
       "      <td>rap</td>\n",
       "      <td>лсп</td>\n",
       "      <td>272163.0</td>\n",
       "      <td>1450.0</td>\n",
       "      <td>249.0</td>\n",
       "      <td>89</td>\n",
       "      <td>лсп. ирония судьбы или tragic city.</td>\n",
       "      <td>0.125473</td>\n",
       "    </tr>\n",
       "    <tr>\n",
       "      <th>15508</th>\n",
       "      <td>С чего все начиналось? Итоги 2017 года, лучшие...</td>\n",
       "      <td>2259.0</td>\n",
       "      <td>203.0</td>\n",
       "      <td>29415.0</td>\n",
       "      <td>popsa</td>\n",
       "      <td>кока</td>\n",
       "      <td>294638.0</td>\n",
       "      <td>937.0</td>\n",
       "      <td>3.0</td>\n",
       "      <td>439</td>\n",
       "      <td>с чего все начиналось? итоги 2017 года, лучшие...</td>\n",
       "      <td>0.099834</td>\n",
       "    </tr>\n",
       "    <tr>\n",
       "      <th>12968</th>\n",
       "      <td>Накрыла стол на пол-ляма. Спела на MTV. Разреш...</td>\n",
       "      <td>606.0</td>\n",
       "      <td>173.0</td>\n",
       "      <td>24179.0</td>\n",
       "      <td>popsa</td>\n",
       "      <td>кока</td>\n",
       "      <td>246861.0</td>\n",
       "      <td>433.0</td>\n",
       "      <td>4.0</td>\n",
       "      <td>532</td>\n",
       "      <td>накрыла стол на пол-ляма. спела на mtv. разреш...</td>\n",
       "      <td>0.097946</td>\n",
       "    </tr>\n",
       "    <tr>\n",
       "      <th>12404</th>\n",
       "      <td>Мой Инстаграм взломан! Помогите.</td>\n",
       "      <td>9472.0</td>\n",
       "      <td>343.0</td>\n",
       "      <td>31937.0</td>\n",
       "      <td>popsa</td>\n",
       "      <td>кока</td>\n",
       "      <td>353824.0</td>\n",
       "      <td>893.0</td>\n",
       "      <td>6.0</td>\n",
       "      <td>389</td>\n",
       "      <td>мой инстаграм взломан! помогите.</td>\n",
       "      <td>0.090262</td>\n",
       "    </tr>\n",
       "    <tr>\n",
       "      <th>8597</th>\n",
       "      <td>Дом 2 / Где логика у Натана? / Кто расцарапал ...</td>\n",
       "      <td>1917.0</td>\n",
       "      <td>386.0</td>\n",
       "      <td>36513.0</td>\n",
       "      <td>popsa</td>\n",
       "      <td>кока</td>\n",
       "      <td>412456.0</td>\n",
       "      <td>918.0</td>\n",
       "      <td>12.0</td>\n",
       "      <td>483</td>\n",
       "      <td>дом 2 / где логика у натана? / кто расцарапал ...</td>\n",
       "      <td>0.088526</td>\n",
       "    </tr>\n",
       "  </tbody>\n",
       "</table>\n",
       "</div>"
      ],
      "text/plain": [
       "                                                   title  commentCount  \\\n",
       "11351                ЛСП. Ирония судьбы или Tragic City.        2090.0   \n",
       "15508  С чего все начиналось? Итоги 2017 года, лучшие...        2259.0   \n",
       "12968  Накрыла стол на пол-ляма. Спела на MTV. Разреш...         606.0   \n",
       "12404                   Мой Инстаграм взломан! Помогите.        9472.0   \n",
       "8597   Дом 2 / Где логика у Натана? / Кто расцарапал ...        1917.0   \n",
       "\n",
       "       dislikeCount  likeCount music_style performer  viewCount  \\\n",
       "11351         659.0    34149.0         rap       лсп   272163.0   \n",
       "15508         203.0    29415.0       popsa      кока   294638.0   \n",
       "12968         173.0    24179.0       popsa      кока   246861.0   \n",
       "12404         343.0    31937.0       popsa      кока   353824.0   \n",
       "8597          386.0    36513.0       popsa      кока   412456.0   \n",
       "\n",
       "       commentators_uniq  comments_obscene_cnt  video_age  \\\n",
       "11351             1450.0                 249.0         89   \n",
       "15508              937.0                   3.0        439   \n",
       "12968              433.0                   4.0        532   \n",
       "12404              893.0                   6.0        389   \n",
       "8597               918.0                  12.0        483   \n",
       "\n",
       "                                             title_lower  likeCount_share  \n",
       "11351                лсп. ирония судьбы или tragic city.         0.125473  \n",
       "15508  с чего все начиналось? итоги 2017 года, лучшие...         0.099834  \n",
       "12968  накрыла стол на пол-ляма. спела на mtv. разреш...         0.097946  \n",
       "12404                   мой инстаграм взломан! помогите.         0.090262  \n",
       "8597   дом 2 / где логика у натана? / кто расцарапал ...         0.088526  "
      ]
     },
     "execution_count": 78,
     "metadata": {},
     "output_type": "execute_result"
    }
   ],
   "source": [
    "df[df.viewCount > 100_000].sort_values(by='likeCount_share', ascending=False).head()"
   ]
  },
  {
   "cell_type": "markdown",
   "metadata": {},
   "source": [
    "## 4. Группировка"
   ]
  },
  {
   "cell_type": "code",
   "execution_count": 80,
   "metadata": {},
   "outputs": [
    {
     "data": {
      "text/plain": [
       "music_style\n",
       "classic    28663.333333\n",
       "rap        26802.456253\n",
       "popsa       7492.273792\n",
       "indi        2471.842299\n",
       "rock        2132.887061\n",
       "estrada      938.686662\n",
       "shanson      440.390564\n",
       "Name: likeCount, dtype: float64"
      ]
     },
     "execution_count": 80,
     "metadata": {},
     "output_type": "execute_result"
    }
   ],
   "source": [
    "df.groupby('music_style')['likeCount'].mean().sort_values(ascending=False)"
   ]
  },
  {
   "cell_type": "code",
   "execution_count": 81,
   "metadata": {},
   "outputs": [
    {
     "data": {
      "text/plain": [
       "music_style\n",
       "rap        2656.0\n",
       "classic     536.0\n",
       "popsa       323.0\n",
       "rock         80.0\n",
       "estrada      47.0\n",
       "indi         37.0\n",
       "shanson      17.0\n",
       "Name: likeCount, dtype: float64"
      ]
     },
     "execution_count": 81,
     "metadata": {},
     "output_type": "execute_result"
    }
   ],
   "source": [
    "df.groupby('music_style')['likeCount'].median().sort_values(ascending=False)"
   ]
  },
  {
   "cell_type": "code",
   "execution_count": 83,
   "metadata": {},
   "outputs": [
    {
     "data": {
      "text/plain": [
       "music_style  performer        \n",
       "classic      classical_channel    536.0\n",
       "estrada      агутин                 4.0\n",
       "             басков                 9.0\n",
       "             буйнов                 1.0\n",
       "             ваенга                57.0\n",
       "                                  ...  \n",
       "shanson      жека                  61.5\n",
       "             ирина_круг           101.0\n",
       "             михаил_круг           12.0\n",
       "             трофимов              18.0\n",
       "             шуфутинский            6.0\n",
       "Name: likeCount, Length: 111, dtype: float64"
      ]
     },
     "execution_count": 83,
     "metadata": {},
     "output_type": "execute_result"
    }
   ],
   "source": [
    "df.groupby(['music_style', 'performer'])['likeCount'].median()"
   ]
  },
  {
   "cell_type": "code",
   "execution_count": 87,
   "metadata": {},
   "outputs": [
    {
     "data": {
      "text/html": [
       "<div>\n",
       "<style scoped>\n",
       "    .dataframe tbody tr th:only-of-type {\n",
       "        vertical-align: middle;\n",
       "    }\n",
       "\n",
       "    .dataframe tbody tr th {\n",
       "        vertical-align: top;\n",
       "    }\n",
       "\n",
       "    .dataframe thead tr th {\n",
       "        text-align: left;\n",
       "    }\n",
       "\n",
       "    .dataframe thead tr:last-of-type th {\n",
       "        text-align: right;\n",
       "    }\n",
       "</style>\n",
       "<table border=\"1\" class=\"dataframe\">\n",
       "  <thead>\n",
       "    <tr>\n",
       "      <th></th>\n",
       "      <th colspan=\"2\" halign=\"left\">likeCount</th>\n",
       "      <th>dislikeCount</th>\n",
       "      <th>viewCount</th>\n",
       "    </tr>\n",
       "    <tr>\n",
       "      <th></th>\n",
       "      <th>mean</th>\n",
       "      <th>amax</th>\n",
       "      <th>amax</th>\n",
       "      <th>sum</th>\n",
       "    </tr>\n",
       "    <tr>\n",
       "      <th>music_style</th>\n",
       "      <th></th>\n",
       "      <th></th>\n",
       "      <th></th>\n",
       "      <th></th>\n",
       "    </tr>\n",
       "  </thead>\n",
       "  <tbody>\n",
       "    <tr>\n",
       "      <th>classic</th>\n",
       "      <td>28663.333333</td>\n",
       "      <td>849676.0</td>\n",
       "      <td>52892.0</td>\n",
       "      <td>1.489967e+09</td>\n",
       "    </tr>\n",
       "    <tr>\n",
       "      <th>estrada</th>\n",
       "      <td>938.686662</td>\n",
       "      <td>377957.0</td>\n",
       "      <td>348770.0</td>\n",
       "      <td>9.955589e+08</td>\n",
       "    </tr>\n",
       "    <tr>\n",
       "      <th>indi</th>\n",
       "      <td>2471.842299</td>\n",
       "      <td>389416.0</td>\n",
       "      <td>32478.0</td>\n",
       "      <td>2.130432e+08</td>\n",
       "    </tr>\n",
       "    <tr>\n",
       "      <th>popsa</th>\n",
       "      <td>7492.273792</td>\n",
       "      <td>698902.0</td>\n",
       "      <td>177367.0</td>\n",
       "      <td>4.559673e+09</td>\n",
       "    </tr>\n",
       "    <tr>\n",
       "      <th>rap</th>\n",
       "      <td>26802.456253</td>\n",
       "      <td>1686810.0</td>\n",
       "      <td>640698.0</td>\n",
       "      <td>6.425898e+09</td>\n",
       "    </tr>\n",
       "    <tr>\n",
       "      <th>rock</th>\n",
       "      <td>2132.887061</td>\n",
       "      <td>827118.0</td>\n",
       "      <td>133644.0</td>\n",
       "      <td>2.121552e+09</td>\n",
       "    </tr>\n",
       "    <tr>\n",
       "      <th>shanson</th>\n",
       "      <td>440.390564</td>\n",
       "      <td>85023.0</td>\n",
       "      <td>12906.0</td>\n",
       "      <td>3.274007e+08</td>\n",
       "    </tr>\n",
       "  </tbody>\n",
       "</table>\n",
       "</div>"
      ],
      "text/plain": [
       "                likeCount            dislikeCount     viewCount\n",
       "                     mean       amax         amax           sum\n",
       "music_style                                                    \n",
       "classic      28663.333333   849676.0      52892.0  1.489967e+09\n",
       "estrada        938.686662   377957.0     348770.0  9.955589e+08\n",
       "indi          2471.842299   389416.0      32478.0  2.130432e+08\n",
       "popsa         7492.273792   698902.0     177367.0  4.559673e+09\n",
       "rap          26802.456253  1686810.0     640698.0  6.425898e+09\n",
       "rock          2132.887061   827118.0     133644.0  2.121552e+09\n",
       "shanson        440.390564    85023.0      12906.0  3.274007e+08"
      ]
     },
     "execution_count": 87,
     "metadata": {},
     "output_type": "execute_result"
    }
   ],
   "source": [
    "d = {'likeCount': [np.mean, np.max], \n",
    "     'dislikeCount': np.max,\n",
    "     'viewCount': np.sum}\n",
    "\n",
    "df.groupby('music_style').agg(d)"
   ]
  },
  {
   "cell_type": "markdown",
   "metadata": {},
   "source": []
  },
  {
   "cell_type": "code",
   "execution_count": 93,
   "metadata": {},
   "outputs": [
    {
     "data": {
      "text/plain": [
       "0                                \"#2маши \"свободные линии\"\n",
       "1                \"alarm\" сергей лазарев ( sergey lazarev )\n",
       "2        \"earth song\"  sergey lazarev. dedicated to mic...\n",
       "3                   \"earth song\" премия муз-тв 2010 (live)\n",
       "4                           \"fake\" сергей лазарев (sergey)\n",
       "                               ...                        \n",
       "19119                  ♫♪мы расстаемся ♫♪  бутырка new2019\n",
       "19120    ❤ 2 часа ❤ моцарт для младенцев - колыбельная ...\n",
       "19121                                      モスクワライブショー ' 17\n",
       "19122    舞梅鬼   -  新年好宝贝 / mumiy troll - happy new year ...\n",
       "19123    🎄#премьера песни!!! 2019г(вы не спешите говори...\n",
       "Name: title, Length: 19124, dtype: object"
      ]
     },
     "execution_count": 93,
     "metadata": {},
     "output_type": "execute_result"
    }
   ],
   "source": [
    "def my_lower(x):\n",
    "    return x.lower()\n",
    "\n",
    "\n",
    "df.title.apply(my_lower)"
   ]
  },
  {
   "cell_type": "code",
   "execution_count": 94,
   "metadata": {},
   "outputs": [
    {
     "data": {
      "text/plain": [
       "0                                \"#2маши \"свободные линии\"\n",
       "1                \"alarm\" сергей лазарев ( sergey lazarev )\n",
       "2        \"earth song\"  sergey lazarev. dedicated to mic...\n",
       "3                   \"earth song\" премия муз-тв 2010 (live)\n",
       "4                           \"fake\" сергей лазарев (sergey)\n",
       "                               ...                        \n",
       "19119                  ♫♪мы расстаемся ♫♪  бутырка new2019\n",
       "19120    ❤ 2 часа ❤ моцарт для младенцев - колыбельная ...\n",
       "19121                                      モスクワライブショー ' 17\n",
       "19122    舞梅鬼   -  新年好宝贝 / mumiy troll - happy new year ...\n",
       "19123    🎄#премьера песни!!! 2019г(вы не спешите говори...\n",
       "Name: title, Length: 19124, dtype: object"
      ]
     },
     "execution_count": 94,
     "metadata": {},
     "output_type": "execute_result"
    }
   ],
   "source": [
    "df.title.apply(lambda x: x.lower())"
   ]
  },
  {
   "cell_type": "code",
   "execution_count": 92,
   "metadata": {},
   "outputs": [
    {
     "data": {
      "text/plain": [
       "0        25\n",
       "1        41\n",
       "2        75\n",
       "3        38\n",
       "4        30\n",
       "         ..\n",
       "19119    35\n",
       "19120    88\n",
       "19121    15\n",
       "19122    65\n",
       "19123    63\n",
       "Name: title, Length: 19124, dtype: int64"
      ]
     },
     "execution_count": 92,
     "metadata": {},
     "output_type": "execute_result"
    }
   ],
   "source": [
    "df.title.apply(len)"
   ]
  },
  {
   "cell_type": "markdown",
   "metadata": {},
   "source": [
    "## 5. Визуализировать"
   ]
  },
  {
   "cell_type": "code",
   "execution_count": 101,
   "metadata": {},
   "outputs": [],
   "source": [
    "import matplotlib.pyplot as plt\n",
    "\n",
    "# зададим параметры рисуемых нами графиков, например, размер\n",
    "plt.rcParams['figure.figsize'] = (10, 5)"
   ]
  },
  {
   "cell_type": "code",
   "execution_count": 102,
   "metadata": {},
   "outputs": [
    {
     "data": {
      "text/plain": [
       "<AxesSubplot:>"
      ]
     },
     "execution_count": 102,
     "metadata": {},
     "output_type": "execute_result"
    },
    {
     "data": {
      "image/png": "[encoded data removed]",
      "text/plain": [
       "<Figure size 720x360 with 1 Axes>"
      ]
     },
     "metadata": {
      "needs_background": "light"
     },
     "output_type": "display_data"
    }
   ],
   "source": [
    "df.likeCount.hist(bins=100, log=True)"
   ]
  },
  {
   "cell_type": "code",
   "execution_count": 103,
   "metadata": {},
   "outputs": [],
   "source": [
    "import seaborn as sns"
   ]
  },
  {
   "cell_type": "code",
   "execution_count": 108,
   "metadata": {},
   "outputs": [],
   "source": [
    "df['likeCount_log'] = df.likeCount.apply(lambda x: np.log(x+1))"
   ]
  },
  {
   "cell_type": "code",
   "execution_count": 109,
   "metadata": {},
   "outputs": [
    {
     "data": {
      "text/plain": [
       "<AxesSubplot:xlabel='music_style', ylabel='likeCount_log'>"
      ]
     },
     "execution_count": 109,
     "metadata": {},
     "output_type": "execute_result"
    },
    {
     "data": {
      "image/png": "[encoded data removed]",
      "text/plain": [
       "<Figure size 720x360 with 1 Axes>"
      ]
     },
     "metadata": {
      "needs_background": "light"
     },
     "output_type": "display_data"
    }
   ],
   "source": [
    "sns.boxplot(data=df, x='music_style', y='likeCount_log')"
   ]
  },
  {
   "cell_type": "markdown",
   "metadata": {},
   "source": [
    "Сколько наблюдений у меня в каждом жанре"
   ]
  },
  {
   "cell_type": "code",
   "execution_count": 112,
   "metadata": {},
   "outputs": [],
   "source": [
    "gb = df.groupby('music_style')['title'].count()"
   ]
  },
  {
   "cell_type": "code",
   "execution_count": 148,
   "metadata": {},
   "outputs": [
    {
     "data": {
      "text/plain": [
       "''"
      ]
     },
     "execution_count": 148,
     "metadata": {},
     "output_type": "execute_result"
    },
    {
     "data": {
      "image/png": "[encoded data removed]",
      "text/plain": [
       "<Figure size 720x360 with 1 Axes>"
      ]
     },
     "metadata": {
      "needs_background": "light"
     },
     "output_type": "display_data"
    }
   ],
   "source": [
    "gb.sort_values().plot(kind='bar')\n",
    "\n",
    "plt.xlabel('Жанр музыки', fontsize=15)\n",
    "plt.ylabel('Кол-во клипов', fontsize=15)\n",
    "plt.xticks(rotation=0, ha='right')\n",
    "plt.axhline(5000, color='black', ls='--');"
   ]
  },
  {
   "cell_type": "code",
   "execution_count": 146,
   "metadata": {},
   "outputs": [
    {
     "data": {
      "image/png": "[encoded data removed]",
      "text/plain": [
       "<Figure size 864x504 with 4 Axes>"
      ]
     },
     "metadata": {
      "needs_background": "light"
     },
     "output_type": "display_data"
    }
   ],
   "source": [
    "_, axes = plt.subplots(2, 2, figsize=(12, 7))\n",
    "\n",
    "df[df.music_style == 'rap'].likeCount.hist(ax=axes[0, 0], bins=100, log=True)\n",
    "df[df.music_style != 'rap'].likeCount.hist(ax=axes[0, 1], bins=100, log=True);"
   ]
  },
  {
   "cell_type": "code",
   "execution_count": 126,
   "metadata": {},
   "outputs": [],
   "source": [
    "def stat(x):\n",
    "    return sum(x), max(x)"
   ]
  },
  {
   "cell_type": "code",
   "execution_count": 131,
   "metadata": {},
   "outputs": [],
   "source": [
    "x = [1, 2, 3]\n",
    "\n",
    "_, maximum = stat(x)"
   ]
  },
  {
   "cell_type": "code",
   "execution_count": 132,
   "metadata": {},
   "outputs": [
    {
     "data": {
      "text/plain": [
       "3"
      ]
     },
     "execution_count": 132,
     "metadata": {},
     "output_type": "execute_result"
    }
   ],
   "source": [
    "maximum"
   ]
  },
  {
   "cell_type": "markdown",
   "metadata": {},
   "source": [
    "## 6. Решать проблемы с данными"
   ]
  },
  {
   "cell_type": "markdown",
   "metadata": {},
   "source": [
    "__Пропуски__"
   ]
  },
  {
   "cell_type": "code",
   "execution_count": 150,
   "metadata": {},
   "outputs": [
    {
     "data": {
      "text/html": [
       "<div>\n",
       "<style scoped>\n",
       "    .dataframe tbody tr th:only-of-type {\n",
       "        vertical-align: middle;\n",
       "    }\n",
       "\n",
       "    .dataframe tbody tr th {\n",
       "        vertical-align: top;\n",
       "    }\n",
       "\n",
       "    .dataframe thead th {\n",
       "        text-align: right;\n",
       "    }\n",
       "</style>\n",
       "<table border=\"1\" class=\"dataframe\">\n",
       "  <thead>\n",
       "    <tr style=\"text-align: right;\">\n",
       "      <th></th>\n",
       "      <th>title</th>\n",
       "      <th>commentCount</th>\n",
       "      <th>dislikeCount</th>\n",
       "      <th>likeCount</th>\n",
       "      <th>music_style</th>\n",
       "      <th>performer</th>\n",
       "      <th>viewCount</th>\n",
       "      <th>commentators_uniq</th>\n",
       "      <th>comments_obscene_cnt</th>\n",
       "      <th>video_age</th>\n",
       "      <th>title_lower</th>\n",
       "      <th>likeCount_share</th>\n",
       "      <th>likeCount_log</th>\n",
       "    </tr>\n",
       "  </thead>\n",
       "  <tbody>\n",
       "    <tr>\n",
       "      <th>0</th>\n",
       "      <td>\"#2Маши \"Свободные линии\"</td>\n",
       "      <td>34.0</td>\n",
       "      <td>43.0</td>\n",
       "      <td>1402.0</td>\n",
       "      <td>popsa</td>\n",
       "      <td>2маши</td>\n",
       "      <td>214301.0</td>\n",
       "      <td>24.0</td>\n",
       "      <td>0.0</td>\n",
       "      <td>1141</td>\n",
       "      <td>\"#2маши \"свободные линии\"</td>\n",
       "      <td>0.006542</td>\n",
       "      <td>7.246368</td>\n",
       "    </tr>\n",
       "    <tr>\n",
       "      <th>2</th>\n",
       "      <td>\"EARTH SONG\"  SERGEY LAZAREV. DEDICATED TO MIC...</td>\n",
       "      <td>26.0</td>\n",
       "      <td>10.0</td>\n",
       "      <td>269.0</td>\n",
       "      <td>popsa</td>\n",
       "      <td>лазарев</td>\n",
       "      <td>40327.0</td>\n",
       "      <td>23.0</td>\n",
       "      <td>0.0</td>\n",
       "      <td>3546</td>\n",
       "      <td>\"earth song\"  sergey lazarev. dedicated to mic...</td>\n",
       "      <td>0.006670</td>\n",
       "      <td>5.598422</td>\n",
       "    </tr>\n",
       "    <tr>\n",
       "      <th>3</th>\n",
       "      <td>\"Earth song\" премия МУЗ-тВ 2010 (LIVE)</td>\n",
       "      <td>12.0</td>\n",
       "      <td>7.0</td>\n",
       "      <td>163.0</td>\n",
       "      <td>popsa</td>\n",
       "      <td>лазарев</td>\n",
       "      <td>11907.0</td>\n",
       "      <td>11.0</td>\n",
       "      <td>0.0</td>\n",
       "      <td>3189</td>\n",
       "      <td>\"earth song\" премия муз-тв 2010 (live)</td>\n",
       "      <td>0.013689</td>\n",
       "      <td>5.099866</td>\n",
       "    </tr>\n",
       "    <tr>\n",
       "      <th>4</th>\n",
       "      <td>\"FAKE\" СЕРГЕЙ ЛАЗАРЕВ (SERGEY)</td>\n",
       "      <td>46.0</td>\n",
       "      <td>19.0</td>\n",
       "      <td>597.0</td>\n",
       "      <td>popsa</td>\n",
       "      <td>лазарев</td>\n",
       "      <td>91483.0</td>\n",
       "      <td>33.0</td>\n",
       "      <td>1.0</td>\n",
       "      <td>3361</td>\n",
       "      <td>\"fake\" сергей лазарев (sergey)</td>\n",
       "      <td>0.006526</td>\n",
       "      <td>6.393591</td>\n",
       "    </tr>\n",
       "    <tr>\n",
       "      <th>5</th>\n",
       "      <td>\"Feelin High\" Сергей Лазарев Sergey Lazarev live</td>\n",
       "      <td>7.0</td>\n",
       "      <td>7.0</td>\n",
       "      <td>87.0</td>\n",
       "      <td>popsa</td>\n",
       "      <td>лазарев</td>\n",
       "      <td>9217.0</td>\n",
       "      <td>6.0</td>\n",
       "      <td>0.0</td>\n",
       "      <td>3179</td>\n",
       "      <td>\"feelin high\" сергей лазарев sergey lazarev live</td>\n",
       "      <td>0.009439</td>\n",
       "      <td>4.477337</td>\n",
       "    </tr>\n",
       "    <tr>\n",
       "      <th>...</th>\n",
       "      <td>...</td>\n",
       "      <td>...</td>\n",
       "      <td>...</td>\n",
       "      <td>...</td>\n",
       "      <td>...</td>\n",
       "      <td>...</td>\n",
       "      <td>...</td>\n",
       "      <td>...</td>\n",
       "      <td>...</td>\n",
       "      <td>...</td>\n",
       "      <td>...</td>\n",
       "      <td>...</td>\n",
       "      <td>...</td>\n",
       "    </tr>\n",
       "    <tr>\n",
       "      <th>19116</th>\n",
       "      <td>♫ Музыка Моцарта для детей (Mozart's music for...</td>\n",
       "      <td>41.0</td>\n",
       "      <td>142.0</td>\n",
       "      <td>914.0</td>\n",
       "      <td>classic</td>\n",
       "      <td>classical_channel</td>\n",
       "      <td>308721.0</td>\n",
       "      <td>22.0</td>\n",
       "      <td>0.0</td>\n",
       "      <td>1748</td>\n",
       "      <td>♫ музыка моцарта для детей (mozart's music for...</td>\n",
       "      <td>0.002961</td>\n",
       "      <td>6.818924</td>\n",
       "    </tr>\n",
       "    <tr>\n",
       "      <th>19117</th>\n",
       "      <td>♫♡ Сборник Лучших Мелодий - Наслаждайтесь Восх...</td>\n",
       "      <td>2881.0</td>\n",
       "      <td>4108.0</td>\n",
       "      <td>58429.0</td>\n",
       "      <td>classic</td>\n",
       "      <td>classical_channel</td>\n",
       "      <td>9577433.0</td>\n",
       "      <td>1696.0</td>\n",
       "      <td>5.0</td>\n",
       "      <td>538</td>\n",
       "      <td>♫♡ сборник лучших мелодий - наслаждайтесь восх...</td>\n",
       "      <td>0.006101</td>\n",
       "      <td>10.975585</td>\n",
       "    </tr>\n",
       "    <tr>\n",
       "      <th>19120</th>\n",
       "      <td>❤ 2 ЧАСА ❤ МОЦАРТ Для Младенцев - Колыбельная ...</td>\n",
       "      <td>94.0</td>\n",
       "      <td>431.0</td>\n",
       "      <td>1837.0</td>\n",
       "      <td>classic</td>\n",
       "      <td>classical_channel</td>\n",
       "      <td>391836.0</td>\n",
       "      <td>37.0</td>\n",
       "      <td>1.0</td>\n",
       "      <td>239</td>\n",
       "      <td>❤ 2 часа ❤ моцарт для младенцев - колыбельная ...</td>\n",
       "      <td>0.004688</td>\n",
       "      <td>7.516433</td>\n",
       "    </tr>\n",
       "    <tr>\n",
       "      <th>19121</th>\n",
       "      <td>モスクワライブショー ' 17</td>\n",
       "      <td>4872.0</td>\n",
       "      <td>15494.0</td>\n",
       "      <td>30603.0</td>\n",
       "      <td>rap</td>\n",
       "      <td>элджей</td>\n",
       "      <td>1187340.0</td>\n",
       "      <td>1788.0</td>\n",
       "      <td>352.0</td>\n",
       "      <td>339</td>\n",
       "      <td>モスクワライブショー ' 17</td>\n",
       "      <td>0.025774</td>\n",
       "      <td>10.328886</td>\n",
       "    </tr>\n",
       "    <tr>\n",
       "      <th>19122</th>\n",
       "      <td>舞梅鬼   -  新年好宝贝 / Mumiy Troll - Happy New Year ...</td>\n",
       "      <td>59.0</td>\n",
       "      <td>10.0</td>\n",
       "      <td>260.0</td>\n",
       "      <td>rock</td>\n",
       "      <td>мумий_тролль</td>\n",
       "      <td>10147.0</td>\n",
       "      <td>19.0</td>\n",
       "      <td>0.0</td>\n",
       "      <td>997</td>\n",
       "      <td>舞梅鬼   -  新年好宝贝 / mumiy troll - happy new year ...</td>\n",
       "      <td>0.025623</td>\n",
       "      <td>5.564520</td>\n",
       "    </tr>\n",
       "  </tbody>\n",
       "</table>\n",
       "<p>12116 rows × 13 columns</p>\n",
       "</div>"
      ],
      "text/plain": [
       "                                                   title  commentCount  \\\n",
       "0                              \"#2Маши \"Свободные линии\"          34.0   \n",
       "2      \"EARTH SONG\"  SERGEY LAZAREV. DEDICATED TO MIC...          26.0   \n",
       "3                 \"Earth song\" премия МУЗ-тВ 2010 (LIVE)          12.0   \n",
       "4                         \"FAKE\" СЕРГЕЙ ЛАЗАРЕВ (SERGEY)          46.0   \n",
       "5       \"Feelin High\" Сергей Лазарев Sergey Lazarev live           7.0   \n",
       "...                                                  ...           ...   \n",
       "19116  ♫ Музыка Моцарта для детей (Mozart's music for...          41.0   \n",
       "19117  ♫♡ Сборник Лучших Мелодий - Наслаждайтесь Восх...        2881.0   \n",
       "19120  ❤ 2 ЧАСА ❤ МОЦАРТ Для Младенцев - Колыбельная ...          94.0   \n",
       "19121                                    モスクワライブショー ' 17        4872.0   \n",
       "19122  舞梅鬼   -  新年好宝贝 / Mumiy Troll - Happy New Year ...          59.0   \n",
       "\n",
       "       dislikeCount  likeCount music_style          performer  viewCount  \\\n",
       "0              43.0     1402.0       popsa              2маши   214301.0   \n",
       "2              10.0      269.0       popsa            лазарев    40327.0   \n",
       "3               7.0      163.0       popsa            лазарев    11907.0   \n",
       "4              19.0      597.0       popsa            лазарев    91483.0   \n",
       "5               7.0       87.0       popsa            лазарев     9217.0   \n",
       "...             ...        ...         ...                ...        ...   \n",
       "19116         142.0      914.0     classic  classical_channel   308721.0   \n",
       "19117        4108.0    58429.0     classic  classical_channel  9577433.0   \n",
       "19120         431.0     1837.0     classic  classical_channel   391836.0   \n",
       "19121       15494.0    30603.0         rap             элджей  1187340.0   \n",
       "19122          10.0      260.0        rock       мумий_тролль    10147.0   \n",
       "\n",
       "       commentators_uniq  comments_obscene_cnt  video_age  \\\n",
       "0                   24.0                   0.0       1141   \n",
       "2                   23.0                   0.0       3546   \n",
       "3                   11.0                   0.0       3189   \n",
       "4                   33.0                   1.0       3361   \n",
       "5                    6.0                   0.0       3179   \n",
       "...                  ...                   ...        ...   \n",
       "19116               22.0                   0.0       1748   \n",
       "19117             1696.0                   5.0        538   \n",
       "19120               37.0                   1.0        239   \n",
       "19121             1788.0                 352.0        339   \n",
       "19122               19.0                   0.0        997   \n",
       "\n",
       "                                             title_lower  likeCount_share  \\\n",
       "0                              \"#2маши \"свободные линии\"         0.006542   \n",
       "2      \"earth song\"  sergey lazarev. dedicated to mic...         0.006670   \n",
       "3                 \"earth song\" премия муз-тв 2010 (live)         0.013689   \n",
       "4                         \"fake\" сергей лазарев (sergey)         0.006526   \n",
       "5       \"feelin high\" сергей лазарев sergey lazarev live         0.009439   \n",
       "...                                                  ...              ...   \n",
       "19116  ♫ музыка моцарта для детей (mozart's music for...         0.002961   \n",
       "19117  ♫♡ сборник лучших мелодий - наслаждайтесь восх...         0.006101   \n",
       "19120  ❤ 2 часа ❤ моцарт для младенцев - колыбельная ...         0.004688   \n",
       "19121                                    モスクワライブショー ' 17         0.025774   \n",
       "19122  舞梅鬼   -  新年好宝贝 / mumiy troll - happy new year ...         0.025623   \n",
       "\n",
       "       likeCount_log  \n",
       "0           7.246368  \n",
       "2           5.598422  \n",
       "3           5.099866  \n",
       "4           6.393591  \n",
       "5           4.477337  \n",
       "...              ...  \n",
       "19116       6.818924  \n",
       "19117      10.975585  \n",
       "19120       7.516433  \n",
       "19121      10.328886  \n",
       "19122       5.564520  \n",
       "\n",
       "[12116 rows x 13 columns]"
      ]
     },
     "execution_count": 150,
     "metadata": {},
     "output_type": "execute_result"
    }
   ],
   "source": [
    "df.dropna()"
   ]
  },
  {
   "cell_type": "code",
   "execution_count": 152,
   "metadata": {},
   "outputs": [],
   "source": [
    "df.fillna(0, inplace=True)"
   ]
  },
  {
   "cell_type": "code",
   "execution_count": 158,
   "metadata": {},
   "outputs": [],
   "source": [
    "df.commentCount.fillna(0, inplace=True)"
   ]
  },
  {
   "cell_type": "code",
   "execution_count": 155,
   "metadata": {},
   "outputs": [
    {
     "data": {
      "text/plain": [
       "title                      0\n",
       "commentCount             210\n",
       "dislikeCount             274\n",
       "likeCount                274\n",
       "music_style                0\n",
       "performer                  0\n",
       "viewCount                  1\n",
       "commentators_uniq       6810\n",
       "comments_obscene_cnt    6810\n",
       "video_age                  0\n",
       "dtype: int64"
      ]
     },
     "execution_count": 155,
     "metadata": {},
     "output_type": "execute_result"
    }
   ],
   "source": [
    "df.isnull().sum()"
   ]
  },
  {
   "cell_type": "code",
   "execution_count": 157,
   "metadata": {},
   "outputs": [
    {
     "data": {
      "text/html": [
       "<div>\n",
       "<style scoped>\n",
       "    .dataframe tbody tr th:only-of-type {\n",
       "        vertical-align: middle;\n",
       "    }\n",
       "\n",
       "    .dataframe tbody tr th {\n",
       "        vertical-align: top;\n",
       "    }\n",
       "\n",
       "    .dataframe thead th {\n",
       "        text-align: right;\n",
       "    }\n",
       "</style>\n",
       "<table border=\"1\" class=\"dataframe\">\n",
       "  <thead>\n",
       "    <tr style=\"text-align: right;\">\n",
       "      <th></th>\n",
       "      <th>title</th>\n",
       "      <th>commentCount</th>\n",
       "      <th>dislikeCount</th>\n",
       "      <th>likeCount</th>\n",
       "      <th>music_style</th>\n",
       "      <th>performer</th>\n",
       "      <th>viewCount</th>\n",
       "      <th>comments_obscene_cnt</th>\n",
       "      <th>video_age</th>\n",
       "    </tr>\n",
       "  </thead>\n",
       "  <tbody>\n",
       "    <tr>\n",
       "      <th>0</th>\n",
       "      <td>\"#2Маши \"Свободные линии\"</td>\n",
       "      <td>34.0</td>\n",
       "      <td>43.0</td>\n",
       "      <td>1402.0</td>\n",
       "      <td>popsa</td>\n",
       "      <td>2маши</td>\n",
       "      <td>214301.0</td>\n",
       "      <td>0.0</td>\n",
       "      <td>1141</td>\n",
       "    </tr>\n",
       "    <tr>\n",
       "      <th>1</th>\n",
       "      <td>\"ALARM\" СЕРГЕЙ ЛАЗАРЕВ ( SERGEY LAZAREV )</td>\n",
       "      <td>NaN</td>\n",
       "      <td>690.0</td>\n",
       "      <td>10532.0</td>\n",
       "      <td>popsa</td>\n",
       "      <td>лазарев</td>\n",
       "      <td>2221419.0</td>\n",
       "      <td>NaN</td>\n",
       "      <td>3217</td>\n",
       "    </tr>\n",
       "    <tr>\n",
       "      <th>2</th>\n",
       "      <td>\"EARTH SONG\"  SERGEY LAZAREV. DEDICATED TO MIC...</td>\n",
       "      <td>26.0</td>\n",
       "      <td>10.0</td>\n",
       "      <td>269.0</td>\n",
       "      <td>popsa</td>\n",
       "      <td>лазарев</td>\n",
       "      <td>40327.0</td>\n",
       "      <td>0.0</td>\n",
       "      <td>3546</td>\n",
       "    </tr>\n",
       "    <tr>\n",
       "      <th>3</th>\n",
       "      <td>\"Earth song\" премия МУЗ-тВ 2010 (LIVE)</td>\n",
       "      <td>12.0</td>\n",
       "      <td>7.0</td>\n",
       "      <td>163.0</td>\n",
       "      <td>popsa</td>\n",
       "      <td>лазарев</td>\n",
       "      <td>11907.0</td>\n",
       "      <td>0.0</td>\n",
       "      <td>3189</td>\n",
       "    </tr>\n",
       "    <tr>\n",
       "      <th>4</th>\n",
       "      <td>\"FAKE\" СЕРГЕЙ ЛАЗАРЕВ (SERGEY)</td>\n",
       "      <td>46.0</td>\n",
       "      <td>19.0</td>\n",
       "      <td>597.0</td>\n",
       "      <td>popsa</td>\n",
       "      <td>лазарев</td>\n",
       "      <td>91483.0</td>\n",
       "      <td>1.0</td>\n",
       "      <td>3361</td>\n",
       "    </tr>\n",
       "    <tr>\n",
       "      <th>...</th>\n",
       "      <td>...</td>\n",
       "      <td>...</td>\n",
       "      <td>...</td>\n",
       "      <td>...</td>\n",
       "      <td>...</td>\n",
       "      <td>...</td>\n",
       "      <td>...</td>\n",
       "      <td>...</td>\n",
       "      <td>...</td>\n",
       "    </tr>\n",
       "    <tr>\n",
       "      <th>19119</th>\n",
       "      <td>♫♪Мы расстаемся ♫♪  Бутырка new2019</td>\n",
       "      <td>2.0</td>\n",
       "      <td>0.0</td>\n",
       "      <td>11.0</td>\n",
       "      <td>shanson</td>\n",
       "      <td>бутырка</td>\n",
       "      <td>1107.0</td>\n",
       "      <td>NaN</td>\n",
       "      <td>44</td>\n",
       "    </tr>\n",
       "    <tr>\n",
       "      <th>19120</th>\n",
       "      <td>❤ 2 ЧАСА ❤ МОЦАРТ Для Младенцев - Колыбельная ...</td>\n",
       "      <td>94.0</td>\n",
       "      <td>431.0</td>\n",
       "      <td>1837.0</td>\n",
       "      <td>classic</td>\n",
       "      <td>classical_channel</td>\n",
       "      <td>391836.0</td>\n",
       "      <td>1.0</td>\n",
       "      <td>239</td>\n",
       "    </tr>\n",
       "    <tr>\n",
       "      <th>19121</th>\n",
       "      <td>モスクワライブショー ' 17</td>\n",
       "      <td>4872.0</td>\n",
       "      <td>15494.0</td>\n",
       "      <td>30603.0</td>\n",
       "      <td>rap</td>\n",
       "      <td>элджей</td>\n",
       "      <td>1187340.0</td>\n",
       "      <td>352.0</td>\n",
       "      <td>339</td>\n",
       "    </tr>\n",
       "    <tr>\n",
       "      <th>19122</th>\n",
       "      <td>舞梅鬼   -  新年好宝贝 / Mumiy Troll - Happy New Year ...</td>\n",
       "      <td>59.0</td>\n",
       "      <td>10.0</td>\n",
       "      <td>260.0</td>\n",
       "      <td>rock</td>\n",
       "      <td>мумий_тролль</td>\n",
       "      <td>10147.0</td>\n",
       "      <td>0.0</td>\n",
       "      <td>997</td>\n",
       "    </tr>\n",
       "    <tr>\n",
       "      <th>19123</th>\n",
       "      <td>🎄#премьера песни!!! 2019г(вы не спешите говори...</td>\n",
       "      <td>1.0</td>\n",
       "      <td>0.0</td>\n",
       "      <td>22.0</td>\n",
       "      <td>shanson</td>\n",
       "      <td>бутырка</td>\n",
       "      <td>1566.0</td>\n",
       "      <td>NaN</td>\n",
       "      <td>65</td>\n",
       "    </tr>\n",
       "  </tbody>\n",
       "</table>\n",
       "<p>19124 rows × 9 columns</p>\n",
       "</div>"
      ],
      "text/plain": [
       "                                                   title  commentCount  \\\n",
       "0                              \"#2Маши \"Свободные линии\"          34.0   \n",
       "1              \"ALARM\" СЕРГЕЙ ЛАЗАРЕВ ( SERGEY LAZAREV )           NaN   \n",
       "2      \"EARTH SONG\"  SERGEY LAZAREV. DEDICATED TO MIC...          26.0   \n",
       "3                 \"Earth song\" премия МУЗ-тВ 2010 (LIVE)          12.0   \n",
       "4                         \"FAKE\" СЕРГЕЙ ЛАЗАРЕВ (SERGEY)          46.0   \n",
       "...                                                  ...           ...   \n",
       "19119                ♫♪Мы расстаемся ♫♪  Бутырка new2019           2.0   \n",
       "19120  ❤ 2 ЧАСА ❤ МОЦАРТ Для Младенцев - Колыбельная ...          94.0   \n",
       "19121                                    モスクワライブショー ' 17        4872.0   \n",
       "19122  舞梅鬼   -  新年好宝贝 / Mumiy Troll - Happy New Year ...          59.0   \n",
       "19123  🎄#премьера песни!!! 2019г(вы не спешите говори...           1.0   \n",
       "\n",
       "       dislikeCount  likeCount music_style          performer  viewCount  \\\n",
       "0              43.0     1402.0       popsa              2маши   214301.0   \n",
       "1             690.0    10532.0       popsa            лазарев  2221419.0   \n",
       "2              10.0      269.0       popsa            лазарев    40327.0   \n",
       "3               7.0      163.0       popsa            лазарев    11907.0   \n",
       "4              19.0      597.0       popsa            лазарев    91483.0   \n",
       "...             ...        ...         ...                ...        ...   \n",
       "19119           0.0       11.0     shanson            бутырка     1107.0   \n",
       "19120         431.0     1837.0     classic  classical_channel   391836.0   \n",
       "19121       15494.0    30603.0         rap             элджей  1187340.0   \n",
       "19122          10.0      260.0        rock       мумий_тролль    10147.0   \n",
       "19123           0.0       22.0     shanson            бутырка     1566.0   \n",
       "\n",
       "       comments_obscene_cnt  video_age  \n",
       "0                       0.0       1141  \n",
       "1                       NaN       3217  \n",
       "2                       0.0       3546  \n",
       "3                       0.0       3189  \n",
       "4                       1.0       3361  \n",
       "...                     ...        ...  \n",
       "19119                   NaN         44  \n",
       "19120                   1.0        239  \n",
       "19121                 352.0        339  \n",
       "19122                   0.0        997  \n",
       "19123                   NaN         65  \n",
       "\n",
       "[19124 rows x 9 columns]"
      ]
     },
     "execution_count": 157,
     "metadata": {},
     "output_type": "execute_result"
    }
   ],
   "source": [
    "df.drop('commentators_uniq', axis=1)"
   ]
  },
  {
   "cell_type": "markdown",
   "metadata": {},
   "source": [
    "__Выбросы__"
   ]
  },
  {
   "cell_type": "code",
   "execution_count": 162,
   "metadata": {},
   "outputs": [],
   "source": [
    "likeCount_q = df.likeCount.quantile(0.99)"
   ]
  },
  {
   "cell_type": "code",
   "execution_count": 167,
   "metadata": {},
   "outputs": [
    {
     "data": {
      "image/png": "[encoded data removed]",
      "text/plain": [
       "<Figure size 720x360 with 1 Axes>"
      ]
     },
     "metadata": {
      "needs_background": "light"
     },
     "output_type": "display_data"
    }
   ],
   "source": [
    "df['likeCount'].hist(log=True, bins=100);"
   ]
  },
  {
   "cell_type": "code",
   "execution_count": 166,
   "metadata": {},
   "outputs": [
    {
     "data": {
      "image/png": "[encoded data removed]",
      "text/plain": [
       "<Figure size 720x360 with 1 Axes>"
      ]
     },
     "metadata": {
      "needs_background": "light"
     },
     "output_type": "display_data"
    }
   ],
   "source": [
    "df[df.likeCount < likeCount_q]['likeCount'].hist(log=True, bins=100);"
   ]
  },
  {
   "cell_type": "markdown",
   "metadata": {},
   "source": [
    "## 7. Много всего другого"
   ]
  },
  {
   "cell_type": "code",
   "execution_count": 169,
   "metadata": {},
   "outputs": [
    {
     "data": {
      "text/plain": [
       "rock       0.307885\n",
       "estrada    0.217057\n",
       "popsa      0.174597\n",
       "shanson    0.107770\n",
       "rap        0.106045\n",
       "indi       0.071063\n",
       "classic    0.015583\n",
       "Name: music_style, dtype: float64"
      ]
     },
     "execution_count": 169,
     "metadata": {},
     "output_type": "execute_result"
    }
   ],
   "source": [
    "df.music_style.value_counts(normalize=True)"
   ]
  },
  {
   "cell_type": "code",
   "execution_count": 172,
   "metadata": {},
   "outputs": [
    {
     "data": {
      "text/plain": [
       "array(['popsa', 'rock', 'classic', 'indi', 'estrada', 'shanson', 'rap'],\n",
       "      dtype=object)"
      ]
     },
     "execution_count": 172,
     "metadata": {},
     "output_type": "execute_result"
    }
   ],
   "source": [
    "df.music_style.unique()"
   ]
  },
  {
   "cell_type": "code",
   "execution_count": 175,
   "metadata": {},
   "outputs": [
    {
     "data": {
      "text/plain": [
       "0                                \"#2маши \"свободные линии\"\n",
       "1                \"alarm\" сергей лазарев ( sergey lazarev )\n",
       "2        \"earth song\"  sergey lazarev. dedicated to mic...\n",
       "3                   \"earth song\" премия муз-тв 2010 (live)\n",
       "4                           \"fake\" сергей лазарев (sergey)\n",
       "                               ...                        \n",
       "19119                  ♫♪мы расстаемся ♫♪  бутырка new2019\n",
       "19120    ❤ 2 часа ❤ моцарт для младенцев - колыбельная ...\n",
       "19121                                      モスクワライブショー ' 17\n",
       "19122    舞梅鬼   -  新年好宝贝 / mumiy troll - happy new year ...\n",
       "19123    🎄#премьера песни!!! 2019г(вы не спешите говори...\n",
       "Name: title, Length: 19124, dtype: object"
      ]
     },
     "execution_count": 175,
     "metadata": {},
     "output_type": "execute_result"
    }
   ],
   "source": [
    "df.title.str.lower()"
   ]
  },
  {
   "cell_type": "code",
   "execution_count": 176,
   "metadata": {},
   "outputs": [
    {
     "data": {
      "text/plain": [
       "0        False\n",
       "1         True\n",
       "2        False\n",
       "3        False\n",
       "4         True\n",
       "         ...  \n",
       "19119    False\n",
       "19120    False\n",
       "19121    False\n",
       "19122    False\n",
       "19123    False\n",
       "Name: title, Length: 19124, dtype: bool"
      ]
     },
     "execution_count": 176,
     "metadata": {},
     "output_type": "execute_result"
    }
   ],
   "source": [
    "df.title.str.isupper()"
   ]
  },
  {
   "cell_type": "code",
   "execution_count": null,
   "metadata": {},
   "outputs": [],
   "source": []
  }
 ],
 "metadata": {
  "kernelspec": {
   "display_name": "Python 3",
   "language": "python",
   "name": "python3"
  },
  "language_info": {
   "codemirror_mode": {
    "name": "ipython",
    "version": 3
   },
   "file_extension": ".py",
   "mimetype": "text/x-python",
   "name": "python",
   "nbconvert_exporter": "python",
   "pygments_lexer": "ipython3",
   "version": "3.8.5"
  }
 },
 "nbformat": 4,
 "nbformat_minor": 4
}
