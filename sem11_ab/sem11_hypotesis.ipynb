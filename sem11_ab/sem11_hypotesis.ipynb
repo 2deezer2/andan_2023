{
 "cells": [
  {
   "cell_type": "markdown",
   "id": "ba965ed0",
   "metadata": {},
   "source": [
    "<center>\n",
    "<img src='https://camo.githubusercontent.com/ad20aaaa48264581c46aa126919dbb72060ebd98cffe015523549b4974843ae5/68747470733a2f2f7261772e67697468756275736572636f6e74656e742e636f6d2f46556c79616e6b696e2f725f70726f626162696c6974792f6d61737465722f656e645f73656d696e6172732f73656d5f362f73747564656e745f746561636865725f646973742e706e67' align='center' width=\"800x\">\n",
    "</center>"
   ]
  },
  {
   "cell_type": "markdown",
   "id": "d16e8a71",
   "metadata": {},
   "source": [
    "# Андан на экономе\n",
    "\n",
    "## Семинар 11:  гипотетический семинар"
   ]
  },
  {
   "cell_type": "code",
   "execution_count": 2,
   "id": "c40dd55e",
   "metadata": {},
   "outputs": [],
   "source": [
    "import numpy as np\n",
    "import pandas as pd\n",
    "\n",
    "from scipy import stats\n",
    "\n",
    "import seaborn as sns\n",
    "import matplotlib.pyplot as plt"
   ]
  },
  {
   "cell_type": "markdown",
   "id": "6454e339",
   "metadata": {},
   "source": [
    "### Упражнение 1 (AB-тест)\n",
    "\n",
    "- задачка на проверку гипотез о долях/средних как будто AB-тест"
   ]
  },
  {
   "cell_type": "code",
   "execution_count": null,
   "id": "29fbfcff",
   "metadata": {},
   "outputs": [],
   "source": []
  },
  {
   "cell_type": "markdown",
   "id": "75a16f28",
   "metadata": {},
   "source": [
    "### Упражнение 2 (ошибки 1 и 2 рода)"
   ]
  },
  {
   "cell_type": "code",
   "execution_count": null,
   "id": "1f6797a5",
   "metadata": {},
   "outputs": [],
   "source": []
  },
  {
   "cell_type": "markdown",
   "id": "ab5e873f",
   "metadata": {},
   "source": [
    "### Упражнение 3 (распределение p-value)\n",
    "\n",
    "- задачка на распределение pvalue при разных уровнях значимости\n"
   ]
  },
  {
   "cell_type": "markdown",
   "id": "4c13c79f",
   "metadata": {},
   "source": [
    "Вовочка тестирует гипотезу \n",
    " против гипотезы \n",
    ". Предположим, что \n",
    " на самом деле верна. По своей сути  является случайной величиной. Какое распределение оно имеет?"
   ]
  },
  {
   "cell_type": "code",
   "execution_count": null,
   "id": "fe021c1e",
   "metadata": {},
   "outputs": [],
   "source": []
  },
  {
   "cell_type": "markdown",
   "id": "ee63575e",
   "metadata": {},
   "source": [
    "### Упражнение 4 (уровень значимости выходит из-под контроля)\n",
    "\n",
    "- задачка про выход уровня значимости из-под контроля\n"
   ]
  },
  {
   "cell_type": "code",
   "execution_count": null,
   "id": "23a44f82",
   "metadata": {},
   "outputs": [],
   "source": []
  },
  {
   "cell_type": "markdown",
   "id": "5253e7c7",
   "metadata": {},
   "source": [
    "### Упражнение 5 (пересечение Vs разность)\n",
    "\n",
    "- задачка про мощность критериев с д.и. и без них по-нормальному"
   ]
  },
  {
   "cell_type": "code",
   "execution_count": null,
   "id": "cfdefa4e",
   "metadata": {},
   "outputs": [],
   "source": []
  },
  {
   "cell_type": "code",
   "execution_count": null,
   "id": "6d85b4e7",
   "metadata": {},
   "outputs": [],
   "source": []
  },
  {
   "cell_type": "code",
   "execution_count": null,
   "id": "fbf3e572",
   "metadata": {},
   "outputs": [],
   "source": []
  },
  {
   "cell_type": "code",
   "execution_count": null,
   "id": "ef3154e5",
   "metadata": {},
   "outputs": [],
   "source": []
  },
  {
   "cell_type": "code",
   "execution_count": null,
   "id": "4567c83e",
   "metadata": {},
   "outputs": [],
   "source": [
    "- придумать задачу о том, что нормальности средних недостаточно!"
   ]
  },
  {
   "cell_type": "code",
   "execution_count": null,
   "id": "a4f0933b",
   "metadata": {},
   "outputs": [],
   "source": []
  },
  {
   "cell_type": "code",
   "execution_count": null,
   "id": "58d8556e",
   "metadata": {},
   "outputs": [],
   "source": []
  },
  {
   "cell_type": "code",
   "execution_count": null,
   "id": "ec3c7a6a",
   "metadata": {},
   "outputs": [],
   "source": []
  }
 ],
 "metadata": {
  "kernelspec": {
   "display_name": "Python 3 (ipykernel)",
   "language": "python",
   "name": "python3"
  },
  "language_info": {
   "codemirror_mode": {
    "name": "ipython",
    "version": 3
   },
   "file_extension": ".py",
   "mimetype": "text/x-python",
   "name": "python",
   "nbconvert_exporter": "python",
   "pygments_lexer": "ipython3",
   "version": "3.10.9"
  }
 },
 "nbformat": 4,
 "nbformat_minor": 5
}
