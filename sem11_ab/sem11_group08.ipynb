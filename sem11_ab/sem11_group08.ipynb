{
 "cells": [
  {
   "cell_type": "code",
   "execution_count": 1,
   "id": "8ebb4851",
   "metadata": {},
   "outputs": [],
   "source": [
    "import pandas as pd"
   ]
  },
  {
   "cell_type": "code",
   "execution_count": 2,
   "id": "54dcf80f",
   "metadata": {},
   "outputs": [
    {
     "name": "stdout",
     "output_type": "stream",
     "text": [
      "(90189, 5)\n"
     ]
    },
    {
     "data": {
      "text/html": [
       "<div>\n",
       "<style scoped>\n",
       "    .dataframe tbody tr th:only-of-type {\n",
       "        vertical-align: middle;\n",
       "    }\n",
       "\n",
       "    .dataframe tbody tr th {\n",
       "        vertical-align: top;\n",
       "    }\n",
       "\n",
       "    .dataframe thead th {\n",
       "        text-align: right;\n",
       "    }\n",
       "</style>\n",
       "<table border=\"1\" class=\"dataframe\">\n",
       "  <thead>\n",
       "    <tr style=\"text-align: right;\">\n",
       "      <th></th>\n",
       "      <th>userid</th>\n",
       "      <th>version</th>\n",
       "      <th>sum_gamerounds</th>\n",
       "      <th>retention_1</th>\n",
       "      <th>retention_7</th>\n",
       "    </tr>\n",
       "  </thead>\n",
       "  <tbody>\n",
       "    <tr>\n",
       "      <th>0</th>\n",
       "      <td>116</td>\n",
       "      <td>gate_30</td>\n",
       "      <td>3</td>\n",
       "      <td>False</td>\n",
       "      <td>False</td>\n",
       "    </tr>\n",
       "    <tr>\n",
       "      <th>1</th>\n",
       "      <td>337</td>\n",
       "      <td>gate_30</td>\n",
       "      <td>38</td>\n",
       "      <td>True</td>\n",
       "      <td>False</td>\n",
       "    </tr>\n",
       "    <tr>\n",
       "      <th>2</th>\n",
       "      <td>377</td>\n",
       "      <td>gate_40</td>\n",
       "      <td>165</td>\n",
       "      <td>True</td>\n",
       "      <td>False</td>\n",
       "    </tr>\n",
       "    <tr>\n",
       "      <th>3</th>\n",
       "      <td>483</td>\n",
       "      <td>gate_40</td>\n",
       "      <td>1</td>\n",
       "      <td>False</td>\n",
       "      <td>False</td>\n",
       "    </tr>\n",
       "    <tr>\n",
       "      <th>4</th>\n",
       "      <td>488</td>\n",
       "      <td>gate_40</td>\n",
       "      <td>179</td>\n",
       "      <td>True</td>\n",
       "      <td>True</td>\n",
       "    </tr>\n",
       "  </tbody>\n",
       "</table>\n",
       "</div>"
      ],
      "text/plain": [
       "   userid  version  sum_gamerounds  retention_1  retention_7\n",
       "0     116  gate_30               3        False        False\n",
       "1     337  gate_30              38         True        False\n",
       "2     377  gate_40             165         True        False\n",
       "3     483  gate_40               1        False        False\n",
       "4     488  gate_40             179         True         True"
      ]
     },
     "execution_count": 2,
     "metadata": {},
     "output_type": "execute_result"
    }
   ],
   "source": [
    "df = pd.read_csv('https://raw.githubusercontent.com/hse-econ-data-science/andan_2023/main/sem11_ab/cookie_cats.csv')\n",
    "print(df.shape)\n",
    "df.head()"
   ]
  },
  {
   "cell_type": "code",
   "execution_count": 9,
   "id": "32d9601c",
   "metadata": {},
   "outputs": [
    {
     "data": {
      "text/html": [
       "<div>\n",
       "<style scoped>\n",
       "    .dataframe tbody tr th:only-of-type {\n",
       "        vertical-align: middle;\n",
       "    }\n",
       "\n",
       "    .dataframe tbody tr th {\n",
       "        vertical-align: top;\n",
       "    }\n",
       "\n",
       "    .dataframe thead th {\n",
       "        text-align: right;\n",
       "    }\n",
       "</style>\n",
       "<table border=\"1\" class=\"dataframe\">\n",
       "  <thead>\n",
       "    <tr style=\"text-align: right;\">\n",
       "      <th></th>\n",
       "      <th>mean</th>\n",
       "      <th>count</th>\n",
       "    </tr>\n",
       "    <tr>\n",
       "      <th>version</th>\n",
       "      <th></th>\n",
       "      <th></th>\n",
       "    </tr>\n",
       "  </thead>\n",
       "  <tbody>\n",
       "    <tr>\n",
       "      <th>gate_30</th>\n",
       "      <td>0.190201</td>\n",
       "      <td>44700</td>\n",
       "    </tr>\n",
       "    <tr>\n",
       "      <th>gate_40</th>\n",
       "      <td>0.182000</td>\n",
       "      <td>45489</td>\n",
       "    </tr>\n",
       "  </tbody>\n",
       "</table>\n",
       "</div>"
      ],
      "text/plain": [
       "             mean  count\n",
       "version                 \n",
       "gate_30  0.190201  44700\n",
       "gate_40  0.182000  45489"
      ]
     },
     "execution_count": 9,
     "metadata": {},
     "output_type": "execute_result"
    }
   ],
   "source": [
    "df_agg = df.groupby('version')['retention_7'].agg(['mean', 'count'])\n",
    "df_agg"
   ]
  },
  {
   "cell_type": "markdown",
   "id": "2f7dbda0",
   "metadata": {},
   "source": [
    "__а)__  Постройте примерный $95\\%$-й доверительный интервал для каждой из двух долей.\n",
    "\n",
    "$$\n",
    "\\left[\\hat p - z_{crit} \\sqrt{\\frac{\\hat p \\cdot (1 - \\hat p)}{n}} ; \\quad  \\hat p + z_{crit} \\sqrt{\\frac{\\hat p \\cdot (1 - \\hat p)}{n}} \\right]\n",
    "$$"
   ]
  },
  {
   "cell_type": "code",
   "execution_count": 12,
   "id": "48e286d5",
   "metadata": {},
   "outputs": [
    {
     "data": {
      "text/html": [
       "<div>\n",
       "<style scoped>\n",
       "    .dataframe tbody tr th:only-of-type {\n",
       "        vertical-align: middle;\n",
       "    }\n",
       "\n",
       "    .dataframe tbody tr th {\n",
       "        vertical-align: top;\n",
       "    }\n",
       "\n",
       "    .dataframe thead th {\n",
       "        text-align: right;\n",
       "    }\n",
       "</style>\n",
       "<table border=\"1\" class=\"dataframe\">\n",
       "  <thead>\n",
       "    <tr style=\"text-align: right;\">\n",
       "      <th></th>\n",
       "      <th>mean</th>\n",
       "      <th>count</th>\n",
       "      <th>var</th>\n",
       "      <th>left</th>\n",
       "      <th>right</th>\n",
       "    </tr>\n",
       "    <tr>\n",
       "      <th>version</th>\n",
       "      <th></th>\n",
       "      <th></th>\n",
       "      <th></th>\n",
       "      <th></th>\n",
       "      <th></th>\n",
       "    </tr>\n",
       "  </thead>\n",
       "  <tbody>\n",
       "    <tr>\n",
       "      <th>gate_30</th>\n",
       "      <td>0.190201</td>\n",
       "      <td>44700</td>\n",
       "      <td>0.000003</td>\n",
       "      <td>0.186563</td>\n",
       "      <td>0.193840</td>\n",
       "    </tr>\n",
       "    <tr>\n",
       "      <th>gate_40</th>\n",
       "      <td>0.182000</td>\n",
       "      <td>45489</td>\n",
       "      <td>0.000003</td>\n",
       "      <td>0.178454</td>\n",
       "      <td>0.185546</td>\n",
       "    </tr>\n",
       "  </tbody>\n",
       "</table>\n",
       "</div>"
      ],
      "text/plain": [
       "             mean  count       var      left     right\n",
       "version                                               \n",
       "gate_30  0.190201  44700  0.000003  0.186563  0.193840\n",
       "gate_40  0.182000  45489  0.000003  0.178454  0.185546"
      ]
     },
     "execution_count": 12,
     "metadata": {},
     "output_type": "execute_result"
    }
   ],
   "source": [
    "import scipy.stats as sts\n",
    "import numpy as np\n",
    "\n",
    "alpha = 0.05\n",
    "z_cr = sts.norm().ppf(1 - alpha/2)\n",
    "\n",
    "df_agg['var'] = df_agg['mean'] * (1 - df_agg['mean'])/df_agg['count']\n",
    "df_agg['left'] = df_agg['mean'] - z_cr * np.sqrt(df_agg['var'])\n",
    "df_agg['right'] = df_agg['mean'] + z_cr * np.sqrt(df_agg['var'])\n",
    "df_agg"
   ]
  },
  {
   "cell_type": "markdown",
   "id": "07fdf213",
   "metadata": {},
   "source": [
    "__б)__ Постройте примерный $95\\%$-й доверительный интервал для разницы долей.\n",
    "\n",
    "$$\n",
    "\\left[\\hat p_A - \\hat p_B - z_{crit} \\sqrt{\\frac{\\hat p_A \\cdot (1 - \\hat p_A)}{n_A} + \\frac{\\hat p_B \\cdot (1 - \\hat p_B)}{n_B}} ; \\quad  \\hat p_A - \\hat p_B + z_{crit} \\sqrt{\\frac{\\hat p_A \\cdot (1 - \\hat p_A)}{n_A} + \\frac{\\hat p_B \\cdot (1 - \\hat p_B)}{n_B}} \\right]\n",
    "$$"
   ]
  },
  {
   "cell_type": "code",
   "execution_count": 16,
   "id": "db20d72f",
   "metadata": {},
   "outputs": [
    {
     "data": {
      "text/plain": [
       "(0.0031210442115262808, 0.013281552418885545)"
      ]
     },
     "execution_count": 16,
     "metadata": {},
     "output_type": "execute_result"
    }
   ],
   "source": [
    "diff = df_agg['mean']['gate_30'] - df_agg['mean']['gate_40']\n",
    "diff_sd = np.sqrt(df_agg['var']['gate_30'] +  df_agg['var']['gate_40'])\n",
    "\n",
    "diff - z_cr*diff_sd, diff + z_cr*diff_sd"
   ]
  },
  {
   "cell_type": "code",
   "execution_count": 18,
   "id": "11bae632",
   "metadata": {},
   "outputs": [
    {
     "data": {
      "text/plain": [
       "(3.1640640401490985, 1.959963984540054)"
      ]
     },
     "execution_count": 18,
     "metadata": {},
     "output_type": "execute_result"
    }
   ],
   "source": [
    "diff/diff_sd, z_cr"
   ]
  },
  {
   "cell_type": "code",
   "execution_count": 19,
   "id": "d71b032d",
   "metadata": {},
   "outputs": [
    {
     "data": {
      "text/plain": [
       "1.2041000556090444"
      ]
     },
     "execution_count": 19,
     "metadata": {},
     "output_type": "execute_result"
    }
   ],
   "source": [
    "diff/diff_sd - z_cr"
   ]
  },
  {
   "cell_type": "code",
   "execution_count": 20,
   "id": "b676f49c",
   "metadata": {},
   "outputs": [
    {
     "data": {
      "text/plain": [
       "0.008201298315205913"
      ]
     },
     "execution_count": 20,
     "metadata": {},
     "output_type": "execute_result"
    }
   ],
   "source": [
    "diff"
   ]
  },
  {
   "cell_type": "code",
   "execution_count": 22,
   "id": "adca351b",
   "metadata": {},
   "outputs": [
    {
     "data": {
      "text/plain": [
       "4.311903489646016"
      ]
     },
     "execution_count": 22,
     "metadata": {},
     "output_type": "execute_result"
    }
   ],
   "source": [
    "100*(df_agg['mean']['gate_30'] - df_agg['mean']['gate_40'])/df_agg['mean']['gate_30'] "
   ]
  },
  {
   "cell_type": "code",
   "execution_count": 26,
   "id": "0e937c56",
   "metadata": {},
   "outputs": [
    {
     "data": {
      "text/plain": [
       "90189"
      ]
     },
     "execution_count": 26,
     "metadata": {},
     "output_type": "execute_result"
    }
   ],
   "source": [
    "# пусть аб-тест работал неделю и был раскатан неа 5%\n",
    "\n",
    "df.shape[0] # наверно это чет около 5%"
   ]
  },
  {
   "cell_type": "code",
   "execution_count": 27,
   "id": "6e74ee83",
   "metadata": {},
   "outputs": [
    {
     "data": {
      "text/plain": [
       "1803780.0"
      ]
     },
     "execution_count": 27,
     "metadata": {},
     "output_type": "execute_result"
    }
   ],
   "source": [
    "df.shape[0]/0.05 # всего юзеров унашего продукта за неделю"
   ]
  },
  {
   "cell_type": "code",
   "execution_count": 28,
   "id": "fb411630",
   "metadata": {},
   "outputs": [
    {
     "data": {
      "text/plain": [
       "295866.75750004244"
      ]
     },
     "execution_count": 28,
     "metadata": {},
     "output_type": "execute_result"
    }
   ],
   "source": [
    "# пусть 20% платят чтобы разлочить ворота (можно это число посчитать по данным)\n",
    "0.2 * 100 * df.shape[0]/0.05 * diff"
   ]
  },
  {
   "cell_type": "code",
   "execution_count": null,
   "id": "e16d0452",
   "metadata": {},
   "outputs": [],
   "source": [
    "# получается что за неделю мы потерям 300 тыщ рублей"
   ]
  },
  {
   "cell_type": "code",
   "execution_count": null,
   "id": "5e8fdf37",
   "metadata": {},
   "outputs": [],
   "source": []
  }
 ],
 "metadata": {
  "kernelspec": {
   "display_name": "Python 3 (ipykernel)",
   "language": "python",
   "name": "python3"
  },
  "language_info": {
   "codemirror_mode": {
    "name": "ipython",
    "version": 3
   },
   "file_extension": ".py",
   "mimetype": "text/x-python",
   "name": "python",
   "nbconvert_exporter": "python",
   "pygments_lexer": "ipython3",
   "version": "3.10.9"
  }
 },
 "nbformat": 4,
 "nbformat_minor": 5
}
