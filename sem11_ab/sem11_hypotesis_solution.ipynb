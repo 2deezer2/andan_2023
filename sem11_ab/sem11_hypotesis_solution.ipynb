{
 "cells": [
  {
   "cell_type": "markdown",
   "id": "ba965ed0",
   "metadata": {},
   "source": [
    "<center>\n",
    "<img src='https://camo.githubusercontent.com/ad20aaaa48264581c46aa126919dbb72060ebd98cffe015523549b4974843ae5/68747470733a2f2f7261772e67697468756275736572636f6e74656e742e636f6d2f46556c79616e6b696e2f725f70726f626162696c6974792f6d61737465722f656e645f73656d696e6172732f73656d5f362f73747564656e745f746561636865725f646973742e706e67' align='center' width=\"800x\">\n",
    "</center>"
   ]
  },
  {
   "cell_type": "markdown",
   "id": "d16e8a71",
   "metadata": {},
   "source": [
    "# Андан на экономе\n",
    "\n",
    "## Семинар 11:  гипотетический семинар"
   ]
  },
  {
   "cell_type": "code",
   "execution_count": 156,
   "id": "c40dd55e",
   "metadata": {},
   "outputs": [],
   "source": [
    "import numpy as np\n",
    "import pandas as pd\n",
    "\n",
    "from scipy import stats\n",
    "import statsmodels as sts \n",
    "\n",
    "import seaborn as sns\n",
    "import matplotlib.pyplot as plt"
   ]
  },
  {
   "cell_type": "code",
   "execution_count": 157,
   "id": "12f115d7",
   "metadata": {},
   "outputs": [],
   "source": [
    "from tqdm import tqdm\n",
    "import math"
   ]
  },
  {
   "cell_type": "markdown",
   "id": "7a680970",
   "metadata": {},
   "source": [
    "* Возможности `scipy` для проверки гипотез смотрите [в разделе Statistical tests](https://docs.scipy.org/doc/scipy/reference/stats.html)\n",
    "* Возможности `statsmodels`  [в модуле stats](https://www.statsmodels.org/0.6.1/stats.html)\n",
    "\n",
    "> Если используете встроенные функции, внимательно читайте документацию и проверяйте как именно расчитываются параметры."
   ]
  },
  {
   "cell_type": "markdown",
   "id": "2e578f5c",
   "metadata": {},
   "source": [
    "## Упражнение 1 (котики и печеньки)\n",
    "\n",
    "В этой задачке мы посмотрим на данные одной мобильной игрушки под названием \"Cookie Cats\", разработанной компанией <a href=\"http://tactile.dk\">Tactile Entertainment</a>. Это стандартный match-three пазл, где игрокам нужно соединять элементы одинаковых цветов, чтобы очистить поле и выиграть на уровне. И еще там есть поющие коты.\n",
    "\n",
    "<p><a href=\"https://youtu.be/GaP5f0jVTWE\"><img src=\"https://s3.amazonaws.com/assets.datacamp.com/production/project_184/img/cookie_cats_video.jpeg\" style=\"width: 500px\"></a></p>\n",
    "\n",
    "По мере того, как игроки проходят уровни, они встречают ворота-блокеры, которые вынуждают их либо ждать длительное время, либо совершить внутриигровую покупку, чтобы продолжить играть. Помимо того, что эти ворота приносят разработчикам деньги от покупок, они еще и вынуждают игроков делать перерыв, в надежде на то, что те вернутся с новыми силами. \n",
    "\n",
    "<p><img src=\"https://s3.amazonaws.com/assets.datacamp.com/production/project_184/img/cc_gates.png\" alt=\"\"></p>\n",
    "\n",
    "Но возникает вопрос - когда и где ставить эти ворота? Изначально первые ворота стояли на 30-м уровне игры, однако в этом ноутбуке мы будем анализировать АБ-тест, в котором разработчики передвинули ворота на 40-й уровень. В частности мы будем смотреть влияние этого изменения на такой важный показатель как \"retention\" или удержание игроков, который расчитывается как отношение уникальных игроков, зашедших в игру на 1-й, 2-й, ... N-й день после установки ко всем игрокам, установившим приложение в этот день. "
   ]
  },
  {
   "cell_type": "code",
   "execution_count": 65,
   "id": "2f48f8f1",
   "metadata": {},
   "outputs": [
    {
     "name": "stdout",
     "output_type": "stream",
     "text": [
      "(90189, 5)\n"
     ]
    },
    {
     "data": {
      "text/html": [
       "<div>\n",
       "<style scoped>\n",
       "    .dataframe tbody tr th:only-of-type {\n",
       "        vertical-align: middle;\n",
       "    }\n",
       "\n",
       "    .dataframe tbody tr th {\n",
       "        vertical-align: top;\n",
       "    }\n",
       "\n",
       "    .dataframe thead th {\n",
       "        text-align: right;\n",
       "    }\n",
       "</style>\n",
       "<table border=\"1\" class=\"dataframe\">\n",
       "  <thead>\n",
       "    <tr style=\"text-align: right;\">\n",
       "      <th></th>\n",
       "      <th>userid</th>\n",
       "      <th>version</th>\n",
       "      <th>sum_gamerounds</th>\n",
       "      <th>retention_1</th>\n",
       "      <th>retention_7</th>\n",
       "    </tr>\n",
       "  </thead>\n",
       "  <tbody>\n",
       "    <tr>\n",
       "      <th>0</th>\n",
       "      <td>116</td>\n",
       "      <td>gate_30</td>\n",
       "      <td>3</td>\n",
       "      <td>False</td>\n",
       "      <td>False</td>\n",
       "    </tr>\n",
       "    <tr>\n",
       "      <th>1</th>\n",
       "      <td>337</td>\n",
       "      <td>gate_30</td>\n",
       "      <td>38</td>\n",
       "      <td>True</td>\n",
       "      <td>False</td>\n",
       "    </tr>\n",
       "    <tr>\n",
       "      <th>2</th>\n",
       "      <td>377</td>\n",
       "      <td>gate_40</td>\n",
       "      <td>165</td>\n",
       "      <td>True</td>\n",
       "      <td>False</td>\n",
       "    </tr>\n",
       "    <tr>\n",
       "      <th>3</th>\n",
       "      <td>483</td>\n",
       "      <td>gate_40</td>\n",
       "      <td>1</td>\n",
       "      <td>False</td>\n",
       "      <td>False</td>\n",
       "    </tr>\n",
       "    <tr>\n",
       "      <th>4</th>\n",
       "      <td>488</td>\n",
       "      <td>gate_40</td>\n",
       "      <td>179</td>\n",
       "      <td>True</td>\n",
       "      <td>True</td>\n",
       "    </tr>\n",
       "  </tbody>\n",
       "</table>\n",
       "</div>"
      ],
      "text/plain": [
       "   userid  version  sum_gamerounds  retention_1  retention_7\n",
       "0     116  gate_30               3        False        False\n",
       "1     337  gate_30              38         True        False\n",
       "2     377  gate_40             165         True        False\n",
       "3     483  gate_40               1        False        False\n",
       "4     488  gate_40             179         True         True"
      ]
     },
     "execution_count": 65,
     "metadata": {},
     "output_type": "execute_result"
    }
   ],
   "source": [
    "df = pd.read_csv('https://raw.githubusercontent.com/hse-econ-data-science/andan_2023/main/sem11_ab/cookie_cats.csv')\n",
    "print(df.shape)\n",
    "df.head()"
   ]
  },
  {
   "cell_type": "markdown",
   "id": "85422f0c",
   "metadata": {},
   "source": [
    "<ul>\n",
    "<li><code>userid</code> - уникальный номер, идентифицирующий каждого игрока.</li>\n",
    "<li><code>version</code> - был ли пользователь отнесен к контрольной группе (<code>gate_30</code> - ворота на 30-м уровне) или к тестовой (<code>gate_40</code> - ворота на 40-м уровне).</li>\n",
    "<li><code>sum_gamerounds</code> - число сессий, сыгранных игроком в течение первых 14 дней после установки игры.</li>\n",
    "<li><code>retention_1</code> - вернулся ли игрок после <strong>первого</strong> дня с момента установки?</li>\n",
    "<li><code>retention_7</code> - вернулся ли игрок после <strong>седьмого</strong> дня с момента установки?</li>\n",
    "</ul>\n",
    "\n",
    "Когда игрок устанавливает игру, он/она случайным образом относятся либо к группе gate_30, либо gate_40. На всякий случай, давайте проверим, действительно ли их примерно поровну в каждой из групп."
   ]
  },
  {
   "cell_type": "code",
   "execution_count": 66,
   "id": "832920a2",
   "metadata": {},
   "outputs": [
    {
     "data": {
      "text/html": [
       "<div>\n",
       "<style scoped>\n",
       "    .dataframe tbody tr th:only-of-type {\n",
       "        vertical-align: middle;\n",
       "    }\n",
       "\n",
       "    .dataframe tbody tr th {\n",
       "        vertical-align: top;\n",
       "    }\n",
       "\n",
       "    .dataframe thead th {\n",
       "        text-align: right;\n",
       "    }\n",
       "</style>\n",
       "<table border=\"1\" class=\"dataframe\">\n",
       "  <thead>\n",
       "    <tr style=\"text-align: right;\">\n",
       "      <th></th>\n",
       "      <th>userid</th>\n",
       "      <th>sum_gamerounds</th>\n",
       "      <th>retention_1</th>\n",
       "      <th>retention_7</th>\n",
       "    </tr>\n",
       "    <tr>\n",
       "      <th>version</th>\n",
       "      <th></th>\n",
       "      <th></th>\n",
       "      <th></th>\n",
       "      <th></th>\n",
       "    </tr>\n",
       "  </thead>\n",
       "  <tbody>\n",
       "    <tr>\n",
       "      <th>gate_30</th>\n",
       "      <td>44700</td>\n",
       "      <td>44700</td>\n",
       "      <td>44700</td>\n",
       "      <td>44700</td>\n",
       "    </tr>\n",
       "    <tr>\n",
       "      <th>gate_40</th>\n",
       "      <td>45489</td>\n",
       "      <td>45489</td>\n",
       "      <td>45489</td>\n",
       "      <td>45489</td>\n",
       "    </tr>\n",
       "  </tbody>\n",
       "</table>\n",
       "</div>"
      ],
      "text/plain": [
       "         userid  sum_gamerounds  retention_1  retention_7\n",
       "version                                                  \n",
       "gate_30   44700           44700        44700        44700\n",
       "gate_40   45489           45489        45489        45489"
      ]
     },
     "execution_count": 66,
     "metadata": {},
     "output_type": "execute_result"
    }
   ],
   "source": [
    "df.groupby('version').count()"
   ]
  },
  {
   "cell_type": "markdown",
   "id": "2a7bf20b",
   "metadata": {},
   "source": [
    "<p><img src=\"https://s3.amazonaws.com/assets.datacamp.com/production/project_184/img/mr_waffles_smiling.png\" style=\"width:200px; float:left\"> </p>\n",
    "<p>Похоже, что игроков действительно примерно поровну в каждой из групп, отлично!</p>\n",
    "<p>Фокус нашего анализа будет сосредоточен на удержании игроков (retention), но ради интереса давайте построим распределение числа игровых сессий, сыгранных игроками в течение их первой недели жизни в игре.</p>"
   ]
  },
  {
   "cell_type": "code",
   "execution_count": 67,
   "id": "74a23364",
   "metadata": {},
   "outputs": [
    {
     "data": {
      "image/png": "[encoded data removed]",
      "text/plain": [
       "<Figure size 640x480 with 1 Axes>"
      ]
     },
     "metadata": {},
     "output_type": "display_data"
    }
   ],
   "source": [
    "# Считаем число игроков, оставшееся в игре для каждого раунда\n",
    "plot_df = df.groupby('sum_gamerounds')['userid'].count()\n",
    "\n",
    "# Распределение людей, сыгравших от 0 до 100 раундов\n",
    "ax = plot_df.head(100).plot()\n",
    "ax.set_xlabel(\"sum_gamerounds\")\n",
    "ax.set_ylabel(\"number of players\");"
   ]
  },
  {
   "cell_type": "markdown",
   "id": "e426ebaa",
   "metadata": {},
   "source": [
    "<p>На графике вверху мы видим, что некоторые игроки установили игру, но даже ни разу не поиграли (0 сессий), многие игроки закончили лишь пару сессий за первую неделю, а некоторые действительно подсели и сыграли более 80 раз!</p>\n",
    "<p>Конечно, мы хотим, чтобы игроки были заинтересованы в игрушке и возвращались в неё снова и снова. Обычная метрика, использующаяся в гейм-индустрии, чтобы измерить, насколько игрушка веселая и захватывающая, - это <em>удержание первого дня</em> (1-day retention): Процент игроков, которые вренулись и снова стали играть спустя 1 день после установки. Чем выше удержание первого дня, тем проще и дальше удерживать пользователей и строить себе большую базу фанатов.</p>\n",
    "<p>В качестве первого шага, давайте посмотрим, как в целом выглядит 1-day retention.</p>"
   ]
  },
  {
   "cell_type": "code",
   "execution_count": 68,
   "id": "2a620637",
   "metadata": {},
   "outputs": [
    {
     "data": {
      "text/plain": [
       "0.4452095044850259"
      ]
     },
     "execution_count": 68,
     "metadata": {},
     "output_type": "execute_result"
    }
   ],
   "source": [
    "df.retention_1.mean()"
   ]
  },
  {
   "cell_type": "markdown",
   "id": "a5af24e0",
   "metadata": {},
   "source": [
    "<p><img src=\"https://s3.amazonaws.com/assets.datacamp.com/production/project_184/img/belle_cookie.png\" style=\"width:200px; float:right\"> </p>\n",
    "<p>Итак, немногим меьше половины всех игроков возвращяются к нам спустя один день после установки. Теперь, когда у нас есть это базовое значение (benchmark), давайте посмотрим, как отличается 1-day retention внутри наших тестовых групп.</p>"
   ]
  },
  {
   "cell_type": "code",
   "execution_count": 69,
   "id": "7d8a047a",
   "metadata": {},
   "outputs": [
    {
     "data": {
      "text/plain": [
       "version\n",
       "gate_30    0.448188\n",
       "gate_40    0.442283\n",
       "Name: retention_1, dtype: float64"
      ]
     },
     "execution_count": 69,
     "metadata": {},
     "output_type": "execute_result"
    }
   ],
   "source": [
    "df.groupby('version').retention_1.mean()"
   ]
  },
  {
   "cell_type": "markdown",
   "id": "30d2dfb7",
   "metadata": {},
   "source": [
    "<p>Похоже, что у нас есть небольшое ухудшение в удержании первого дня, если мы двигаем ворота к сороковому уровню (44.2%) в сравнеии с контрольной группой, где ворота остались на 30-м уровне (44.8%). Вполне естественен вопрос, а значима ли эта разница? "
   ]
  },
  {
   "cell_type": "markdown",
   "id": "ed70ca66",
   "metadata": {},
   "source": [
    "__а)__  Постройте примерный $95\\%$-й доверительный интервал для каждой из двух долей.\n",
    "\n",
    "$$\n",
    "\\left[\\hat p - z_{crit} \\sqrt{\\frac{\\hat p \\cdot (1 - \\hat p)}{n}} ; \\quad  \\hat p + z_{crit} \\sqrt{\\frac{\\hat p \\cdot (1 - \\hat p)}{n}} \\right]\n",
    "$$"
   ]
  },
  {
   "cell_type": "code",
   "execution_count": 93,
   "id": "7d40c51d",
   "metadata": {},
   "outputs": [
    {
     "data": {
      "text/html": [
       "<div>\n",
       "<style scoped>\n",
       "    .dataframe tbody tr th:only-of-type {\n",
       "        vertical-align: middle;\n",
       "    }\n",
       "\n",
       "    .dataframe tbody tr th {\n",
       "        vertical-align: top;\n",
       "    }\n",
       "\n",
       "    .dataframe thead th {\n",
       "        text-align: right;\n",
       "    }\n",
       "</style>\n",
       "<table border=\"1\" class=\"dataframe\">\n",
       "  <thead>\n",
       "    <tr style=\"text-align: right;\">\n",
       "      <th></th>\n",
       "      <th>version</th>\n",
       "      <th>mean</th>\n",
       "      <th>count</th>\n",
       "      <th>var</th>\n",
       "      <th>step</th>\n",
       "      <th>left</th>\n",
       "      <th>right</th>\n",
       "    </tr>\n",
       "  </thead>\n",
       "  <tbody>\n",
       "    <tr>\n",
       "      <th>0</th>\n",
       "      <td>gate_30</td>\n",
       "      <td>0.448188</td>\n",
       "      <td>44700</td>\n",
       "      <td>0.000006</td>\n",
       "      <td>0.004610</td>\n",
       "      <td>0.443578</td>\n",
       "      <td>0.452798</td>\n",
       "    </tr>\n",
       "    <tr>\n",
       "      <th>1</th>\n",
       "      <td>gate_40</td>\n",
       "      <td>0.442283</td>\n",
       "      <td>45489</td>\n",
       "      <td>0.000005</td>\n",
       "      <td>0.004564</td>\n",
       "      <td>0.437719</td>\n",
       "      <td>0.446847</td>\n",
       "    </tr>\n",
       "  </tbody>\n",
       "</table>\n",
       "</div>"
      ],
      "text/plain": [
       "   version      mean  count       var      step      left     right\n",
       "0  gate_30  0.448188  44700  0.000006  0.004610  0.443578  0.452798\n",
       "1  gate_40  0.442283  45489  0.000005  0.004564  0.437719  0.446847"
      ]
     },
     "execution_count": 93,
     "metadata": {},
     "output_type": "execute_result"
    }
   ],
   "source": [
    "alpha = 0.05\n",
    "\n",
    "df_agg = df.groupby('version').retention_1.agg(['mean', 'count']).reset_index()\n",
    "df_agg['var'] = df_agg['mean'] * (1 - df_agg['mean'])/df_agg['count']\n",
    "df_agg['step'] =  z_crit * np.sqrt(df_agg['var'])\n",
    "\n",
    "df_agg['left'] = df_agg['mean'] - df_agg['step']\n",
    "df_agg['right'] = df_agg['mean'] + df_agg['step']\n",
    "df_agg"
   ]
  },
  {
   "cell_type": "code",
   "execution_count": 98,
   "id": "6661ad3a",
   "metadata": {},
   "outputs": [
    {
     "data": {
      "image/png": "[encoded data removed]",
      "text/plain": [
       "<Figure size 600x200 with 1 Axes>"
      ]
     },
     "metadata": {},
     "output_type": "display_data"
    }
   ],
   "source": [
    "district = ['gate_30', 'gate_40']\n",
    "\n",
    "center = df_agg['mean'].values\n",
    "step = df_agg['step'].values\n",
    "\n",
    "mu_hat = df.retention_1.mean() # общее среднее \n",
    "\n",
    "plt.figure(figsize=(6,2))\n",
    "\n",
    "plt.errorbar(center, np.arange(center.size),  xerr = step, \n",
    "             capsize=0, fmt=\"o\", color=\"blue\")\n",
    "\n",
    "plt.yticks(np.arange(center.size - 1, -1, -1), district, fontsize=12);\n",
    "plt.axvline(mu_hat, 0, color='grey');"
   ]
  },
  {
   "cell_type": "markdown",
   "id": "b731f997",
   "metadata": {},
   "source": [
    "__б)__ Постройте примерный $95\\%$-й доверительный интервал для разницы долей.\n",
    "\n",
    "$$\n",
    "\\left[\\hat p_A - \\hat p_B - z_{crit} \\sqrt{\\frac{\\hat p_A \\cdot (1 - \\hat p_A)}{n_A} + \\frac{\\hat p_B \\cdot (1 - \\hat p_B)}{n_B}} ; \\quad  \\hat p_A - \\hat p_B + z_{crit} \\sqrt{\\frac{\\hat p_A \\cdot (1 - \\hat p_A)}{n_A} + \\frac{\\hat p_B \\cdot (1 - \\hat p_B)}{n_B}} \\right]\n",
    "$$"
   ]
  },
  {
   "cell_type": "code",
   "execution_count": 136,
   "id": "7e36fc0b",
   "metadata": {},
   "outputs": [
    {
     "name": "stdout",
     "output_type": "stream",
     "text": [
      "Доверительный интервал [-0.0006104; 0.01242] ширины 0.01303\n"
     ]
    }
   ],
   "source": [
    "x = df[df.version == 'gate_30'].retention_1.values\n",
    "y = df[df.version == 'gate_40'].retention_1.values\n",
    "\n",
    "diff = x.mean() - y.mean() \n",
    "nx, ny = x.size, y.size\n",
    "diff_sd = np.sqrt(x.var(ddof=1)/nx + y.var(ddof=1)/nx)\n",
    "\n",
    "left, right = stats.norm.interval(0.95, loc=diff, scale=diff_sd)\n",
    "print(\"Доверительный интервал [{:.4}; {:.4}] ширины {:.4}\".format(left, right, right - left))"
   ]
  },
  {
   "cell_type": "markdown",
   "id": "d9bbd34e",
   "metadata": {},
   "source": [
    "Какие выводы можно сделать на основе этих двух пунктов? Обратите внимание, что в пункте __а)__ хочется сделать выводы о влиянии ворот на удержание по пересечению доверительных интервалов. Это очень порочная практика. О ней мы поговорим подробнее в последнем упражнении этой тетрадки. "
   ]
  },
  {
   "cell_type": "markdown",
   "id": "6bd4f0d6",
   "metadata": {},
   "source": [
    "__в)__ Проверьте гипотезу о том, что перенос ворот не оказывает никакого влияния на удержание первого дня."
   ]
  },
  {
   "cell_type": "code",
   "execution_count": 144,
   "id": "c3f53ce2",
   "metadata": {},
   "outputs": [],
   "source": [
    "# просто красивая функция для теста гипотез \n",
    "\n",
    "def asy_mean_test(mean_hat, std_hat, mu_0=0, \n",
    "                   alpha=0.05, alternative='two-sided', margin=3):\n",
    "    \"\"\"\n",
    "        Асимптотический тест для равенства средних\n",
    "    \"\"\"\n",
    "    \n",
    "    z_obs = (mean_hat - mu_0)/std_hat\n",
    "    \n",
    "    if alternative == 'two-sided':\n",
    "        p_value = 2 * (1 - stats.norm().cdf(np.abs(z_obs)))\n",
    "        z_crit = stats.norm().ppf(1 - alpha/2)\n",
    "        \n",
    "        statistics = ['-z_crit', 'z_crit', '-z_obs', 'z_obs']\n",
    "        params = dict(zip(statistics, [(-z_crit, -0.6, -margin, -z_crit, 'b'), \n",
    "                                       (z_crit, 0.05, z_crit, margin, 'b'),\n",
    "                                       (-z_obs, -0.6, -margin, -z_obs, 'r'), \n",
    "                                       (z_obs, 0.1, z_obs, margin, 'r')]))\n",
    "    \n",
    "    if alternative == 'less':\n",
    "        p_value = stats.norm().cdf(z_obs)\n",
    "        z_crit = stats.norm().ppf(1 - alpha)\n",
    "        \n",
    "        statistics = ['-z_crit', '-z_obs']\n",
    "        params = dict(zip(statistics, [(-z_crit, -0.6, -margin, -z_crit, 'b'), \n",
    "                                       (-z_obs, -0.6, -margin, -z_obs, 'r')]))\n",
    "\n",
    "    if alternative == 'larger':\n",
    "        p_value = 1 - stats.norm().cdf(z_obs)\n",
    "        z_crit = stats.norm().ppf(1 - alpha)\n",
    "        \n",
    "        statistics = ['z_crit', 'z_obs']\n",
    "        params = dict(zip(statistics, [(z_crit, 0.05, z_crit, margin, 'b'),\n",
    "                                       (z_obs, 0.1, z_obs, margin, 'r')]))\n",
    "    \n",
    "    \n",
    "    plt.figure(figsize = (8, 4))\n",
    "    x = np.linspace(-margin, margin)\n",
    "    pdf = stats.norm().pdf(x)\n",
    "\n",
    "    plt.plot(x, pdf, color=\"black\")\n",
    "    plt.ylabel(\"$f(x)$\", fontsize=16)\n",
    "    plt.xlabel(\"$x$\", fontsize=16)\n",
    "    y_max = plt.ylim()[1]\n",
    "    \n",
    "    for i in range(len(statistics)):\n",
    "        statistic, text_margin, left_bound, right_bound, color = params[statistics[i]]\n",
    "        \n",
    "        plt.axvline(statistic, color=color, linestyle=\"--\", lw=2)\n",
    "        h = 0.8 if statistics[i].split('_')[-1] == 'crit' else 0.6\n",
    "        plt.text(statistic + text_margin, \n",
    "                 h*y_max, round(statistic, 2), color=color, fontsize=16)\n",
    "        \n",
    "        xq = np.linspace(left_bound, right_bound)\n",
    "        yq = stats.norm().pdf(xq)\n",
    "        plt.fill_between(xq, 0, yq, color=color, alpha=0.2)\n",
    "    \n",
    "    return p_value"
   ]
  },
  {
   "cell_type": "code",
   "execution_count": 145,
   "id": "3979237b",
   "metadata": {},
   "outputs": [
    {
     "name": "stdout",
     "output_type": "stream",
     "text": [
      "1.78 попадает в (-1.96 , 1.96) => Нулевая гипотеза НЕ отвергается\n"
     ]
    }
   ],
   "source": [
    "alpha = 0.05  \n",
    "x = df[df.version == 'gate_30'].retention_1.values\n",
    "y = df[df.version == 'gate_40'].retention_1.values\n",
    "\n",
    "diff = x.mean() - y.mean() \n",
    "nx, ny = x.size, y.size\n",
    "diff_std = np.sqrt(x.var(ddof=1)/nx + y.var(ddof=1)/nx)\n",
    "                                    \n",
    "z_obs = diff/diff_std    \n",
    "z_crit = stats.norm.ppf(1 - alpha/2) \n",
    "\n",
    "print(f'{z_obs:.3} попадает в ({-z_crit:.3} , {z_crit:.3}) => Нулевая гипотеза НЕ отвергается')"
   ]
  },
  {
   "cell_type": "code",
   "execution_count": 146,
   "id": "15123a8f",
   "metadata": {},
   "outputs": [
    {
     "data": {
      "text/plain": [
       "0.07567777112604612"
      ]
     },
     "execution_count": 146,
     "metadata": {},
     "output_type": "execute_result"
    },
    {
     "data": {
      "image/png": "[encoded data removed]",
      "text/plain": [
       "<Figure size 800x400 with 1 Axes>"
      ]
     },
     "metadata": {},
     "output_type": "display_data"
    }
   ],
   "source": [
    "asy_mean_test(diff, diff_std, mu_0=0, alpha=0.05)"
   ]
  },
  {
   "cell_type": "markdown",
   "id": "23adcb81",
   "metadata": {},
   "source": [
    "__г)__ Проверьте гипотезу о том, что перенос ворот не оказывает никакого влияния на удержание седьмого дня."
   ]
  },
  {
   "cell_type": "code",
   "execution_count": 149,
   "id": "773a5b66",
   "metadata": {},
   "outputs": [
    {
     "data": {
      "text/plain": [
       "0.001629837843281745"
      ]
     },
     "execution_count": 149,
     "metadata": {},
     "output_type": "execute_result"
    },
    {
     "data": {
      "image/png": "[encoded data removed]",
      "text/plain": [
       "<Figure size 800x400 with 1 Axes>"
      ]
     },
     "metadata": {},
     "output_type": "display_data"
    }
   ],
   "source": [
    "alpha = 0.05  \n",
    "x = df[df.version == 'gate_30'].retention_7.values\n",
    "y = df[df.version == 'gate_40'].retention_7.values\n",
    "\n",
    "diff = x.mean() - y.mean() \n",
    "nx, ny = x.size, y.size\n",
    "diff_std = np.sqrt(x.var(ddof=1)/nx + y.var(ddof=1)/nx)\n",
    "                                    \n",
    "asy_mean_test(diff, diff_std, mu_0=0, alpha=0.05, margin=5)"
   ]
  },
  {
   "cell_type": "markdown",
   "id": "a0033e31",
   "metadata": {},
   "source": [
    "__д)__ Предположим, что в нашу игру ежедневно играет 100 тысяч человек. Насколько существенный эффект окажет на бизнес перенос ворот на 40 уровень?"
   ]
  },
  {
   "cell_type": "code",
   "execution_count": null,
   "id": "164570f9",
   "metadata": {},
   "outputs": [],
   "source": [
    "### ╰( ͡° ͜ʖ ͡° )つ▬▬ι═══════  bzzzzzzzzzz\n",
    "# will the code be with you"
   ]
  },
  {
   "cell_type": "markdown",
   "id": "11bc5467",
   "metadata": {},
   "source": [
    "<p>Итак, результаты бутстрапа говорят нам о том, что есть значительное доказательство превышения 7-day retentino в группе с воротами на 30-м уровне над группой с воротами на 40-м. Значит, если мы хотим держать ретеншн на высоком уровне и иметь большее число игроков, нам <strong>не нужно</strong> сдвигать ворота с 30-го на 40-й уровень.\n",
    "\n",
    "<p>Так почему же ретеншн выше, когда ворота расположены раньше? Логично было бы ожидать обратной ситуации - чем позже ставится препятствие, тем дольше игроки будут взаимодействовать с игрой. Однако это не то, что мы видим в данных. Теория гедонистической адаптации может помочь с объяснением. Если вкратце, гедонистическая адаптация - это тенденция получать всё меньше и меньше удовольствия от деятельности, если она продолжается длительное время. Заставляя игроков сделать паузу, когда они достигают 30-го уровня, мы продлеваем им удовольствие от игры, в результате чего они хотят в неё возвращаться. И напротив, сдвигая ворота к 40-му уровню мы даем игрокам возможность наиграться и просто заскучать.</p>\n",
    "\n",
    "<p><img src=\"https://s3.amazonaws.com/assets.datacamp.com/production/project_184/img/cookie_yellow.png\" style=\"width:100px; float:center\"> </p>"
   ]
  },
  {
   "cell_type": "markdown",
   "id": "9c4b9ef8",
   "metadata": {},
   "source": [
    "## Упражнение 2 (ошибки 1 и 2 рода)\n",
    "\n",
    "Коля Коперник задумал что-то вроде АБ-теста. Он хочет проверить известное утверждение о том, что бутерброд чаще падает маслом вниз. Николай использует асимптотический тест для долей\n",
    "\n",
    "$$\n",
    "z = \\frac{\\hat p - p_0}{\\sqrt{\\frac{\\hat p \\cdot (1 - \\hat p)}{n}}}\n",
    "$$\n",
    "\n",
    "и формулирует свои мысли в виде следующей гипотезы \n",
    "\n",
    "$$\n",
    "\\begin{aligned}\n",
    "&H_0: \\hspace{2mm} p = 0.5 \\\\\n",
    "&H_1: \\hspace{2mm} p > 0.5 \n",
    "\\end{aligned}\n",
    "$$"
   ]
  },
  {
   "cell_type": "markdown",
   "id": "2196c70c",
   "metadata": {},
   "source": [
    "Перед проведением АБ-теста обычно фиксируют уровень значимости, $\\alpha$. \n",
    "\n",
    "- __Ошибка первого рода (уровень значимости)__ - вероятность отвергнуть гипотезу $H_0$, когда она верна. Попробуем с помощью симуляций вычислить её для проверки гипотезы о среднем.\n",
    "\n",
    "- __Ошибка второго рода__ - вероятность не отвергнуть гипотезу $H_0$, когда она неверна."
   ]
  },
  {
   "cell_type": "markdown",
   "id": "c73c0a2d",
   "metadata": {},
   "source": [
    "__а)__  Пусть Николай зафикисировал $\\alpha = 0.05$ и собрал $100$ наблюдений, а настоящее значение $p = 0.5$. \n",
    "\n",
    "С помощью симуляций  проверьте гипотезу Коперника $10^4$ раз и убедитесь, что доля ошибок действительно будет $5\\%.$"
   ]
  },
  {
   "cell_type": "code",
   "execution_count": 41,
   "id": "93c639f7",
   "metadata": {},
   "outputs": [],
   "source": [
    "### ╰( ͡° ͜ʖ ͡° )つ▬▬ι═══════  bzzzzzzzzzz\n",
    "# will the code be with you\n",
    "\n",
    "def prop_asy_test(x, p0=0.5):\n",
    "    p = x.mean()\n",
    "    z_obs = (p - p0)/np.sqrt(p0*(1-p0)/x.size)\n",
    "    pval = 1 - stats.norm.cdf(z_obs)  # p-value\n",
    "    return pval\n",
    "\n",
    "def get_simulation(n_obs=10**4, n=100, p_0=0.5):\n",
    "    bern_rv = stats.bernoulli(p=p_0)\n",
    "    \n",
    "    res = np.zeros(n_obs)\n",
    "    for i in range(n_obs):\n",
    "        x = bern_rv.rvs(n)\n",
    "        res[i] = prop_asy_test(x)\n",
    "    return res"
   ]
  },
  {
   "cell_type": "code",
   "execution_count": 26,
   "id": "3d40f570",
   "metadata": {},
   "outputs": [
    {
     "data": {
      "application/vnd.jupyter.widget-view+json": {
       "model_id": "84990597f508426f8a96edbe1b0c49ea",
       "version_major": 2,
       "version_minor": 0
      },
      "text/plain": [
       "  0%|          | 0/10000 [00:00<?, ?it/s]"
      ]
     },
     "metadata": {},
     "output_type": "display_data"
    },
    {
     "data": {
      "text/plain": [
       "0.0451"
      ]
     },
     "execution_count": 26,
     "metadata": {},
     "output_type": "execute_result"
    }
   ],
   "source": [
    "res = get_simulation()\n",
    "np.mean(res < 0.05) "
   ]
  },
  {
   "cell_type": "markdown",
   "id": "dde0f4f7",
   "metadata": {},
   "source": [
    "__б)__  Пусть Николай зафикисировал $\\alpha = 0.05$ и собрал $100$ наблюдений, а настоящее значение $p = 0.6$. С помощью симуляций вычислите ошибку второго рода для нашего эксперимента. "
   ]
  },
  {
   "cell_type": "code",
   "execution_count": 28,
   "id": "c8f59b09",
   "metadata": {},
   "outputs": [
    {
     "data": {
      "application/vnd.jupyter.widget-view+json": {
       "model_id": "3235345c6cf947bba7ed75ff527cf474",
       "version_major": 2,
       "version_minor": 0
      },
      "text/plain": [
       "  0%|          | 0/10000 [00:00<?, ?it/s]"
      ]
     },
     "metadata": {},
     "output_type": "display_data"
    },
    {
     "data": {
      "text/plain": [
       "0.371"
      ]
     },
     "execution_count": 28,
     "metadata": {},
     "output_type": "execute_result"
    }
   ],
   "source": [
    "### ╰( ͡° ͜ʖ ͡° )つ▬▬ι═══════  bzzzzzzzzzz\n",
    "# will the code be with you\n",
    "\n",
    "res = get_simulation(n_obs=10**4, n=100, p_0=0.6)\n",
    "np.mean(res > 0.05)"
   ]
  },
  {
   "cell_type": "markdown",
   "id": "90824fa8",
   "metadata": {},
   "source": [
    "__в)__ Пусть Николай собрал не $100$, а $200$ наблюдений. Какой будет ошибка второго рода в таком случае? "
   ]
  },
  {
   "cell_type": "code",
   "execution_count": 29,
   "id": "a2b9c7a8",
   "metadata": {},
   "outputs": [
    {
     "data": {
      "application/vnd.jupyter.widget-view+json": {
       "model_id": "6cb683e9706740b2a21a577bb6f8799b",
       "version_major": 2,
       "version_minor": 0
      },
      "text/plain": [
       "  0%|          | 0/10000 [00:00<?, ?it/s]"
      ]
     },
     "metadata": {},
     "output_type": "display_data"
    },
    {
     "data": {
      "text/plain": [
       "0.1086"
      ]
     },
     "execution_count": 29,
     "metadata": {},
     "output_type": "execute_result"
    }
   ],
   "source": [
    "### ╰( ͡° ͜ʖ ͡° )つ▬▬ι═══════  bzzzzzzzzzz\n",
    "# will the code be with you\n",
    "\n",
    "res = get_simulation(n_obs=10**4, n=200, p_0=0.6)\n",
    "np.mean(res > 0.05)"
   ]
  },
  {
   "cell_type": "markdown",
   "id": "e7671250",
   "metadata": {},
   "source": [
    "Давайте зафиксируем $\\alpha=0.05$, а $p=0.6$. Переберите число наблюдений от 10 до 1000 с шагом 50 и нарисуйте график зависимости ошибки второго рода от числа наблюдений."
   ]
  },
  {
   "cell_type": "code",
   "execution_count": 32,
   "id": "bd1b4d11",
   "metadata": {},
   "outputs": [],
   "source": [
    "### ╰( ͡° ͜ʖ ͡° )つ▬▬ι═══════  bzzzzzzzzzz\n",
    "# will the code be with you\n",
    "\n",
    "sample_size = list(range(10, 1011, 50)) \n",
    "beta = []\n",
    "for n in sample_size:\n",
    "    res = get_simulation(n_obs=10**4, n=n, p_0=0.6)\n",
    "    beta.append(np.mean(res > 0.05))"
   ]
  },
  {
   "cell_type": "code",
   "execution_count": 36,
   "id": "79cb7438",
   "metadata": {},
   "outputs": [
    {
     "data": {
      "image/png": "[encoded data removed]",
      "text/plain": [
       "<Figure size 1000x500 with 1 Axes>"
      ]
     },
     "metadata": {},
     "output_type": "display_data"
    }
   ],
   "source": [
    "plt.figure(figsize = (10, 5))\n",
    "plt.plot(sample_size, beta)\n",
    "plt.title(\"Зависимость ошибки второго рода от размера выборки\", fontsize=18)\n",
    "plt.ylabel(\"Ошибка второго рода\")\n",
    "plt.xlabel(\"Размер выборки\");"
   ]
  },
  {
   "cell_type": "markdown",
   "id": "a5fc13e4",
   "metadata": {},
   "source": [
    "Объясните, почему нельзя нарисовать такой же график для ошибки первого рода? Что такое презумпция нулевой гипотезы? "
   ]
  },
  {
   "cell_type": "markdown",
   "id": "7a33139a",
   "metadata": {},
   "source": [
    "__г)__ Перебирите $\\alpha$ в диапазоне $(0; 1)$ с шагом $0.1$. Найдите для каждого значения $\\alpha$ значение ошибки второго рода $\\beta$. Изобразите на графике получившуюся зависимость для $n = 100$ и $n = 200$. Объясните, что получилось."
   ]
  },
  {
   "cell_type": "code",
   "execution_count": 50,
   "id": "34aebf64",
   "metadata": {},
   "outputs": [],
   "source": [
    "### ╰( ͡° ͜ʖ ͡° )つ▬▬ι═══════  bzzzzzzzzzz\n",
    "# will the code be with you\n",
    "\n",
    "res_100 = get_simulation(n_obs=10**4, n=100, p_0=0.6)\n",
    "res_200 = get_simulation(n_obs=10**4, n=200, p_0=0.6)"
   ]
  },
  {
   "cell_type": "code",
   "execution_count": 51,
   "id": "cdd89021",
   "metadata": {},
   "outputs": [],
   "source": [
    "alpha = np.linspace(0,1, 1000)[1:-1]\n",
    "beta_100 = []\n",
    "beta_200 = []\n",
    "\n",
    "for a in alpha:\n",
    "    beta_100.append(np.mean(res_100 > a))\n",
    "    beta_200.append(np.mean(res_200 > a))"
   ]
  },
  {
   "cell_type": "code",
   "execution_count": 52,
   "id": "8ea582b6",
   "metadata": {},
   "outputs": [
    {
     "data": {
      "image/png": "[encoded data removed]",
      "text/plain": [
       "<Figure size 1000x500 with 1 Axes>"
      ]
     },
     "metadata": {},
     "output_type": "display_data"
    }
   ],
   "source": [
    "plt.figure(figsize = (10, 5))\n",
    "plt.plot(alpha, beta_100, label='n=100')\n",
    "plt.plot(alpha, beta_200, label='n=200')\n",
    "plt.title(\"Зависимость ошибки второго рода от ошибки первого рода\", fontsize=18)\n",
    "plt.ylabel(\"Ошибка второго рода\")\n",
    "plt.xlabel(\"Ошибка первого рода\")\n",
    "plt.legend();"
   ]
  },
  {
   "cell_type": "markdown",
   "id": "4c2c4a5e",
   "metadata": {},
   "source": [
    "__MDE (minimal detectable effect) -__ минимальная величина, которую мы хотим поймать нашим АБ-тестом. В случае симуляций выше это была величина $p_a - p_0 = 0.6 - 0.5 = 0.1$. Чем меньше $MDE$, тем сложнее различить две ситуации и тем больше наблюдений нам понадобится."
   ]
  },
  {
   "cell_type": "markdown",
   "id": "7dda231d",
   "metadata": {},
   "source": [
    "Ошибку первого рода и MDE обычно фиксируют перед проведением АБ-теста. Ошибку второго рода мы контролируем с помощью числа наблюдений. На самом деле, для критерия рассмотренного выше, можно вывести формулу для поиска числа необходимых наблюдений:\n",
    "\n",
    "$$\n",
    "n(\\alpha, \\beta, MDE)= \\frac{\\hat{p}_A \\cdot (1 - \\hat{p}_A) + \\hat{p}_B \\cdot (1 - \\hat{p}_B)}{0.5 \\cdot MDE^2 } \\cdot (z_{1-\\alpha} + z_{1-\\beta})^2\n",
    "$$"
   ]
  },
  {
   "cell_type": "markdown",
   "id": "e4fd8f69",
   "metadata": {},
   "source": [
    "Вывод этой формулы можно найти, например, [в лекции Фила.](https://www.youtube.com/watch?v=LTlqyRI8cQ0&list=PLNKXA-74YGLjDOtDSZEFoy1yP-3AfiHUC&index=16) А ещё [прочитайте историю](https://absentis.livejournal.com/27153.html) про то, почему Коперник мазал бутеры маслом. "
   ]
  },
  {
   "cell_type": "markdown",
   "id": "243ecb4f",
   "metadata": {},
   "source": [
    "На практике, перед запуском эксперимента обычно готовят табличку, в которой смотрят на то, сколько наблюдений понадобится для поиска эффекта разного размера при разных значениях ошибок первого и второго рода. Для разных критериев в интернете можно найти калькуляторы размера выборок."
   ]
  },
  {
   "cell_type": "code",
   "execution_count": 58,
   "id": "59661ed1",
   "metadata": {},
   "outputs": [],
   "source": [
    "def get_n_with_p(MDE, alpha, beta, p1=0.010, p2=0.015):\n",
    "    za = stats.norm().ppf(1 - alpha)\n",
    "    zb = stats.norm().ppf(1 - beta)\n",
    "    ans = 1/2 *(p1 * (1-p1) + p2 * (1-p2)) * ((za + zb) / MDE)**2\n",
    "    return ans "
   ]
  },
  {
   "cell_type": "code",
   "execution_count": 61,
   "id": "e7ec2592",
   "metadata": {},
   "outputs": [
    {
     "data": {
      "text/html": [
       "<div>\n",
       "<style scoped>\n",
       "    .dataframe tbody tr th:only-of-type {\n",
       "        vertical-align: middle;\n",
       "    }\n",
       "\n",
       "    .dataframe tbody tr th {\n",
       "        vertical-align: top;\n",
       "    }\n",
       "\n",
       "    .dataframe thead th {\n",
       "        text-align: right;\n",
       "    }\n",
       "</style>\n",
       "<table border=\"1\" class=\"dataframe\">\n",
       "  <thead>\n",
       "    <tr style=\"text-align: right;\">\n",
       "      <th></th>\n",
       "      <th>0.001</th>\n",
       "      <th>0.010</th>\n",
       "      <th>0.020</th>\n",
       "      <th>0.050</th>\n",
       "      <th>0.100</th>\n",
       "      <th>0.200</th>\n",
       "    </tr>\n",
       "  </thead>\n",
       "  <tbody>\n",
       "    <tr>\n",
       "      <th>0.001</th>\n",
       "      <td>4712.695871</td>\n",
       "      <td>3619.741177</td>\n",
       "      <td>3264.569463</td>\n",
       "      <td>2766.195661</td>\n",
       "      <td>2358.003975</td>\n",
       "      <td>1907.312390</td>\n",
       "    </tr>\n",
       "    <tr>\n",
       "      <th>0.010</th>\n",
       "      <td>3619.741177</td>\n",
       "      <td>2670.769902</td>\n",
       "      <td>2366.979953</td>\n",
       "      <td>1945.678203</td>\n",
       "      <td>1605.964771</td>\n",
       "      <td>1238.194987</td>\n",
       "    </tr>\n",
       "    <tr>\n",
       "      <th>0.020</th>\n",
       "      <td>3264.569463</td>\n",
       "      <td>2366.979953</td>\n",
       "      <td>2081.526044</td>\n",
       "      <td>1687.728143</td>\n",
       "      <td>1372.451786</td>\n",
       "      <td>1034.273386</td>\n",
       "    </tr>\n",
       "    <tr>\n",
       "      <th>0.050</th>\n",
       "      <td>2766.195661</td>\n",
       "      <td>1945.678203</td>\n",
       "      <td>1687.728143</td>\n",
       "      <td>1335.185695</td>\n",
       "      <td>1056.564667</td>\n",
       "      <td>762.772999</td>\n",
       "    </tr>\n",
       "    <tr>\n",
       "      <th>0.100</th>\n",
       "      <td>2358.003975</td>\n",
       "      <td>1605.964771</td>\n",
       "      <td>1372.451786</td>\n",
       "      <td>1056.564667</td>\n",
       "      <td>810.511774</td>\n",
       "      <td>556.157565</td>\n",
       "    </tr>\n",
       "    <tr>\n",
       "      <th>0.200</th>\n",
       "      <td>1907.312390</td>\n",
       "      <td>1238.194987</td>\n",
       "      <td>1034.273386</td>\n",
       "      <td>762.772999</td>\n",
       "      <td>556.157565</td>\n",
       "      <td>349.559029</td>\n",
       "    </tr>\n",
       "  </tbody>\n",
       "</table>\n",
       "</div>"
      ],
      "text/plain": [
       "             0.001        0.010        0.020        0.050        0.100  \\\n",
       "0.001  4712.695871  3619.741177  3264.569463  2766.195661  2358.003975   \n",
       "0.010  3619.741177  2670.769902  2366.979953  1945.678203  1605.964771   \n",
       "0.020  3264.569463  2366.979953  2081.526044  1687.728143  1372.451786   \n",
       "0.050  2766.195661  1945.678203  1687.728143  1335.185695  1056.564667   \n",
       "0.100  2358.003975  1605.964771  1372.451786  1056.564667   810.511774   \n",
       "0.200  1907.312390  1238.194987  1034.273386   762.772999   556.157565   \n",
       "\n",
       "             0.200  \n",
       "0.001  1907.312390  \n",
       "0.010  1238.194987  \n",
       "0.020  1034.273386  \n",
       "0.050   762.772999  \n",
       "0.100   556.157565  \n",
       "0.200   349.559029  "
      ]
     },
     "execution_count": 61,
     "metadata": {},
     "output_type": "execute_result"
    }
   ],
   "source": [
    "MDE = 0.01 # Если мы хотим поймать маленькое изменение, надо очень много наблюдений\n",
    "\n",
    "alphas = [0.001, 0.01, 0.02, 0.05, 0.1, 0.2]\n",
    "betas = [0.001, 0.01, 0.02, 0.05, 0.1, 0.2]\n",
    "\n",
    "Errors = [ ]\n",
    "for a in alphas:\n",
    "    cur_error = []\n",
    "    for b in betas:\n",
    "        e = get_n_with_p(MDE, a, b)\n",
    "        cur_error.append(e)\n",
    "    Errors.append(cur_error)\n",
    "\n",
    "df_e = pd.DataFrame(Errors)\n",
    "df_e.columns = alphas\n",
    "df_e.index = betas\n",
    "df_e"
   ]
  },
  {
   "cell_type": "markdown",
   "id": "f8b7bca9",
   "metadata": {},
   "source": [
    "https://xkcd.com/1478/\n",
    "\n",
    "<img src=\"https://imgs.xkcd.com/comics/p_values_2x.png\" height=\"300\" width=\"300\">"
   ]
  },
  {
   "cell_type": "markdown",
   "id": "60b222ec",
   "metadata": {},
   "source": [
    "## Упражнение 3 (повторное тестирование)\n",
    "\n",
    "Жизнь исследователя Винни-Пуха прекрасна. Наблюдений много, гипотеза о равенстве математических ожиданий верна, а наблюдения нормальны.\n",
    "\n",
    "А именно, величины $X_1$, ..., $X_{n}$ независимы и нормальны $N(0;1)$, величины $Y_1$, ..., $Y_n$ независимы и нормальны $N(0;2)$. И пусть $n_x=100$ и $n_y=200$.\n",
    "\n",
    "Винни-Пух правда этого ничего не знает, потому что у него в голове опилки, и тестирует сначала гипотезу о равенстве дисперсий двух выборок на уровне значимости $5\\%$."
   ]
  },
  {
   "cell_type": "markdown",
   "id": "1525baf6",
   "metadata": {},
   "source": [
    "__а)__ Проведите $10^6$ экспериментов, то есть $10^6$ раз попробуйте за Винни-Пуха проверить гипотезу. Хорошо бы $10^8$, но оттестируйте сначала свой код на $10^6$. \n",
    "\n",
    "Постройте гистограмму распределения тестовой статистики о равенстве дисперсий. В скольки процентах случаев гипотеза о равенстве дисперсий отвергнута? "
   ]
  },
  {
   "cell_type": "code",
   "execution_count": 155,
   "id": "a5c6ff76",
   "metadata": {},
   "outputs": [
    {
     "name": "stderr",
     "output_type": "stream",
     "text": [
      "100%|██████████████████████████████| 1000000/1000000 [00:18<00:00, 54451.46it/s]\n"
     ]
    },
    {
     "name": "stdout",
     "output_type": "stream",
     "text": [
      "99.8224\n"
     ]
    },
    {
     "data": {
      "image/png": "[encoded data removed]",
      "text/plain": [
       "<Figure size 640x480 with 1 Axes>"
      ]
     },
     "metadata": {},
     "output_type": "display_data"
    }
   ],
   "source": [
    "# Код для случая, когда выборки одинакового размера n_x = n_y = 200\n",
    "# Сделайте симуляцию для выборок разного размера и сравните доли в задании а и б\n",
    "\n",
    "n = 200\n",
    "simulations_count = range(int(10**6))\n",
    "alpha = 0.05\n",
    "f_distibution = stats.f(n - 1, n - 1)\n",
    "\n",
    "left_border = f_distibution.ppf(alpha/2)\n",
    "right_border = f_distibution.ppf(1 - alpha/2)\n",
    "\n",
    "statistics = []\n",
    "in_interval = []\n",
    "\n",
    "for _ in tqdm(simulations_count):\n",
    "    x = np.random.normal(0, 1, n)\n",
    "    y = np.random.normal(0, math.sqrt(2), n)\n",
    "    statistic = x.var() / y.var()\n",
    "    statistics.append(statistic)\n",
    "    \n",
    "    if left_border < statistic < right_border:\n",
    "        in_interval.append((x, y))\n",
    "    \n",
    "\n",
    "xs = np.linspace(0, 2, 1000)\n",
    "ys = f_distibution.pdf(xs)\n",
    "\n",
    "plt.figure()\n",
    "plt.hist(statistics, bins=20, density=True)\n",
    "plt.plot(xs, ys, color=\"black\")\n",
    "\n",
    "print(np.mean([left_border > value or value > right_border \n",
    "               for value in statistics]) * 100)"
   ]
  },
  {
   "cell_type": "markdown",
   "id": "5c191206",
   "metadata": {},
   "source": [
    "__б)__ Если гипотеза о равенстве дисперсий не отвергается, то Винни использует $t$-статистику для проверки гипотезы о равенстве ожиданий при равенстве дисперсий. \n",
    "\n",
    "Для тех экспериментов, в которых гипотеза о равенстве дисперсий не отверглась, проверьте гипотезу о равенстве ожиданий на уровне значимости $5\\%$. \n",
    "\n",
    "Постройте гистограмму распределения $t$-статистики. В скольки процентах случаев гипотеза о равенстве ожиданий отвергнута?"
   ]
  },
  {
   "cell_type": "code",
   "execution_count": 158,
   "id": "97871fb8",
   "metadata": {},
   "outputs": [
    {
     "name": "stderr",
     "output_type": "stream",
     "text": [
      "100%|████████████████████████████████████| 1776/1776 [00:00<00:00, 44925.96it/s]"
     ]
    },
    {
     "name": "stdout",
     "output_type": "stream",
     "text": [
      "0.05574324324324324\n"
     ]
    },
    {
     "name": "stderr",
     "output_type": "stream",
     "text": [
      "\n"
     ]
    },
    {
     "data": {
      "image/png": "[encoded data removed]",
      "text/plain": [
       "<Figure size 640x480 with 1 Axes>"
      ]
     },
     "metadata": {},
     "output_type": "display_data"
    }
   ],
   "source": [
    "t_distibution = stats.t(2 * n - 2)\n",
    "\n",
    "alpha = 0.05\n",
    "left_border = t_distibution.ppf(alpha / 2)\n",
    "right_border = t_distibution.ppf(1 - alpha/2)\n",
    "\n",
    "statistics = []\n",
    "\n",
    "for x, y in tqdm(in_interval):\n",
    "    sp = math.sqrt(((n - 1) * x.var() + (n - 1) * y.var()) / (2 * n - 2))\n",
    "    statistics.append((x.mean() - y.mean()) / (sp * math.sqrt(1.0 / n + 1.0 / n)))\n",
    "\n",
    "xs = np.linspace(-3, 3, 1000)\n",
    "ys = t_distibution.pdf(xs)\n",
    "\n",
    "plt.figure()\n",
    "plt.hist(statistics, bins=20, density=True)\n",
    "plt.plot(xs, ys, color=\"black\")\n",
    "\n",
    "print(np.mean([left_border > value or value > right_border \n",
    "               for value in statistics]))\n",
    "\n",
    "# ошибка 1 рода похожа на 0.07, а не на 0.05"
   ]
  },
  {
   "cell_type": "markdown",
   "id": "23e9259b",
   "metadata": {},
   "source": [
    "__в)__ Словами объясните, почему нехорошо сначала тестировать на равенство дисперсий, а потом на равенство средних при равных дисперсиях, если на первом шаге гипотеза $H_0$ не отверглась. "
   ]
  },
  {
   "cell_type": "code",
   "execution_count": null,
   "id": "1af2d8a8",
   "metadata": {},
   "outputs": [],
   "source": [
    "'''\n",
    "Фактическая вероятность ошибки первого рода похожа на 0.06, а не на 0.05.\n",
    "Ошибка 1 рода - отвергнуть верную гипотезу. \n",
    "Это вызвано тем, что t-test мы можем использовать когда дисперсии равны,\n",
    "а не когда гипотеза о равенстве дисперсий не отвергнута. \n",
    "\n",
    "Для двухвыборочных тестов несоблюдение требования равенства дисперсий \n",
    "(приводит к увеличению ошибки 1-го рода) допустимо, если:\n",
    "* распределения соответствуют нормальному;\n",
    "* выборки отличаются по размеру не больше, чем на 10%\n",
    "'''\n"
   ]
  },
  {
   "cell_type": "markdown",
   "id": "9cfda07a",
   "metadata": {},
   "source": [
    "https://xkcd.com/882/\n",
    "    \n",
    "![](https://imgs.xkcd.com/comics/significant.png)"
   ]
  },
  {
   "cell_type": "markdown",
   "id": "e9312a79",
   "metadata": {},
   "source": [
    "## Упражнение 4 (распределение p-value)\n",
    "\n",
    "С помощью симуляций нарисуйте гистограмму для распределени p-value в случае верности нулевой гипотезы и в случае верности альтернативной гипотезы. Объясните, что означают такие распределения."
   ]
  },
  {
   "cell_type": "code",
   "execution_count": null,
   "id": "b9a135c4",
   "metadata": {},
   "outputs": [],
   "source": [
    "### ╰( ͡° ͜ʖ ͡° )つ▬▬ι═══════  bzzzzzzzzzz\n",
    "# will the code be with you"
   ]
  },
  {
   "cell_type": "markdown",
   "id": "5253e7c7",
   "metadata": {},
   "source": [
    "## Упражнение 5 (пересечение Vs разность)\n",
    "\n",
    "Иногда люди делают ужасное. Вместо того, чтобы проверить гипотезу о равенстве средних, они смотрят пересекаются ли доверительные интервалы. Так делать нельзя.\n",
    "\n",
    "Дело в том, что для одинаковых ошибок первого рода, $\\alpha$, ошибка второго рода, $\\beta$, для процедуры, основанной на доверительных интервалах, окажется выше. Задание состоит в том, чтобы это увидеть."
   ]
  },
  {
   "cell_type": "markdown",
   "id": "07acdb9a",
   "metadata": {},
   "source": [
    "### Процедура 1 (правильная):\n",
    "\n",
    "1. Собираем выборки $X_1, \\ldots, X_n$ и $Y_1, \\ldots, Y_n$;\n",
    "2. Находим значение статистики\n",
    "\n",
    "$$\n",
    "z_{obs} = \\frac{\\bar x - \\bar y}{\\sqrt{\\frac{s_x^2}{n_x} + \\frac{s_y^2}{n_y}}};\n",
    "$$\n",
    "\n",
    "3. Говорим, что по ЦПТ $z_{obs} \\overset{asy}{\\sim} N(0,1);$\n",
    "4. Находим критическое значение $z_{1 - \\frac{\\alpha}{2}}$;\n",
    "5. Если мы видим, что $|z_{obs}| <  z_{1 - \\frac{\\alpha}{2}}$, мы говорим, что гипотеза не отвергается. \n",
    "\n"
   ]
  },
  {
   "cell_type": "markdown",
   "id": "54df06d8",
   "metadata": {},
   "source": [
    "### Процедура 2 (мерзкая): \n",
    "\n",
    "1. Собираем выборки $X_1, \\ldots, X_n$ и $Y_1, \\ldots, Y_n$;\n",
    "2. Находим $\\bar x$ и $\\bar y$;\n",
    "3. Пользуясь ЦПТ и зная, что $\\bar x \\overset{asy}{\\sim} N \\left(\\mu_1,\\frac{s^2_x}{n_x} \\right)$ и $\\bar y \\overset{asy}{\\sim} N\\left(\\mu_2,\\frac{s^2_y}{n_y}\\right)$ строим для $\\mu_1$ и $\\mu_2$ доверительные интервалы;\n",
    "4. Если доверительные интервалы пересеклись, говорим, что гипотеза не отвергается. "
   ]
  },
  {
   "cell_type": "markdown",
   "id": "3161fb73",
   "metadata": {},
   "source": [
    "Зафиксируйте количество наблюдений, MDE и уровень значимости. Убедитесь с помощью симуляций в том, что ошибка второго рода для второй процедуры будет больше, чем для первой.\n",
    "\n",
    "Из-за того что мы строим два доверительных интервала вместо одного, ошибка 1 рода выходит из-под контроля. Какой она оказывается на самом деле?"
   ]
  },
  {
   "cell_type": "code",
   "execution_count": null,
   "id": "fbf3e572",
   "metadata": {},
   "outputs": [],
   "source": [
    "### ╰( ͡° ͜ʖ ͡° )つ▬▬ι═══════  bzzzzzzzzzz\n",
    "# will the code be with you"
   ]
  },
  {
   "cell_type": "markdown",
   "id": "64ecfab6",
   "metadata": {},
   "source": [
    "Для этого упражнения можно получить формулы в явном виде. Попробуйте сделать это. Готовый вывод можно найти [в лекции Фила.](https://www.youtube.com/watch?v=6Bcjc_0N_jw&list=PLNKXA-74YGLjDOtDSZEFoy1yP-3AfiHUC&index=17&t=3s)"
   ]
  }
 ],
 "metadata": {
  "kernelspec": {
   "display_name": "Python 3 (ipykernel)",
   "language": "python",
   "name": "python3"
  },
  "language_info": {
   "codemirror_mode": {
    "name": "ipython",
    "version": 3
   },
   "file_extension": ".py",
   "mimetype": "text/x-python",
   "name": "python",
   "nbconvert_exporter": "python",
   "pygments_lexer": "ipython3",
   "version": "3.10.9"
  }
 },
 "nbformat": 4,
 "nbformat_minor": 5
}
